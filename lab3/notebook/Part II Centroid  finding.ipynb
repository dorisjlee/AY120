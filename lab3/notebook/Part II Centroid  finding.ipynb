{
 "metadata": {
  "name": "",
  "signature": "sha256:0839c9766c33b9ae6aeaa12e37e8a099ed5e755a060a6ac9e78be4c90590f276"
 },
 "nbformat": 3,
 "nbformat_minor": 0,
 "worksheets": [
  {
   "cells": [
    {
     "cell_type": "code",
     "collapsed": false,
     "input": [
      "%pylab inline"
     ],
     "language": "python",
     "metadata": {},
     "outputs": [
      {
       "output_type": "stream",
       "stream": "stdout",
       "text": [
        "Populating the interactive namespace from numpy and matplotlib\n"
       ]
      }
     ],
     "prompt_number": 1
    },
    {
     "cell_type": "code",
     "collapsed": false,
     "input": [
      "cd ../data/2014Data/1016/"
     ],
     "language": "python",
     "metadata": {},
     "outputs": [
      {
       "output_type": "stream",
       "stream": "stdout",
       "text": [
        "/Users/dorislee/Desktop/Fall2014/AY120/lab3/data/2014Data/1016\n"
       ]
      }
     ],
     "prompt_number": 11
    },
    {
     "cell_type": "code",
     "collapsed": false,
     "input": [
      "import astropy.io.fits as pf\n",
      "import heapq"
     ],
     "language": "python",
     "metadata": {},
     "outputs": [],
     "prompt_number": 47
    },
    {
     "cell_type": "code",
     "collapsed": false,
     "input": [
      "fits1 = 'd142.fits'\n",
      "def find_centroid(filename,threshold):\n",
      "    x = pf.getdata(filename)\n",
      "    #See if we can use maximum values to automatically determine the threshold?\n",
      "#     print heapq.nlargest(5,x.flatten())\n",
      "#     return x[np.where(x>threshold)]\n",
      "    # return a coordinate list of where all the bright stars are\n",
      "    coord_lst =  np.where(x>threshold) \n",
      "    #Look around a certain radius the coordinate specified by the list\n",
      "    r = 3 #3pixels for now, sum the intensity profile around the star on a 3-by-3 box\n",
      "    \n",
      "    return coord_lst\n"
     ],
     "language": "python",
     "metadata": {},
     "outputs": [],
     "prompt_number": 58
    },
    {
     "cell_type": "code",
     "collapsed": false,
     "input": [
      "find_centroid(fits1,1000)"
     ],
     "language": "python",
     "metadata": {},
     "outputs": [
      {
       "metadata": {},
       "output_type": "pyout",
       "prompt_number": 59,
       "text": [
        "(array([   0,    0,    0, ..., 1023, 1023, 1023]),\n",
        " array([  25,   26,   27, ..., 1021, 1022, 1023]))"
       ]
      }
     ],
     "prompt_number": 59
    },
    {
     "cell_type": "code",
     "collapsed": false,
     "input": [
      "x = np.arange(9.).reshape(3, 3)\n",
      "x[np.where( x > 3.0 )]              "
     ],
     "language": "python",
     "metadata": {},
     "outputs": [
      {
       "metadata": {},
       "output_type": "pyout",
       "prompt_number": 43,
       "text": [
        "array([ 4.,  5.,  6.,  7.,  8.])"
       ]
      }
     ],
     "prompt_number": 43
    },
    {
     "cell_type": "markdown",
     "metadata": {},
     "source": [
      "$x = \\frac{\\sum_{i} x_i I_i}{\\sum_{i} I_i}$"
     ]
    },
    {
     "cell_type": "code",
     "collapsed": false,
     "input": [],
     "language": "python",
     "metadata": {},
     "outputs": []
    }
   ],
   "metadata": {}
  }
 ]
}