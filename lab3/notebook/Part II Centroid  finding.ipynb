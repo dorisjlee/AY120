{
 "metadata": {
  "name": "",
  "signature": "sha256:ef6cf324e10c2b3b75256bc7deee855cf060e2d094932d7978829d1f8b082a1a"
 },
 "nbformat": 3,
 "nbformat_minor": 0,
 "worksheets": [
  {
   "cells": [
    {
     "cell_type": "code",
     "collapsed": false,
     "input": [
      "%pylab inline"
     ],
     "language": "python",
     "metadata": {},
     "outputs": [
      {
       "output_type": "stream",
       "stream": "stdout",
       "text": [
        "Populating the interactive namespace from numpy and matplotlib\n"
       ]
      }
     ],
     "prompt_number": 1
    },
    {
     "cell_type": "code",
     "collapsed": false,
     "input": [
      "cd ../data/2014Data/1016/"
     ],
     "language": "python",
     "metadata": {},
     "outputs": [
      {
       "output_type": "stream",
       "stream": "stdout",
       "text": [
        "/Users/dorislee/Desktop/Fall2014/AY120/lab3/data/2014Data/1016\n"
       ]
      }
     ],
     "prompt_number": 11
    },
    {
     "cell_type": "code",
     "collapsed": false,
     "input": [
      "import astropy.io.fits as pf\n",
      "import heapq"
     ],
     "language": "python",
     "metadata": {},
     "outputs": [],
     "prompt_number": 47
    },
    {
     "cell_type": "code",
     "collapsed": false,
     "input": [
      "fits1 = 'd142.fits'\n",
      "def find_centroid(filename,threshold):\n",
      "    x = pf.getdata(filename)\n",
      "    #See if we can use maximum values to automatically determine the threshold?\n",
      "    print heapq.nlargest(5,x.flatten())\n",
      "    return x[np.where(x>threshold)]"
     ],
     "language": "python",
     "metadata": {},
     "outputs": [],
     "prompt_number": 52
    },
    {
     "cell_type": "code",
     "collapsed": false,
     "input": [
      "find_centroid(fits1,1000)"
     ],
     "language": "python",
     "metadata": {},
     "outputs": [
      {
       "output_type": "stream",
       "stream": "stdout",
       "text": [
        "[65535.0, 65535.0, 65535.0, 65370.0, 65293.0]\n"
       ]
      },
      {
       "metadata": {},
       "output_type": "pyout",
       "prompt_number": 53,
       "text": [
        "array([ 1007.,  1001.,  1018., ...,  1199.,  1223.,  1252.], dtype=float32)"
       ]
      }
     ],
     "prompt_number": 53
    },
    {
     "cell_type": "code",
     "collapsed": false,
     "input": [
      "x = np.arange(9.).reshape(3, 3)\n",
      "x[np.where( x > 3.0 )]              "
     ],
     "language": "python",
     "metadata": {},
     "outputs": [
      {
       "metadata": {},
       "output_type": "pyout",
       "prompt_number": 43,
       "text": [
        "array([ 4.,  5.,  6.,  7.,  8.])"
       ]
      }
     ],
     "prompt_number": 43
    },
    {
     "cell_type": "code",
     "collapsed": false,
     "input": [],
     "language": "python",
     "metadata": {},
     "outputs": []
    }
   ],
   "metadata": {}
  }
 ]
}