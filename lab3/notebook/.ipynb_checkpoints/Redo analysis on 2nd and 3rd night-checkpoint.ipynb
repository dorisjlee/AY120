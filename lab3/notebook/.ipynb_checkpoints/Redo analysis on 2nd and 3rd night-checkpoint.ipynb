{
 "metadata": {
  "name": "",
  "signature": "sha256:3130e66fa0b5f6035a57539215b162020a97be9969841eb596393d4ceff738ee"
 },
 "nbformat": 3,
 "nbformat_minor": 0,
 "worksheets": [
  {
   "cells": [
    {
     "cell_type": "heading",
     "level": 1,
     "metadata": {},
     "source": [
      "Tracking Asteriod Daphane"
     ]
    },
    {
     "cell_type": "code",
     "collapsed": false,
     "input": [
      "%pylab inline"
     ],
     "language": "python",
     "metadata": {},
     "outputs": [
      {
       "output_type": "stream",
       "stream": "stdout",
       "text": [
        "Populating the interactive namespace from numpy and matplotlib\n"
       ]
      }
     ],
     "prompt_number": 1
    },
    {
     "cell_type": "code",
     "collapsed": false,
     "input": [
      "import matplotlib.pyplot as plt, mpld3\n",
      "import astropy.io.fits as pf\n",
      "import heapq\n",
      "mpld3.enable_notebook()"
     ],
     "language": "python",
     "metadata": {},
     "outputs": [],
     "prompt_number": 2
    },
    {
     "cell_type": "code",
     "collapsed": false,
     "input": [
      "cd ../data/2013Data/101713/"
     ],
     "language": "python",
     "metadata": {},
     "outputs": [
      {
       "output_type": "stream",
       "stream": "stdout",
       "text": [
        "/Users/dorislee/Desktop/Fall2014/AY120/lab3/data/2013Data/101713\n"
       ]
      }
     ],
     "prompt_number": 3
    },
    {
     "cell_type": "code",
     "collapsed": false,
     "input": [
      "directory = \"101713\"\n",
      "datafile = 'd101.fits'\n",
      "flat1 = 'd106_101613flat.fits'\n",
      "vmin_setting = 1000\n",
      "vmax_setting = 5000"
     ],
     "language": "python",
     "metadata": {},
     "outputs": [],
     "prompt_number": 37
    },
    {
     "cell_type": "heading",
     "level": 1,
     "metadata": {},
     "source": [
      "Data Reduction Bias and Flats"
     ]
    },
    {
     "cell_type": "code",
     "collapsed": false,
     "input": [
      "def bsub (fits1,plot=False):\n",
      "    x =pf.getdata(fits1)\n",
      "    average = x\n",
      "    n=0\n",
      "    #Bias Subtraction\n",
      "    for i in np.arange(100,105):\n",
      "        dark = 'd{}.fits'.format(i)\n",
      "        hdulist = pf.open(dark)\n",
      "        max_val = max(hdulist[0].data.flatten())\n",
      "        np.delete(hdulist[0].data ,int(max_val))\n",
      "        average = average + hdulist[0].data\n",
      "        n = n + 1\n",
      "    xb = x - average / float(n)\n",
      "    if (plot):\n",
      "        plt.title(\"After Bias Subtraction\")\n",
      "        imp = plt.imshow(xb[600:300:-1],cmap='gray_r',vmin=1000,vmax=2000)#,norm=LogNorm()) \n",
      "        plt.colorbar()\n",
      "        plt.figure()\n",
      "        plt.title(\"Before Bias Subtraction\")\n",
      "        imp = plt.imshow(x[600:300:-1],cmap='gray_r',vmin=700,vmax=1500)#,norm=LogNorm()) \n",
      "        plt.colorbar()\n",
      "    return xb"
     ],
     "language": "python",
     "metadata": {},
     "outputs": [],
     "prompt_number": 5
    },
    {
     "cell_type": "code",
     "collapsed": false,
     "input": [
      "from matplotlib.colors import LogNorm\n",
      "xb = bsub(datafile)\n",
      "flat = pf.getdata(flat1)\n",
      "flatb = bsub(flat1) # Bias subtract flatb = flatb/np.median(flatb) # normalize\n",
      "processed =(xb/flatb)* median(flatb)"
     ],
     "language": "python",
     "metadata": {},
     "outputs": [],
     "prompt_number": 6
    },
    {
     "cell_type": "heading",
     "level": 1,
     "metadata": {},
     "source": [
      "Centroid-Finding on this Image "
     ]
    },
    {
     "cell_type": "markdown",
     "metadata": {},
     "source": [
      "Ok this matches  20:28:28.31 -13:34:34.2 on the Aladin Sky Atlas, so this is correctly displayed north up"
     ]
    },
    {
     "cell_type": "code",
     "collapsed": false,
     "input": [
      "# a = plt.hist(processed.flatten(),1000)\n",
      "# mean(processed.flatten())\n",
      "# std(processed.flatten())\n",
      "# imp = plt.imshow(processed[::-1],cmap='gray_r',vmin=vmin_setting,vmax=vmax_setting,origin=\"lower\")\n",
      "# plt.axis(\"tight\")\n",
      "# plt.colorbar()"
     ],
     "language": "python",
     "metadata": {},
     "outputs": [],
     "prompt_number": 38
    },
    {
     "cell_type": "code",
     "collapsed": false,
     "input": [
      "def find_centroid(data,threshold=40000,plot =False):\n",
      "    #Don't modify original data\n",
      "    x = np.copy(data)\n",
      "    x = x[::-1]\n",
      "    # we actually find that most of this stuff can be cut away by simply eliminating the stuff in overscan column (dark pixels)\n",
      "    x = x[:,:1024,] #Truncate the overscan columns\n",
      "    #See if we can use maximum values to automatically determine the threshold?\n",
      "    # print heapq.nlargest(5,x.flatten())\n",
      "    #Preprocessing: Masking Bad Columns\n",
      "#     x[100:,]=0\n",
      "#     Bad Column masking\n",
      "    x[:,1023:]=0\n",
      "    x[1023:,]=0\n",
      "    x[:,256]=0\n",
      "    x[255]=0\n",
      "    x[:,1002]=0\n",
      "    x[0,:]=0\n",
      "    #Four Corner Masking\n",
      "    x[950:,0:60,]=0\n",
      "    x[0:50,0:50,]=0\n",
      "    x[0:15,0:18,]=0\n",
      "    x[1016:,1016:,]=0\n",
      "    # **** Remember that your data is flipped around when you are plotting!! So you also need to do this when you are finding these values, or else these values are flipped. (This took 3 hours to debug!!)\n",
      "    coord_lst =  np.array(np.where(x>threshold))\n",
      "    if (plot):\n",
      "        plt.figure()\n",
      "        imp = plt.imshow(x,cmap='gray_r',vmin=vmin_setting,vmax=vmax_setting,origin=\"lower\") \n",
      "        plt.plot(coord_lst[1],coord_lst[0],'*',color='r')\n",
      "        plt.colorbar()\n",
      "        plt.axis(\"tight\")\n",
      "    # Finding centroid\n",
      "    star_data = [] #each star is a group of points, used later for centroid calculation\n",
      "    star_lst  = np.array([[],[],[]]) #each star is denoted by (x,y,brightness)\n",
      "    ################################################\n",
      "    # METHOD : Sum all values above threshold     #\n",
      "    ################################################\n",
      "    #Look around a certain radius the coordinate specified by the list\n",
      "#     r = 3 #3 pixels for now, sum the intensity profile around the star on a 3-by-3 box\n",
      "    star_data = []\n",
      "    for i in np.arange(coord_lst.shape[1]):\n",
      "    #     print a[0][i],a[1][i]\n",
      "        tmp = []\n",
      "        xi = coord_lst[0][i]\n",
      "        yi = coord_lst[1][i]\n",
      "        for n in np.arange(coord_lst.shape[1]): #looping through other points\n",
      "            nx = coord_lst[0][n]\n",
      "            ny = coord_lst[1][n]\n",
      "    #         print nx, ny\n",
      "            r_i = np.sqrt((nx-xi)**2+(ny-yi)**2)\n",
      "            if (r_i<20 and r_i!=0):\n",
      "    #             print r_i\n",
      "                tmp.append([nx,ny])#for clustering only, storing x,y locations\n",
      "        star_data.append(tmp)\n",
      "    prev_length = 0 #no length zero, enforce first to store\n",
      "    cleaned_star_data=[]\n",
      "    for i in star_data:\n",
      "        if prev_length!=len(i):\n",
      "            cleaned_star_data.append(i)        \n",
      "        prev_length  = len(i)\n",
      "    unique_len = set([len(i) for i in star_data ])\n",
      "#     assert len(unique_len)==len(cleaned_star_data)\n",
      "    return cleaned_star_data"
     ],
     "language": "python",
     "metadata": {},
     "outputs": [],
     "prompt_number": 18
    },
    {
     "cell_type": "code",
     "collapsed": false,
     "input": [
      "processed[::-1][530,440]"
     ],
     "language": "python",
     "metadata": {},
     "outputs": [
      {
       "metadata": {},
       "output_type": "pyout",
       "prompt_number": 19,
       "text": [
        "-165.41701"
       ]
      }
     ],
     "prompt_number": 19
    },
    {
     "cell_type": "code",
     "collapsed": false,
     "input": [
      "star_lst = find_centroid(processed,5000,False)"
     ],
     "language": "python",
     "metadata": {},
     "outputs": [],
     "prompt_number": 20
    },
    {
     "cell_type": "markdown",
     "metadata": {},
     "source": [
      "$x = \\frac{\\sum_{i} x_i I_i}{\\sum_{i} I_i}$"
     ]
    },
    {
     "cell_type": "code",
     "collapsed": false,
     "input": [
      "def centroid_calc(star_locs):\n",
      "    #given a list of grouped points, compute the centroid pixel position (round up to center pixel (int))\n",
      "#     print star_locs\n",
      "    x_lst = np.array(star_locs)[:,0]\n",
      "    y_lst = np.array(star_locs)[:,1]\n",
      "    I=[]\n",
      "    for i in np.arange(len(x_lst)):\n",
      "        I.append(processed[x_lst[i],y_lst[i]])\n",
      "    I = np.array(I)\n",
      "    x_cm = sum(x_lst*I)/sum(I)\n",
      "    y_cm = sum(y_lst*I)/sum(I)\n",
      "    #return x_cm, y_cm and intensity of star (summed over star)\n",
      "    return [x_cm,y_cm,sum(I)]"
     ],
     "language": "python",
     "metadata": {},
     "outputs": [],
     "prompt_number": 12
    },
    {
     "cell_type": "code",
     "collapsed": false,
     "input": [
      "x_lst=[]\n",
      "y_lst=[]\n",
      "img_data_stars = [[],[]]\n",
      "star_lst= [i for i in star_lst if len(i)>0]"
     ],
     "language": "python",
     "metadata": {},
     "outputs": [],
     "prompt_number": 13
    },
    {
     "cell_type": "code",
     "collapsed": false,
     "input": [
      "star_info=[]\n",
      "img_data_stars = [[],[]]\n",
      "for i in star_lst:\n",
      "    centroid = centroid_calc(i)\n",
      "    star_info.append(centroid)\n",
      "    imp = plt.imshow(processed[::-1],cmap='gray_r',vmin=vmin_setting,vmax=vmax_setting,origin=\"lower\")\n",
      "    img_data_stars[0].append(centroid[1])\n",
      "    img_data_stars[1].append(centroid[0])\n",
      "plt.plot(img_data_stars[0],img_data_stars[1],'*',color=\"red\") #Note the switch    \n",
      "plt.axis(\"tight\")\n",
      "#Visually verfied with above pattern"
     ],
     "language": "python",
     "metadata": {},
     "outputs": [
      {
       "metadata": {},
       "output_type": "pyout",
       "prompt_number": 14,
       "text": [
        "(-0.5, 1055.5, -0.5, 1023.5)"
       ]
      },
      {
       "html": [
        "\n",
        "\n",
        "<style>\n",
        "\n",
        "</style>\n",
        "\n",
        "<div id=\"fig_el2047145674814882531043589\"></div>\n",
        "<script>\n",
        "function mpld3_load_lib(url, callback){\n",
        "  var s = document.createElement('script');\n",
        "  s.src = url;\n",
        "  s.async = true;\n",
        "  s.onreadystatechange = s.onload = callback;\n",
        "  s.onerror = function(){console.warn(\"failed to load library \" + url);};\n",
        "  document.getElementsByTagName(\"head\")[0].appendChild(s);\n",
        "}\n",
        "\n",
        "if(typeof(mpld3) !== \"undefined\" && mpld3._mpld3IsLoaded){\n",
        "   // already loaded: just create the figure\n",
        "   !function(mpld3){\n",
        "       \n",
        "       mpld3.draw_figure(\"fig_el2047145674814882531043589\", {\"axes\": [{\"xlim\": [-0.5, 1055.5], \"yscale\": \"linear\", \"axesbg\": \"#FFFFFF\", \"texts\": [], \"zoomable\": true, \"images\": [{\"coordinates\": \"data\", \"zorder\": 0, \"extent\": [-0.5, 1055.5, -0.5, 1023.5], \"alpha\": null, \"data\": \"iVBORw0KGgoAAAANSUhEUgAAAXUAAAD5CAYAAADY+KXfAAAABHNCSVQICAgIfAhkiAAABvFJREFUeJzt3c+LTf8Dx/H3/RrTYDOZrgYryVZKibKmG5KNYkMWdvwH/BOSsmEjK2WDspSaYiNZkJSNqDFMTcyYjPvZSX39mOHOfd/7Oo/H+nTOa/XsdO6ZM61ut9strLpOp1Pu3btXewYwhFqt1rKP/d8q7gCgz0QdIIioAwQRdYAgog4QRNQBgog6QBBRBwgi6gBBRB0giKgDBBF1gCCiDhBE1AGCiDpAEFEHCCLqAEFEHSCIqAMEEXWAIKIOEETUAYKIOkAQUQcIIuoAQUQdIIioAwQRdYAgog4QRNQBgog6QBBRBwgi6gBBRD3czMxM7QmNt7i4WHsCDSLq4SYmJmpPaLzR0dHaE2gQUQcIIuoAQUQdWLb5+fly+PDhcv/+/dpT+IWR2gOA4XHx4sVy586d0u12y4EDB2rP4Sda3W63W3tEE3Q6nXLv3r3aM4Ah1Gq1ln2sxy8AQUQdIIioAwQRdYAgog4QRNQBgog6QBBRBwgi6gBBRB0giKgDBBF1gCCiDhBE1AGCiDpAEFH/wefPn8uTJ09qzwD4a6L+g/Xr15ddu3bVngHw10QdIIioAwQRdYAgog4QRNQBgoj6Hzx79qz2hKFw8+bN2hOAIuq/tbCwUC5fvlx7xlA4ceJE7QlAEfXfGhsbK1euXKk9A2DZRB0giKgDBBF1gCCiDhBE1AGCiDpAEFEHCCLqAEFEHSCIqAMEEXWAIKIOEETUAYKIOkAQUQcIIuoAQUQdIIioAwQRdYAgQxv1hYWFsm/fvvLp06faU4CGe/XqVe0J343UHvC3xsbGytTUVO0ZAGX79u21J3w3tHfqAPw/UQcIIuoAQUQdIIioAwQRdYAgog4QRNR/sLS0VHsCwD8R9R+sWbOm9gSAfyLqAEFEfZVcuHChnDt3rvYMoGGG9tsvg+7MmTNldHS09gygYdypr5Jt27aVrVu31p5RzdmzZ8vs7GztGdA47tRZFVevXq09ARrJnTpAEFEHCCLqAEFEHSCIqAMEEXWAIKIOEETUAYKIOkAQUQcIIuoAQUQdIIioAwQRdYAgog4QRNQBgog6QBBRb6jjx4+XVqtVjhw5UnsK0EOi3lDXrl0rpZRy6tSpykuAXvI/Shtqw4YNpdvt1p4B9Jg7dYAgog4QRNQBgog6QBBRBwgi6gBBRB0giKgDBBF1gCCiDhBE1AGCiDpAD83NzZUvX75Uu76oA/TQ3NxcWVpaqnZ9X2kE6KEtW7ZUvb47dYAgog4QRNQBgog6QBBRBwgi6gBBRB0giKgDBBF1gCCiDhBE1AGCiDpAEFEHCCLqAEFEHSCIqAMEEXVYpsXFxdoT4I9EHZZpdHS09gT4I1EHCCLqAEFEHSCIqAMEEXWAIKIOEETUAYKIOkAQUQcIIur/4MOHD2ViYqJ0u93aUwBKKaWM1B4wzDZu3FhmZmZqzwD4zp06QBBRBwgi6gBBRB0giKgDBBF1gCCiDhBE1AGCiDpAEFEfMNPT0+X169erfp3nz5+XkZGR8vjx41W/FtA/PhMwYNrtdmm326t+ncXFxTI+Pl5279696tcC+kfUG2rnzp3l/fv3tWcAPebxC0AQUQcIIuoAQUQdIIioAwQRdYAgPY36169fy7dv33p5SgBWoGdRb7fbZe3ateXgwYO9OiUAK9SzqD99+rTs3bu33Lp1q1enJJh/2A2ro2d/Ubp58+YyNTXVq9MRbmJiovYEiOSHUoAgog4QRNQBgog6QBBRBwgi6gBBRB0giKgDBBF1gCCiDhBE1AGCtLrdbrf2iCZ49OhR2bNnT+0ZwBBqtVrLP1bUAQbbSqLu8QtAEFHvk06nU3sC0ACiDhBE1AGCiDpAEFHvk5MnT9aeADSAVxoBBpxXGgEaStT7xCuNQD+IOkAQz9QBBpxn6gANJep90stn6u/evStv3rzp2fmAHCO1B7Byk5OTtScAA8qd+grNzs6Whw8f1p4B8FOivkLj4+Nl//79tWcA/JSoAwQRdYAg3lMHGHDeUwfiXL9+vfaEobCiqB86dKi8ePFitbYA/NLp06drTxgKHr8ADDiPXwbQ3bt3a08AGkDU++TSpUu1JwANIOoAQUQdIIgfSgEGnB9KARpK1AGCiDpAEFEHCCLqAEFEHSCIqAMEEXWAIKIOEETUAYKIep/Mzs7WngAMmAcPHpRWq1Vu3LjRs3P69kufvHz5suzYsaP2DGBATE9Pl02bNpVSSpmcnCxv37795bG+/TKAzp8/X3sCMEDa7Xb5+PFjuX379m+DvlKiDlDJ+Ph4OXr0aE/PKeoAQUQdIIiol1Lm5+drTwDoCVEvpaxbt672BICeEHWAIN5TBxhw3lMfQJ1Op/YEoAFEHSCIqPfJsWPHak8AGuA/Idnx4KwO02QAAAAASUVORK5CYII=\", \"id\": \"el204714681066768\"}, {\"coordinates\": \"data\", \"zorder\": 0, \"extent\": [-0.5, 1055.5, -0.5, 1023.5], \"alpha\": null, \"data\": \"iVBORw0KGgoAAAANSUhEUgAAAXUAAAD5CAYAAADY+KXfAAAABHNCSVQICAgIfAhkiAAABvFJREFUeJzt3c+LTf8Dx/H3/RrTYDOZrgYryVZKibKmG5KNYkMWdvwH/BOSsmEjK2WDspSaYiNZkJSNqDFMTcyYjPvZSX39mOHOfd/7Oo/H+nTOa/XsdO6ZM61ut9strLpOp1Pu3btXewYwhFqt1rKP/d8q7gCgz0QdIIioAwQRdYAgog4QRNQBgog6QBBRBwgi6gBBRB0giKgDBBF1gCCiDhBE1AGCiDpAEFEHCCLqAEFEHSCIqAMEEXWAIKIOEETUAYKIOkAQUQcIIuoAQUQdIIioAwQRdYAgog4QRNQBgog6QBBRBwgi6gBBRD3czMxM7QmNt7i4WHsCDSLq4SYmJmpPaLzR0dHaE2gQUQcIIuoAQUQdWLb5+fly+PDhcv/+/dpT+IWR2gOA4XHx4sVy586d0u12y4EDB2rP4Sda3W63W3tEE3Q6nXLv3r3aM4Ah1Gq1ln2sxy8AQUQdIIioAwQRdYAgog4QRNQBgog6QBBRBwgi6gBBRB0giKgDBBF1gCCiDhBE1AGCiDpAEFH/wefPn8uTJ09qzwD4a6L+g/Xr15ddu3bVngHw10QdIIioAwQRdYAgog4QRNQBgoj6Hzx79qz2hKFw8+bN2hOAIuq/tbCwUC5fvlx7xlA4ceJE7QlAEfXfGhsbK1euXKk9A2DZRB0giKgDBBF1gCCiDhBE1AGCiDpAEFEHCCLqAEFEHSCIqAMEEXWAIKIOEETUAYKIOkAQUQcIIuoAQUQdIIioAwQRdYAgQxv1hYWFsm/fvvLp06faU4CGe/XqVe0J343UHvC3xsbGytTUVO0ZAGX79u21J3w3tHfqAPw/UQcIIuoAQUQdIIioAwQRdYAgog4QRNR/sLS0VHsCwD8R9R+sWbOm9gSAfyLqAEFEfZVcuHChnDt3rvYMoGGG9tsvg+7MmTNldHS09gygYdypr5Jt27aVrVu31p5RzdmzZ8vs7GztGdA47tRZFVevXq09ARrJnTpAEFEHCCLqAEFEHSCIqAMEEXWAIKIOEETUAYKIOkAQUQcIIuoAQUQdIIioAwQRdYAgog4QRNQBgog6QBBRb6jjx4+XVqtVjhw5UnsK0EOi3lDXrl0rpZRy6tSpykuAXvI/Shtqw4YNpdvt1p4B9Jg7dYAgog4QRNQBgog6QBBRBwgi6gBBRB0giKgDBBF1gCCiDhBE1AGCiDpAD83NzZUvX75Uu76oA/TQ3NxcWVpaqnZ9X2kE6KEtW7ZUvb47dYAgog4QRNQBgog6QBBRBwgi6gBBRB0giKgDBBF1gCCiDhBE1AGCiDpAEFEHCCLqAEFEHSCIqAMEEXVYpsXFxdoT4I9EHZZpdHS09gT4I1EHCCLqAEFEHSCIqAMEEXWAIKIOEETUAYKIOkAQUQcIIur/4MOHD2ViYqJ0u93aUwBKKaWM1B4wzDZu3FhmZmZqzwD4zp06QBBRBwgi6gBBRB0giKgDBBF1gCCiDhBE1AGCiDpAEFEfMNPT0+X169erfp3nz5+XkZGR8vjx41W/FtA/PhMwYNrtdmm326t+ncXFxTI+Pl5279696tcC+kfUG2rnzp3l/fv3tWcAPebxC0AQUQcIIuoAQUQdIIioAwQRdYAgPY36169fy7dv33p5SgBWoGdRb7fbZe3ateXgwYO9OiUAK9SzqD99+rTs3bu33Lp1q1enJJh/2A2ro2d/Ubp58+YyNTXVq9MRbmJiovYEiOSHUoAgog4QRNQBgog6QBBRBwgi6gBBRB0giKgDBBF1gCCiDhBE1AGCtLrdbrf2iCZ49OhR2bNnT+0ZwBBqtVrLP1bUAQbbSqLu8QtAEFHvk06nU3sC0ACiDhBE1AGCiDpAEFHvk5MnT9aeADSAVxoBBpxXGgEaStT7xCuNQD+IOkAQz9QBBpxn6gANJep90stn6u/evStv3rzp2fmAHCO1B7Byk5OTtScAA8qd+grNzs6Whw8f1p4B8FOivkLj4+Nl//79tWcA/JSoAwQRdYAg3lMHGHDeUwfiXL9+vfaEobCiqB86dKi8ePFitbYA/NLp06drTxgKHr8ADDiPXwbQ3bt3a08AGkDU++TSpUu1JwANIOoAQUQdIIgfSgEGnB9KARpK1AGCiDpAEFEHCCLqAEFEHSCIqAMEEXWAIKIOEETUAYKIep/Mzs7WngAMmAcPHpRWq1Vu3LjRs3P69kufvHz5suzYsaP2DGBATE9Pl02bNpVSSpmcnCxv37795bG+/TKAzp8/X3sCMEDa7Xb5+PFjuX379m+DvlKiDlDJ+Ph4OXr0aE/PKeoAQUQdIIiol1Lm5+drTwDoCVEvpaxbt672BICeEHWAIN5TBxhw3lMfQJ1Op/YEoAFEHSCIqPfJsWPHak8AGuA/Idnx4KwO02QAAAAASUVORK5CYII=\", \"id\": \"el204714603080912\"}, {\"coordinates\": \"data\", \"zorder\": 0, \"extent\": [-0.5, 1055.5, -0.5, 1023.5], \"alpha\": null, \"data\": \"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\", \"id\": \"el204714603082000\"}, {\"coordinates\": \"data\", \"zorder\": 0, \"extent\": [-0.5, 1055.5, -0.5, 1023.5], \"alpha\": null, \"data\": \"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\", \"id\": \"el204714603084112\"}, {\"coordinates\": \"data\", \"zorder\": 0, \"extent\": [-0.5, 1055.5, -0.5, 1023.5], \"alpha\": null, \"data\": \"iVBORw0KGgoAAAANSUhEUgAAAXUAAAD5CAYAAADY+KXfAAAABHNCSVQICAgIfAhkiAAABvFJREFUeJzt3c+LTf8Dx/H3/RrTYDOZrgYryVZKibKmG5KNYkMWdvwH/BOSsmEjK2WDspSaYiNZkJSNqDFMTcyYjPvZSX39mOHOfd/7Oo/H+nTOa/XsdO6ZM61ut9strLpOp1Pu3btXewYwhFqt1rKP/d8q7gCgz0QdIIioAwQRdYAgog4QRNQBgog6QBBRBwgi6gBBRB0giKgDBBF1gCCiDhBE1AGCiDpAEFEHCCLqAEFEHSCIqAMEEXWAIKIOEETUAYKIOkAQUQcIIuoAQUQdIIioAwQRdYAgog4QRNQBgog6QBBRBwgi6gBBRD3czMxM7QmNt7i4WHsCDSLq4SYmJmpPaLzR0dHaE2gQUQcIIuoAQUQdWLb5+fly+PDhcv/+/dpT+IWR2gOA4XHx4sVy586d0u12y4EDB2rP4Sda3W63W3tEE3Q6nXLv3r3aM4Ah1Gq1ln2sxy8AQUQdIIioAwQRdYAgog4QRNQBgog6QBBRBwgi6gBBRB0giKgDBBF1gCCiDhBE1AGCiDpAEFH/wefPn8uTJ09qzwD4a6L+g/Xr15ddu3bVngHw10QdIIioAwQRdYAgog4QRNQBgoj6Hzx79qz2hKFw8+bN2hOAIuq/tbCwUC5fvlx7xlA4ceJE7QlAEfXfGhsbK1euXKk9A2DZRB0giKgDBBF1gCCiDhBE1AGCiDpAEFEHCCLqAEFEHSCIqAMEEXWAIKIOEETUAYKIOkAQUQcIIuoAQUQdIIioAwQRdYAgQxv1hYWFsm/fvvLp06faU4CGe/XqVe0J343UHvC3xsbGytTUVO0ZAGX79u21J3w3tHfqAPw/UQcIIuoAQUQdIIioAwQRdYAgog4QRNR/sLS0VHsCwD8R9R+sWbOm9gSAfyLqAEFEfZVcuHChnDt3rvYMoGGG9tsvg+7MmTNldHS09gygYdypr5Jt27aVrVu31p5RzdmzZ8vs7GztGdA47tRZFVevXq09ARrJnTpAEFEHCCLqAEFEHSCIqAMEEXWAIKIOEETUAYKIOkAQUQcIIuoAQUQdIIioAwQRdYAgog4QRNQBgog6QBBRb6jjx4+XVqtVjhw5UnsK0EOi3lDXrl0rpZRy6tSpykuAXvI/Shtqw4YNpdvt1p4B9Jg7dYAgog4QRNQBgog6QBBRBwgi6gBBRB0giKgDBBF1gCCiDhBE1AGCiDpAD83NzZUvX75Uu76oA/TQ3NxcWVpaqnZ9X2kE6KEtW7ZUvb47dYAgog4QRNQBgog6QBBRBwgi6gBBRB0giKgDBBF1gCCiDhBE1AGCiDpAEFEHCCLqAEFEHSCIqAMEEXVYpsXFxdoT4I9EHZZpdHS09gT4I1EHCCLqAEFEHSCIqAMEEXWAIKIOEETUAYKIOkAQUQcIIur/4MOHD2ViYqJ0u93aUwBKKaWM1B4wzDZu3FhmZmZqzwD4zp06QBBRBwgi6gBBRB0giKgDBBF1gCCiDhBE1AGCiDpAEFEfMNPT0+X169erfp3nz5+XkZGR8vjx41W/FtA/PhMwYNrtdmm326t+ncXFxTI+Pl5279696tcC+kfUG2rnzp3l/fv3tWcAPebxC0AQUQcIIuoAQUQdIIioAwQRdYAgPY36169fy7dv33p5SgBWoGdRb7fbZe3ateXgwYO9OiUAK9SzqD99+rTs3bu33Lp1q1enJJh/2A2ro2d/Ubp58+YyNTXVq9MRbmJiovYEiOSHUoAgog4QRNQBgog6QBBRBwgi6gBBRB0giKgDBBF1gCCiDhBE1AGCtLrdbrf2iCZ49OhR2bNnT+0ZwBBqtVrLP1bUAQbbSqLu8QtAEFHvk06nU3sC0ACiDhBE1AGCiDpAEFHvk5MnT9aeADSAVxoBBpxXGgEaStT7xCuNQD+IOkAQz9QBBpxn6gANJep90stn6u/evStv3rzp2fmAHCO1B7Byk5OTtScAA8qd+grNzs6Whw8f1p4B8FOivkLj4+Nl//79tWcA/JSoAwQRdYAg3lMHGHDeUwfiXL9+vfaEobCiqB86dKi8ePFitbYA/NLp06drTxgKHr8ADDiPXwbQ3bt3a08AGkDU++TSpUu1JwANIOoAQUQdIIgfSgEGnB9KARpK1AGCiDpAEFEHCCLqAEFEHSCIqAMEEXWAIKIOEETUAYKIep/Mzs7WngAMmAcPHpRWq1Vu3LjRs3P69kufvHz5suzYsaP2DGBATE9Pl02bNpVSSpmcnCxv37795bG+/TKAzp8/X3sCMEDa7Xb5+PFjuX379m+DvlKiDlDJ+Ph4OXr0aE/PKeoAQUQdIIiol1Lm5+drTwDoCVEvpaxbt672BICeEHWAIN5TBxhw3lMfQJ1Op/YEoAFEHSCIqPfJsWPHak8AGuA/Idnx4KwO02QAAAAASUVORK5CYII=\", \"id\": \"el204714570179472\"}, {\"coordinates\": \"data\", \"zorder\": 0, \"extent\": [-0.5, 1055.5, -0.5, 1023.5], \"alpha\": null, \"data\": \"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\", \"id\": \"el204714681490832\"}, {\"coordinates\": \"data\", \"zorder\": 0, \"extent\": [-0.5, 1055.5, -0.5, 1023.5], \"alpha\": null, \"data\": \"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\", \"id\": \"el204714681491152\"}], \"xdomain\": [-0.5, 1055.5], \"ylim\": [-0.5, 1023.5], \"paths\": [], \"sharey\": [], \"sharex\": [], \"axesbgalpha\": null, \"axes\": [{\"scale\": \"linear\", \"tickformat\": null, \"grid\": {\"gridOn\": false}, \"fontsize\": 10.0, \"position\": \"bottom\", \"nticks\": 8, \"tickvalues\": null}, {\"scale\": \"linear\", \"tickformat\": null, \"grid\": {\"gridOn\": false}, \"fontsize\": 10.0, \"position\": \"left\", \"nticks\": 8, \"tickvalues\": null}], \"lines\": [], \"markers\": [{\"edgecolor\": \"#000000\", \"facecolor\": \"#FF0000\", \"edgewidth\": 0.5, \"yindex\": 1, \"coordinates\": \"data\", \"zorder\": 2, \"markerpath\": [[[1.8369701987210297e-16, -3.0], [-0.6735419450314403, -0.9270509558202635], [-2.8531695488854605, -0.9270509831248426], [-1.089813759909584, 0.3541019558202634], [-1.7633557568774196, 2.427050983124842], [-2.1049804767740306e-16, 1.145898], [1.7633557568774187, 2.427050983124843], [1.089813759909584, 0.35410195582026377], [2.853169548885461, -0.9270509831248415], [0.6735419450314407, -0.9270509558202634]], [\"M\", \"L\", \"L\", \"L\", \"L\", \"L\", \"L\", \"L\", \"L\", \"L\", \"Z\"]], \"alpha\": 1, \"xindex\": 0, \"data\": \"data01\", \"id\": \"el204714681494480pts\"}], \"id\": \"el204714681078672\", \"ydomain\": [-0.5, 1023.5], \"collections\": [], \"xscale\": \"linear\", \"bbox\": [0.125, 0.125, 0.77500000000000002, 0.77500000000000002]}], \"height\": 320.0, \"width\": 480.0, \"plugins\": [{\"type\": \"reset\"}, {\"enabled\": false, \"button\": true, \"type\": \"zoom\"}, {\"enabled\": false, \"button\": true, \"type\": \"boxzoom\"}], \"data\": {\"data01\": [[999.6663793779273, 47.27783212414384], [54.59421230832808, 267.9517762294444], [360.564261288452, 308.0140547470237], [360.3807759758598, 534.5887090263905], [245.80908473436642, 621.1426962466182], [204.5029232111156, 760.0], [762.9709849779476, 862.0320781206923]]}, \"id\": \"el204714567481488\"});\n",
        "   }(mpld3);\n",
        "}else if(typeof define === \"function\" && define.amd){\n",
        "   // require.js is available: use it to load d3/mpld3\n",
        "   require.config({paths: {d3: \"https://mpld3.github.io/js/d3.v3.min\"}});\n",
        "   require([\"d3\"], function(d3){\n",
        "      window.d3 = d3;\n",
        "      mpld3_load_lib(\"https://mpld3.github.io/js/mpld3.v0.2.js\", function(){\n",
        "         \n",
        "         mpld3.draw_figure(\"fig_el2047145674814882531043589\", {\"axes\": [{\"xlim\": [-0.5, 1055.5], \"yscale\": \"linear\", \"axesbg\": \"#FFFFFF\", \"texts\": [], \"zoomable\": true, \"images\": [{\"coordinates\": \"data\", \"zorder\": 0, \"extent\": [-0.5, 1055.5, -0.5, 1023.5], \"alpha\": null, \"data\": \"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\", \"id\": \"el204714681066768\"}, {\"coordinates\": \"data\", \"zorder\": 0, \"extent\": [-0.5, 1055.5, -0.5, 1023.5], \"alpha\": null, \"data\": \"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\", \"id\": \"el204714603080912\"}, {\"coordinates\": \"data\", \"zorder\": 0, \"extent\": [-0.5, 1055.5, -0.5, 1023.5], \"alpha\": null, \"data\": \"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\", \"id\": \"el204714603082000\"}, {\"coordinates\": \"data\", \"zorder\": 0, \"extent\": [-0.5, 1055.5, -0.5, 1023.5], \"alpha\": null, \"data\": \"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\", \"id\": \"el204714603084112\"}, {\"coordinates\": \"data\", \"zorder\": 0, \"extent\": [-0.5, 1055.5, -0.5, 1023.5], \"alpha\": null, \"data\": \"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\", \"id\": \"el204714570179472\"}, {\"coordinates\": \"data\", \"zorder\": 0, \"extent\": [-0.5, 1055.5, -0.5, 1023.5], \"alpha\": null, \"data\": \"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\", \"id\": \"el204714681490832\"}, {\"coordinates\": \"data\", \"zorder\": 0, \"extent\": [-0.5, 1055.5, -0.5, 1023.5], \"alpha\": null, \"data\": \"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\", \"id\": \"el204714681491152\"}], \"xdomain\": [-0.5, 1055.5], \"ylim\": [-0.5, 1023.5], \"paths\": [], \"sharey\": [], \"sharex\": [], \"axesbgalpha\": null, \"axes\": [{\"scale\": \"linear\", \"tickformat\": null, \"grid\": {\"gridOn\": false}, \"fontsize\": 10.0, \"position\": \"bottom\", \"nticks\": 8, \"tickvalues\": null}, {\"scale\": \"linear\", \"tickformat\": null, \"grid\": {\"gridOn\": false}, \"fontsize\": 10.0, \"position\": \"left\", \"nticks\": 8, \"tickvalues\": null}], \"lines\": [], \"markers\": [{\"edgecolor\": \"#000000\", \"facecolor\": \"#FF0000\", \"edgewidth\": 0.5, \"yindex\": 1, \"coordinates\": \"data\", \"zorder\": 2, \"markerpath\": [[[1.8369701987210297e-16, -3.0], [-0.6735419450314403, -0.9270509558202635], [-2.8531695488854605, -0.9270509831248426], [-1.089813759909584, 0.3541019558202634], [-1.7633557568774196, 2.427050983124842], [-2.1049804767740306e-16, 1.145898], [1.7633557568774187, 2.427050983124843], [1.089813759909584, 0.35410195582026377], [2.853169548885461, -0.9270509831248415], [0.6735419450314407, -0.9270509558202634]], [\"M\", \"L\", \"L\", \"L\", \"L\", \"L\", \"L\", \"L\", \"L\", \"L\", \"Z\"]], \"alpha\": 1, \"xindex\": 0, \"data\": \"data01\", \"id\": \"el204714681494480pts\"}], \"id\": \"el204714681078672\", \"ydomain\": [-0.5, 1023.5], \"collections\": [], \"xscale\": \"linear\", \"bbox\": [0.125, 0.125, 0.77500000000000002, 0.77500000000000002]}], \"height\": 320.0, \"width\": 480.0, \"plugins\": [{\"type\": \"reset\"}, {\"enabled\": false, \"button\": true, \"type\": \"zoom\"}, {\"enabled\": false, \"button\": true, \"type\": \"boxzoom\"}], \"data\": {\"data01\": [[999.6663793779273, 47.27783212414384], [54.59421230832808, 267.9517762294444], [360.564261288452, 308.0140547470237], [360.3807759758598, 534.5887090263905], [245.80908473436642, 621.1426962466182], [204.5029232111156, 760.0], [762.9709849779476, 862.0320781206923]]}, \"id\": \"el204714567481488\"});\n",
        "      });\n",
        "    });\n",
        "}else{\n",
        "    // require.js not available: dynamically load d3 & mpld3\n",
        "    mpld3_load_lib(\"https://mpld3.github.io/js/d3.v3.min.js\", function(){\n",
        "         mpld3_load_lib(\"https://mpld3.github.io/js/mpld3.v0.2.js\", function(){\n",
        "                 \n",
        "                 mpld3.draw_figure(\"fig_el2047145674814882531043589\", {\"axes\": [{\"xlim\": [-0.5, 1055.5], \"yscale\": \"linear\", \"axesbg\": \"#FFFFFF\", \"texts\": [], \"zoomable\": true, \"images\": [{\"coordinates\": \"data\", \"zorder\": 0, \"extent\": [-0.5, 1055.5, -0.5, 1023.5], \"alpha\": null, \"data\": \"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\", \"id\": \"el204714681066768\"}, {\"coordinates\": \"data\", \"zorder\": 0, \"extent\": [-0.5, 1055.5, -0.5, 1023.5], \"alpha\": null, \"data\": \"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\", \"id\": \"el204714603080912\"}, {\"coordinates\": \"data\", \"zorder\": 0, \"extent\": [-0.5, 1055.5, -0.5, 1023.5], \"alpha\": null, \"data\": \"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\", \"id\": \"el204714603082000\"}, {\"coordinates\": \"data\", \"zorder\": 0, \"extent\": [-0.5, 1055.5, -0.5, 1023.5], \"alpha\": null, \"data\": \"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\", \"id\": \"el204714603084112\"}, {\"coordinates\": \"data\", \"zorder\": 0, \"extent\": [-0.5, 1055.5, -0.5, 1023.5], \"alpha\": null, \"data\": \"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\", \"id\": \"el204714570179472\"}, {\"coordinates\": \"data\", \"zorder\": 0, \"extent\": [-0.5, 1055.5, -0.5, 1023.5], \"alpha\": null, \"data\": \"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\", \"id\": \"el204714681490832\"}, {\"coordinates\": \"data\", \"zorder\": 0, \"extent\": [-0.5, 1055.5, -0.5, 1023.5], \"alpha\": null, \"data\": \"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\", \"id\": \"el204714681491152\"}], \"xdomain\": [-0.5, 1055.5], \"ylim\": [-0.5, 1023.5], \"paths\": [], \"sharey\": [], \"sharex\": [], \"axesbgalpha\": null, \"axes\": [{\"scale\": \"linear\", \"tickformat\": null, \"grid\": {\"gridOn\": false}, \"fontsize\": 10.0, \"position\": \"bottom\", \"nticks\": 8, \"tickvalues\": null}, {\"scale\": \"linear\", \"tickformat\": null, \"grid\": {\"gridOn\": false}, \"fontsize\": 10.0, \"position\": \"left\", \"nticks\": 8, \"tickvalues\": null}], \"lines\": [], \"markers\": [{\"edgecolor\": \"#000000\", \"facecolor\": \"#FF0000\", \"edgewidth\": 0.5, \"yindex\": 1, \"coordinates\": \"data\", \"zorder\": 2, \"markerpath\": [[[1.8369701987210297e-16, -3.0], [-0.6735419450314403, -0.9270509558202635], [-2.8531695488854605, -0.9270509831248426], [-1.089813759909584, 0.3541019558202634], [-1.7633557568774196, 2.427050983124842], [-2.1049804767740306e-16, 1.145898], [1.7633557568774187, 2.427050983124843], [1.089813759909584, 0.35410195582026377], [2.853169548885461, -0.9270509831248415], [0.6735419450314407, -0.9270509558202634]], [\"M\", \"L\", \"L\", \"L\", \"L\", \"L\", \"L\", \"L\", \"L\", \"L\", \"Z\"]], \"alpha\": 1, \"xindex\": 0, \"data\": \"data01\", \"id\": \"el204714681494480pts\"}], \"id\": \"el204714681078672\", \"ydomain\": [-0.5, 1023.5], \"collections\": [], \"xscale\": \"linear\", \"bbox\": [0.125, 0.125, 0.77500000000000002, 0.77500000000000002]}], \"height\": 320.0, \"width\": 480.0, \"plugins\": [{\"type\": \"reset\"}, {\"enabled\": false, \"button\": true, \"type\": \"zoom\"}, {\"enabled\": false, \"button\": true, \"type\": \"boxzoom\"}], \"data\": {\"data01\": [[999.6663793779273, 47.27783212414384], [54.59421230832808, 267.9517762294444], [360.564261288452, 308.0140547470237], [360.3807759758598, 534.5887090263905], [245.80908473436642, 621.1426962466182], [204.5029232111156, 760.0], [762.9709849779476, 862.0320781206923]]}, \"id\": \"el204714567481488\"});\n",
        "            })\n",
        "         });\n",
        "}\n",
        "</script>"
       ],
       "metadata": {},
       "output_type": "display_data",
       "png": "[encoded data removed]",
       "text": [
        "<matplotlib.figure.Figure at 0x1103e3c90>"
       ]
      }
     ],
     "prompt_number": 14
    },
    {
     "cell_type": "heading",
     "level": 1,
     "metadata": {},
     "source": [
      "Matching with USNO Catalog"
     ]
    },
    {
     "cell_type": "markdown",
     "metadata": {},
     "source": [
      "subtract 00:00:30 from RA and 00:12:00 from Dec from the numbers you get from fits header"
     ]
    },
    {
     "cell_type": "code",
     "collapsed": false,
     "input": [
      "#HA to DEG Converter\n",
      "ras = '19:34:34.79' \n",
      "des = '-10:01:48.7'\n",
      "radeg = 15*(float(ras[0:2]) + float(ras[3:5])/60. + float(ras[6:])/3600.)\n",
      "dsgn = np.sign(float(des[0:3]))\n",
      "dedeg = float(des[0:3]) + dsgn*float(des[4:6])/60. + dsgn*float(des[7:])/3600.\n",
      "print \"plt.plot({},{},'*',color='red')\".format(radeg,dedeg)"
     ],
     "language": "python",
     "metadata": {},
     "outputs": [
      {
       "output_type": "stream",
       "stream": "stdout",
       "text": [
        "plt.plot(293.644958333,-10.0301944444,'*',color='red')\n"
       ]
      }
     ],
     "prompt_number": 16
    },
    {
     "cell_type": "code",
     "collapsed": false,
     "input": [
      "usno_star_tagged=np.array([[293.693583333,293.699333333,293.70825,293.72225,293.713291667,293.7265,293.658,293.655291667,293.650916667,293.66975,293.680833333,293.719625,293.687375,293.705333333,293.644958333],[-10.0580833333,-10.0488611111,-10.0362777778,-10.0489722222,-10.02825,-10.0173888889,-10.0657777778,-10.036,-10.0284722222,-10.08675,-10.0958333333,-10.0647222222,-10.0442222222,-10.0678888889,-10.0301944444]])\n",
      "# plt.plot(usno_star_tagged[0],usno_star_tagged[1],'o')"
     ],
     "language": "python",
     "metadata": {},
     "outputs": [],
     "prompt_number": 21
    },
    {
     "cell_type": "code",
     "collapsed": false,
     "input": [
      "os.chdir(\"data/2013Data/{}/\".format(directory))\n",
      "import astropy.io.fits as pf \n",
      "import matplotlib.pyplot as plt \n",
      "import numpy as np\n",
      "import urllib as url\n",
      "s1 = pf.open(datafile)\n",
      "# Read position from the FITS file and convert RA/DEC to degrees # be sure to check that the header data is reliable. If not\n",
      "# edit the position by hand.\n",
      "# ras = s1[0].header['ra']\n",
      "# des = s1[0].header['dec']\n",
      "#Header is not at exact location (The following value is found via Aladin)\n",
      "# 19:34:41.94 -10:04:34.6\n",
      "# ras = '19:34:41.94'\n",
      "# des = '-10:04:34.6'\n",
      "# Approx where asteroid should be \n",
      "#19:34:44.16 -10:03:45.7\n",
      "ras = '19:34:44.16'\n",
      "des = '-10:03:45.7'\n",
      "#Lower star of top pattern \n",
      "# ras = '19:34:49.87'\n",
      "# des= '-10:02:08.0'\n",
      "radeg = 15*(float(ras[0:2]) + float(ras[3:5])/60. + float(ras[6:])/3600.)\n",
      "dsgn = np.sign(float(des[0:3]))\n",
      "dedeg = float(des[0:3]) + dsgn*float(des[4:6])/60. + dsgn*float(des[7:])/3600.\n",
      "fovam = 5.0 # size of square search field in arc min (verified with CCD image)\n",
      "#chdir to where usno.py lies\n",
      "import os \n",
      "os.chdir(\"../../../\")\n",
      "from usno import usno\n",
      "#EPOCH FOR POCO POSITION IS CURRENT DATE\n",
      "epoch = s1[0].header['EQUINOXU']\n",
      "name,rad,ded,rmag = usno(radeg,dedeg,fovam,epoch) #Epoch data taken in year of 2013\n",
      "w = np.where(rmag < 14.4)[0] # select only bright stars r < 15 mag.\n",
      "plt.plot(rad[w],ded[w],'g.') \n",
      "plt.locator_params(axis='x',nbins=4) \n",
      "plt.locator_params(axis='y',nbins=4) \n",
      "plt.tick_params('x',pad=10)\n",
      "plt.xlabel('RA [Deg]')\n",
      "plt.ylabel('Dec [Deg]') \n",
      "plt.ticklabel_format(useOffset=False)\n",
      "plt.axis('scaled')\n",
      "# plt.xlim([266.11,266.03]) # reverse the x-axis direction\n",
      "os.chdir(\"data/2013Data/101713/\")\n",
      "plt.plot(usno_star_tagged[0],usno_star_tagged[1],'*',color='red')"
     ],
     "language": "python",
     "metadata": {},
     "outputs": [
      {
       "output_type": "stream",
       "stream": "stdout",
       "text": [
        "Calling Vizier http://webviz.u-strasbg.fr/viz-bin/asu-tsv/?-source=USNO-B1&-c.ra=293.684000&-c.dec=-10.062694&-c.bm=5.0000000/5.0000000&-out.max=unlimited\n"
       ]
      },
      {
       "metadata": {},
       "output_type": "pyout",
       "prompt_number": 45,
       "text": [
        "[<matplotlib.lines.Line2D at 0x117f1f9d0>]"
       ]
      },
      {
       "html": [
        "\n",
        "\n",
        "<style>\n",
        "\n",
        "</style>\n",
        "\n",
        "<div id=\"fig_el2047146967012647443815119\"></div>\n",
        "<script>\n",
        "function mpld3_load_lib(url, callback){\n",
        "  var s = document.createElement('script');\n",
        "  s.src = url;\n",
        "  s.async = true;\n",
        "  s.onreadystatechange = s.onload = callback;\n",
        "  s.onerror = function(){console.warn(\"failed to load library \" + url);};\n",
        "  document.getElementsByTagName(\"head\")[0].appendChild(s);\n",
        "}\n",
        "\n",
        "if(typeof(mpld3) !== \"undefined\" && mpld3._mpld3IsLoaded){\n",
        "   // already loaded: just create the figure\n",
        "   !function(mpld3){\n",
        "       \n",
        "       mpld3.draw_figure(\"fig_el2047146967012647443815119\", {\"axes\": [{\"xlim\": [293.60000000000002, 293.75], \"yscale\": \"linear\", \"axesbg\": \"#FFFFFF\", \"texts\": [{\"v_baseline\": \"hanging\", \"h_anchor\": \"middle\", \"color\": \"#000000\", \"text\": \"RA [Deg]\", \"coordinates\": \"axes\", \"zorder\": 3, \"alpha\": 1, \"fontsize\": 10.0, \"position\": [0.5, -0.13440860215051711], \"rotation\": -0.0, \"id\": \"el204714696638864\"}, {\"v_baseline\": \"auto\", \"h_anchor\": \"middle\", \"color\": \"#000000\", \"text\": \"Dec [Deg]\", \"coordinates\": \"axes\", \"zorder\": 3, \"alpha\": 1, \"fontsize\": 10.0, \"position\": [-0.13239247311827956, 0.5], \"rotation\": -90.0, \"id\": \"el204714697765392\"}], \"zoomable\": true, \"images\": [], \"xdomain\": [293.60000000000002, 293.75], \"ylim\": [-10.1, -10.02], \"paths\": [], \"sharey\": [], \"sharex\": [], \"axesbgalpha\": null, \"axes\": [{\"scale\": \"linear\", \"tickformat\": null, \"grid\": {\"gridOn\": false}, \"fontsize\": 10.0, \"position\": \"bottom\", \"nticks\": 4, \"tickvalues\": null}, {\"scale\": \"linear\", \"tickformat\": null, \"grid\": {\"gridOn\": false}, \"fontsize\": 10.0, \"position\": \"left\", \"nticks\": 3, \"tickvalues\": null}], \"lines\": [], \"markers\": [{\"edgecolor\": \"#007F00\", \"facecolor\": \"#007F00\", \"edgewidth\": 0.5, \"yindex\": 1, \"coordinates\": \"data\", \"zorder\": 2, \"markerpath\": [[[0.0, 1.5], [0.39780465000000004, 1.5], [0.7793698061772802, 1.3419505373823626], [1.0606601717798214, 1.0606601717798214], [1.3419505373823626, 0.7793698061772802], [1.5, 0.39780465000000004], [1.5, 0.0], [1.5, -0.39780465000000004], [1.3419505373823626, -0.7793698061772802], [1.0606601717798214, -1.0606601717798214], [0.7793698061772802, -1.3419505373823626], [0.39780465000000004, -1.5], [0.0, -1.5], [-0.39780465000000004, -1.5], [-0.7793698061772802, -1.3419505373823626], [-1.0606601717798214, -1.0606601717798214], [-1.3419505373823626, -0.7793698061772802], [-1.5, -0.39780465000000004], [-1.5, 0.0], [-1.5, 0.39780465000000004], [-1.3419505373823626, 0.7793698061772802], [-1.0606601717798214, 1.0606601717798214], [-0.7793698061772802, 1.3419505373823626], [-0.39780465000000004, 1.5], [0.0, 1.5]], [\"M\", \"C\", \"C\", \"C\", \"C\", \"C\", \"C\", \"C\", \"C\", \"Z\"]], \"alpha\": 1, \"xindex\": 0, \"data\": \"data01\", \"id\": \"el204714697698896pts\"}, {\"edgecolor\": \"#000000\", \"facecolor\": \"#FF0000\", \"edgewidth\": 0.5, \"yindex\": 1, \"coordinates\": \"data\", \"zorder\": 2, \"markerpath\": [[[1.8369701987210297e-16, -3.0], [-0.6735419450314403, -0.9270509558202635], [-2.8531695488854605, -0.9270509831248426], [-1.089813759909584, 0.3541019558202634], [-1.7633557568774196, 2.427050983124842], [-2.1049804767740306e-16, 1.145898], [1.7633557568774187, 2.427050983124843], [1.089813759909584, 0.35410195582026377], [2.853169548885461, -0.9270509831248415], [0.6735419450314407, -0.9270509558202634]], [\"M\", \"L\", \"L\", \"L\", \"L\", \"L\", \"L\", \"L\", \"L\", \"L\", \"Z\"]], \"alpha\": 1, \"xindex\": 0, \"data\": \"data02\", \"id\": \"el204714696701392pts\"}], \"id\": \"el204714696680784\", \"ydomain\": [-10.1, -10.02], \"collections\": [], \"xscale\": \"linear\", \"bbox\": [0.125, 0.20249999999995272, 0.77500000000000002, 0.62000000000009459]}], \"height\": 320.0, \"width\": 480.0, \"plugins\": [{\"type\": \"reset\"}, {\"enabled\": false, \"button\": true, \"type\": \"zoom\"}, {\"enabled\": false, \"button\": true, \"type\": \"boxzoom\"}], \"data\": {\"data02\": [[293.693583333, -10.0580833333], [293.699333333, -10.0488611111], [293.70825, -10.0362777778], [293.72225, -10.0489722222], [293.713291667, -10.02825], [293.7265, -10.0173888889], [293.658, -10.0657777778], [293.655291667, -10.036], [293.650916667, -10.0284722222], [293.66975, -10.08675], [293.680833333, -10.0958333333], [293.719625, -10.0647222222], [293.687375, -10.0442222222], [293.705333333, -10.0678888889], [293.644958333, -10.0301944444]], \"data01\": [[293.645175, -10.029362], [293.6517758999302, -10.027859], [293.652445, -10.028559], [293.6559, -10.036278], [293.658364, -10.066648], [293.671273, -10.086728], [293.682189, -10.0958], [293.682845, -10.095659], [293.688153, -10.044025], [293.6943464649104, -10.057563033203333], [293.699839, -10.048806], [293.70569024759214, -10.067873338867223], [293.7088529008674, -10.035608372070556], [293.7140402199915, -10.028840966796666], [293.720828, -10.064531], [293.722784, -10.04912]]}, \"id\": \"el204714696701264\"});\n",
        "   }(mpld3);\n",
        "}else if(typeof define === \"function\" && define.amd){\n",
        "   // require.js is available: use it to load d3/mpld3\n",
        "   require.config({paths: {d3: \"https://mpld3.github.io/js/d3.v3.min\"}});\n",
        "   require([\"d3\"], function(d3){\n",
        "      window.d3 = d3;\n",
        "      mpld3_load_lib(\"https://mpld3.github.io/js/mpld3.v0.2.js\", function(){\n",
        "         \n",
        "         mpld3.draw_figure(\"fig_el2047146967012647443815119\", {\"axes\": [{\"xlim\": [293.60000000000002, 293.75], \"yscale\": \"linear\", \"axesbg\": \"#FFFFFF\", \"texts\": [{\"v_baseline\": \"hanging\", \"h_anchor\": \"middle\", \"color\": \"#000000\", \"text\": \"RA [Deg]\", \"coordinates\": \"axes\", \"zorder\": 3, \"alpha\": 1, \"fontsize\": 10.0, \"position\": [0.5, -0.13440860215051711], \"rotation\": -0.0, \"id\": \"el204714696638864\"}, {\"v_baseline\": \"auto\", \"h_anchor\": \"middle\", \"color\": \"#000000\", \"text\": \"Dec [Deg]\", \"coordinates\": \"axes\", \"zorder\": 3, \"alpha\": 1, \"fontsize\": 10.0, \"position\": [-0.13239247311827956, 0.5], \"rotation\": -90.0, \"id\": \"el204714697765392\"}], \"zoomable\": true, \"images\": [], \"xdomain\": [293.60000000000002, 293.75], \"ylim\": [-10.1, -10.02], \"paths\": [], \"sharey\": [], \"sharex\": [], \"axesbgalpha\": null, \"axes\": [{\"scale\": \"linear\", \"tickformat\": null, \"grid\": {\"gridOn\": false}, \"fontsize\": 10.0, \"position\": \"bottom\", \"nticks\": 4, \"tickvalues\": null}, {\"scale\": \"linear\", \"tickformat\": null, \"grid\": {\"gridOn\": false}, \"fontsize\": 10.0, \"position\": \"left\", \"nticks\": 3, \"tickvalues\": null}], \"lines\": [], \"markers\": [{\"edgecolor\": \"#007F00\", \"facecolor\": \"#007F00\", \"edgewidth\": 0.5, \"yindex\": 1, \"coordinates\": \"data\", \"zorder\": 2, \"markerpath\": [[[0.0, 1.5], [0.39780465000000004, 1.5], [0.7793698061772802, 1.3419505373823626], [1.0606601717798214, 1.0606601717798214], [1.3419505373823626, 0.7793698061772802], [1.5, 0.39780465000000004], [1.5, 0.0], [1.5, -0.39780465000000004], [1.3419505373823626, -0.7793698061772802], [1.0606601717798214, -1.0606601717798214], [0.7793698061772802, -1.3419505373823626], [0.39780465000000004, -1.5], [0.0, -1.5], [-0.39780465000000004, -1.5], [-0.7793698061772802, -1.3419505373823626], [-1.0606601717798214, -1.0606601717798214], [-1.3419505373823626, -0.7793698061772802], [-1.5, -0.39780465000000004], [-1.5, 0.0], [-1.5, 0.39780465000000004], [-1.3419505373823626, 0.7793698061772802], [-1.0606601717798214, 1.0606601717798214], [-0.7793698061772802, 1.3419505373823626], [-0.39780465000000004, 1.5], [0.0, 1.5]], [\"M\", \"C\", \"C\", \"C\", \"C\", \"C\", \"C\", \"C\", \"C\", \"Z\"]], \"alpha\": 1, \"xindex\": 0, \"data\": \"data01\", \"id\": \"el204714697698896pts\"}, {\"edgecolor\": \"#000000\", \"facecolor\": \"#FF0000\", \"edgewidth\": 0.5, \"yindex\": 1, \"coordinates\": \"data\", \"zorder\": 2, \"markerpath\": [[[1.8369701987210297e-16, -3.0], [-0.6735419450314403, -0.9270509558202635], [-2.8531695488854605, -0.9270509831248426], [-1.089813759909584, 0.3541019558202634], [-1.7633557568774196, 2.427050983124842], [-2.1049804767740306e-16, 1.145898], [1.7633557568774187, 2.427050983124843], [1.089813759909584, 0.35410195582026377], [2.853169548885461, -0.9270509831248415], [0.6735419450314407, -0.9270509558202634]], [\"M\", \"L\", \"L\", \"L\", \"L\", \"L\", \"L\", \"L\", \"L\", \"L\", \"Z\"]], \"alpha\": 1, \"xindex\": 0, \"data\": \"data02\", \"id\": \"el204714696701392pts\"}], \"id\": \"el204714696680784\", \"ydomain\": [-10.1, -10.02], \"collections\": [], \"xscale\": \"linear\", \"bbox\": [0.125, 0.20249999999995272, 0.77500000000000002, 0.62000000000009459]}], \"height\": 320.0, \"width\": 480.0, \"plugins\": [{\"type\": \"reset\"}, {\"enabled\": false, \"button\": true, \"type\": \"zoom\"}, {\"enabled\": false, \"button\": true, \"type\": \"boxzoom\"}], \"data\": {\"data02\": [[293.693583333, -10.0580833333], [293.699333333, -10.0488611111], [293.70825, -10.0362777778], [293.72225, -10.0489722222], [293.713291667, -10.02825], [293.7265, -10.0173888889], [293.658, -10.0657777778], [293.655291667, -10.036], [293.650916667, -10.0284722222], [293.66975, -10.08675], [293.680833333, -10.0958333333], [293.719625, -10.0647222222], [293.687375, -10.0442222222], [293.705333333, -10.0678888889], [293.644958333, -10.0301944444]], \"data01\": [[293.645175, -10.029362], [293.6517758999302, -10.027859], [293.652445, -10.028559], [293.6559, -10.036278], [293.658364, -10.066648], [293.671273, -10.086728], [293.682189, -10.0958], [293.682845, -10.095659], [293.688153, -10.044025], [293.6943464649104, -10.057563033203333], [293.699839, -10.048806], [293.70569024759214, -10.067873338867223], [293.7088529008674, -10.035608372070556], [293.7140402199915, -10.028840966796666], [293.720828, -10.064531], [293.722784, -10.04912]]}, \"id\": \"el204714696701264\"});\n",
        "      });\n",
        "    });\n",
        "}else{\n",
        "    // require.js not available: dynamically load d3 & mpld3\n",
        "    mpld3_load_lib(\"https://mpld3.github.io/js/d3.v3.min.js\", function(){\n",
        "         mpld3_load_lib(\"https://mpld3.github.io/js/mpld3.v0.2.js\", function(){\n",
        "                 \n",
        "                 mpld3.draw_figure(\"fig_el2047146967012647443815119\", {\"axes\": [{\"xlim\": [293.60000000000002, 293.75], \"yscale\": \"linear\", \"axesbg\": \"#FFFFFF\", \"texts\": [{\"v_baseline\": \"hanging\", \"h_anchor\": \"middle\", \"color\": \"#000000\", \"text\": \"RA [Deg]\", \"coordinates\": \"axes\", \"zorder\": 3, \"alpha\": 1, \"fontsize\": 10.0, \"position\": [0.5, -0.13440860215051711], \"rotation\": -0.0, \"id\": \"el204714696638864\"}, {\"v_baseline\": \"auto\", \"h_anchor\": \"middle\", \"color\": \"#000000\", \"text\": \"Dec [Deg]\", \"coordinates\": \"axes\", \"zorder\": 3, \"alpha\": 1, \"fontsize\": 10.0, \"position\": [-0.13239247311827956, 0.5], \"rotation\": -90.0, \"id\": \"el204714697765392\"}], \"zoomable\": true, \"images\": [], \"xdomain\": [293.60000000000002, 293.75], \"ylim\": [-10.1, -10.02], \"paths\": [], \"sharey\": [], \"sharex\": [], \"axesbgalpha\": null, \"axes\": [{\"scale\": \"linear\", \"tickformat\": null, \"grid\": {\"gridOn\": false}, \"fontsize\": 10.0, \"position\": \"bottom\", \"nticks\": 4, \"tickvalues\": null}, {\"scale\": \"linear\", \"tickformat\": null, \"grid\": {\"gridOn\": false}, \"fontsize\": 10.0, \"position\": \"left\", \"nticks\": 3, \"tickvalues\": null}], \"lines\": [], \"markers\": [{\"edgecolor\": \"#007F00\", \"facecolor\": \"#007F00\", \"edgewidth\": 0.5, \"yindex\": 1, \"coordinates\": \"data\", \"zorder\": 2, \"markerpath\": [[[0.0, 1.5], [0.39780465000000004, 1.5], [0.7793698061772802, 1.3419505373823626], [1.0606601717798214, 1.0606601717798214], [1.3419505373823626, 0.7793698061772802], [1.5, 0.39780465000000004], [1.5, 0.0], [1.5, -0.39780465000000004], [1.3419505373823626, -0.7793698061772802], [1.0606601717798214, -1.0606601717798214], [0.7793698061772802, -1.3419505373823626], [0.39780465000000004, -1.5], [0.0, -1.5], [-0.39780465000000004, -1.5], [-0.7793698061772802, -1.3419505373823626], [-1.0606601717798214, -1.0606601717798214], [-1.3419505373823626, -0.7793698061772802], [-1.5, -0.39780465000000004], [-1.5, 0.0], [-1.5, 0.39780465000000004], [-1.3419505373823626, 0.7793698061772802], [-1.0606601717798214, 1.0606601717798214], [-0.7793698061772802, 1.3419505373823626], [-0.39780465000000004, 1.5], [0.0, 1.5]], [\"M\", \"C\", \"C\", \"C\", \"C\", \"C\", \"C\", \"C\", \"C\", \"Z\"]], \"alpha\": 1, \"xindex\": 0, \"data\": \"data01\", \"id\": \"el204714697698896pts\"}, {\"edgecolor\": \"#000000\", \"facecolor\": \"#FF0000\", \"edgewidth\": 0.5, \"yindex\": 1, \"coordinates\": \"data\", \"zorder\": 2, \"markerpath\": [[[1.8369701987210297e-16, -3.0], [-0.6735419450314403, -0.9270509558202635], [-2.8531695488854605, -0.9270509831248426], [-1.089813759909584, 0.3541019558202634], [-1.7633557568774196, 2.427050983124842], [-2.1049804767740306e-16, 1.145898], [1.7633557568774187, 2.427050983124843], [1.089813759909584, 0.35410195582026377], [2.853169548885461, -0.9270509831248415], [0.6735419450314407, -0.9270509558202634]], [\"M\", \"L\", \"L\", \"L\", \"L\", \"L\", \"L\", \"L\", \"L\", \"L\", \"Z\"]], \"alpha\": 1, \"xindex\": 0, \"data\": \"data02\", \"id\": \"el204714696701392pts\"}], \"id\": \"el204714696680784\", \"ydomain\": [-10.1, -10.02], \"collections\": [], \"xscale\": \"linear\", \"bbox\": [0.125, 0.20249999999995272, 0.77500000000000002, 0.62000000000009459]}], \"height\": 320.0, \"width\": 480.0, \"plugins\": [{\"type\": \"reset\"}, {\"enabled\": false, \"button\": true, \"type\": \"zoom\"}, {\"enabled\": false, \"button\": true, \"type\": \"boxzoom\"}], \"data\": {\"data02\": [[293.693583333, -10.0580833333], [293.699333333, -10.0488611111], [293.70825, -10.0362777778], [293.72225, -10.0489722222], [293.713291667, -10.02825], [293.7265, -10.0173888889], [293.658, -10.0657777778], [293.655291667, -10.036], [293.650916667, -10.0284722222], [293.66975, -10.08675], [293.680833333, -10.0958333333], [293.719625, -10.0647222222], [293.687375, -10.0442222222], [293.705333333, -10.0678888889], [293.644958333, -10.0301944444]], \"data01\": [[293.645175, -10.029362], [293.6517758999302, -10.027859], [293.652445, -10.028559], [293.6559, -10.036278], [293.658364, -10.066648], [293.671273, -10.086728], [293.682189, -10.0958], [293.682845, -10.095659], [293.688153, -10.044025], [293.6943464649104, -10.057563033203333], [293.699839, -10.048806], [293.70569024759214, -10.067873338867223], [293.7088529008674, -10.035608372070556], [293.7140402199915, -10.028840966796666], [293.720828, -10.064531], [293.722784, -10.04912]]}, \"id\": \"el204714696701264\"});\n",
        "            })\n",
        "         });\n",
        "}\n",
        "</script>"
       ],
       "metadata": {},
       "output_type": "display_data",
       "png": "[encoded data removed]",
       "text": [
        "<matplotlib.figure.Figure at 0x117f1f950>"
       ]
      }
     ],
     "prompt_number": 45
    },
    {
     "cell_type": "heading",
     "level": 4,
     "metadata": {},
     "source": [
      "Find in Aladin Sky Atlas "
     ]
    },
    {
     "cell_type": "code",
     "collapsed": false,
     "input": [
      "#subtract 00:00:30 from RA\n",
      "ras\n",
      "#subtract 00:12:00 from Dec \n",
      "des"
     ],
     "language": "python",
     "metadata": {},
     "outputs": [
      {
       "metadata": {},
       "output_type": "pyout",
       "prompt_number": 50,
       "text": [
        "'19:34:44.16'"
       ]
      }
     ],
     "prompt_number": 50
    },
    {
     "cell_type": "code",
     "collapsed": false,
     "input": [
      "usno_star_lst =  array([rad[w],ded[w]]) #returned star list from USNO "
     ],
     "language": "python",
     "metadata": {},
     "outputs": [],
     "prompt_number": 52
    },
    {
     "cell_type": "code",
     "collapsed": false,
     "input": [
      "fig  = plt.figure()\n",
      "ax1 = fig.add_subplot(121)\n",
      "plt.plot(usno_star_lst[0],usno_star_lst[1],'g.') \n",
      "plt.locator_params(axis='x',nbins=4) \n",
      "plt.locator_params(axis='y',nbins=4) \n",
      "plt.tick_params('x',pad=10)\n",
      "plt.xlabel('RA [Deg]')\n",
      "plt.ylabel('Dec [Deg]') \n",
      "plt.ticklabel_format(useOffset=False)\n",
      "plt.axis('scaled')\n",
      "ax2 = fig.add_subplot(122)\n",
      "plt.plot(img_data_stars[0],img_data_stars[1],'o')\n",
      "plt.xlabel('X [pixel]')\n",
      "plt.ylabel('Y [pixel]') \n",
      "plt.axis('scaled')\n",
      "plt.tight_layout()"
     ],
     "language": "python",
     "metadata": {},
     "outputs": [
      {
       "html": [
        "\n",
        "\n",
        "<style>\n",
        "\n",
        "</style>\n",
        "\n",
        "<div id=\"fig_el1686245901301289253869792\"></div>\n",
        "<script>\n",
        "function mpld3_load_lib(url, callback){\n",
        "  var s = document.createElement('script');\n",
        "  s.src = url;\n",
        "  s.async = true;\n",
        "  s.onreadystatechange = s.onload = callback;\n",
        "  s.onerror = function(){console.warn(\"failed to load library \" + url);};\n",
        "  document.getElementsByTagName(\"head\")[0].appendChild(s);\n",
        "}\n",
        "\n",
        "if(typeof(mpld3) !== \"undefined\" && mpld3._mpld3IsLoaded){\n",
        "   // already loaded: just create the figure\n",
        "   !function(mpld3){\n",
        "       \n",
        "       mpld3.draw_figure(\"fig_el1686245901301289253869792\", {\"axes\": [{\"xlim\": [293.60000000000002, 293.75], \"yscale\": \"linear\", \"axesbg\": \"#FFFFFF\", \"texts\": [{\"v_baseline\": \"hanging\", \"h_anchor\": \"middle\", \"color\": \"#000000\", \"text\": \"RA [Deg]\", \"coordinates\": \"axes\", \"zorder\": 3, \"alpha\": 1, \"fontsize\": 10.0, \"position\": [0.5, -0.32633081786659646], \"rotation\": -0.0, \"id\": \"el168624590060752\"}, {\"v_baseline\": \"auto\", \"h_anchor\": \"middle\", \"color\": \"#000000\", \"text\": \"Dec [Deg]\", \"coordinates\": \"axes\", \"zorder\": 3, \"alpha\": 1, \"fontsize\": 10.0, \"position\": [-0.3214358555986464, 0.5], \"rotation\": -90.0, \"id\": \"el168624589724048\"}], \"zoomable\": true, \"images\": [], \"xdomain\": [293.60000000000002, 293.75], \"ylim\": [-10.1, -10.02], \"paths\": [], \"sharey\": [], \"sharex\": [], \"axesbgalpha\": null, \"axes\": [{\"scale\": \"linear\", \"tickformat\": null, \"grid\": {\"gridOn\": false}, \"fontsize\": 10.0, \"position\": \"bottom\", \"nticks\": 4, \"tickvalues\": null}, {\"scale\": \"linear\", \"tickformat\": null, \"grid\": {\"gridOn\": false}, \"fontsize\": 10.0, \"position\": \"left\", \"nticks\": 3, \"tickvalues\": null}], \"lines\": [], \"markers\": [{\"edgecolor\": \"#007F00\", \"facecolor\": \"#007F00\", \"edgewidth\": 0.5, \"yindex\": 1, \"coordinates\": \"data\", \"zorder\": 2, \"markerpath\": [[[0.0, 1.5], [0.39780465000000004, 1.5], [0.7793698061772802, 1.3419505373823626], [1.0606601717798214, 1.0606601717798214], [1.3419505373823626, 0.7793698061772802], [1.5, 0.39780465000000004], [1.5, 0.0], [1.5, -0.39780465000000004], [1.3419505373823626, -0.7793698061772802], [1.0606601717798214, -1.0606601717798214], [0.7793698061772802, -1.3419505373823626], [0.39780465000000004, -1.5], [0.0, -1.5], [-0.39780465000000004, -1.5], [-0.7793698061772802, -1.3419505373823626], [-1.0606601717798214, -1.0606601717798214], [-1.3419505373823626, -0.7793698061772802], [-1.5, -0.39780465000000004], [-1.5, 0.0], [-1.5, 0.39780465000000004], [-1.3419505373823626, 0.7793698061772802], [-1.0606601717798214, 1.0606601717798214], [-0.7793698061772802, 1.3419505373823626], [-0.39780465000000004, 1.5], [0.0, 1.5]], [\"M\", \"C\", \"C\", \"C\", \"C\", \"C\", \"C\", \"C\", \"C\", \"Z\"]], \"alpha\": 1, \"xindex\": 0, \"data\": \"data01\", \"id\": \"el168624473164624pts\"}], \"id\": \"el168624590130960\", \"ydomain\": [-10.1, -10.02], \"collections\": [], \"xscale\": \"linear\", \"bbox\": [0.1484375, 0.37231770833332711, 0.31920572916663359, 0.25536458333334577]}, {\"xlim\": [0.0, 1000.0], \"yscale\": \"linear\", \"axesbg\": \"#FFFFFF\", \"texts\": [{\"v_baseline\": \"hanging\", \"h_anchor\": \"middle\", \"color\": \"#000000\", \"text\": \"X [pixel]\", \"coordinates\": \"axes\", \"zorder\": 3, \"alpha\": 1, \"fontsize\": 10.0, \"position\": [0.5, -0.13053232714665847], \"rotation\": -0.0, \"id\": \"el168624473183440\"}, {\"v_baseline\": \"auto\", \"h_anchor\": \"middle\", \"color\": \"#000000\", \"text\": \"Y [pixel]\", \"coordinates\": \"axes\", \"zorder\": 3, \"alpha\": 1, \"fontsize\": 10.0, \"position\": [-0.2382214970426515, 0.49999999999999989], \"rotation\": -90.0, \"id\": \"el168624473200592\"}], \"zoomable\": true, \"images\": [], \"xdomain\": [0.0, 1000.0], \"ylim\": [0.0, 1000.0], \"paths\": [], \"sharey\": [], \"sharex\": [], \"axesbgalpha\": null, \"axes\": [{\"scale\": \"linear\", \"tickformat\": null, \"grid\": {\"gridOn\": false}, \"fontsize\": 10.0, \"position\": \"bottom\", \"nticks\": 6, \"tickvalues\": null}, {\"scale\": \"linear\", \"tickformat\": null, \"grid\": {\"gridOn\": false}, \"fontsize\": 10.0, \"position\": \"left\", \"nticks\": 6, \"tickvalues\": null}], \"lines\": [], \"markers\": [{\"edgecolor\": \"#000000\", \"facecolor\": \"#0000FF\", \"edgewidth\": 0.5, \"yindex\": 1, \"coordinates\": \"data\", \"zorder\": 2, \"markerpath\": [[[0.0, 3.0], [0.7956093000000001, 3.0], [1.5587396123545605, 2.683901074764725], [2.121320343559643, 2.121320343559643], [2.683901074764725, 1.5587396123545605], [3.0, 0.7956093000000001], [3.0, 0.0], [3.0, -0.7956093000000001], [2.683901074764725, -1.5587396123545605], [2.121320343559643, -2.121320343559643], [1.5587396123545605, -2.683901074764725], [0.7956093000000001, -3.0], [0.0, -3.0], [-0.7956093000000001, -3.0], [-1.5587396123545605, -2.683901074764725], [-2.121320343559643, -2.121320343559643], [-2.683901074764725, -1.5587396123545605], [-3.0, -0.7956093000000001], [-3.0, 0.0], [-3.0, 0.7956093000000001], [-2.683901074764725, 1.5587396123545605], [-2.121320343559643, 2.121320343559643], [-1.5587396123545605, 2.683901074764725], [-0.7956093000000001, 3.0], [0.0, 3.0]], [\"M\", \"C\", \"C\", \"C\", \"C\", \"C\", \"C\", \"C\", \"C\", \"Z\"]], \"alpha\": 1, \"xindex\": 0, \"data\": \"data02\", \"id\": \"el168624473362640pts\"}], \"id\": \"el168624468781840\", \"ydomain\": [0.0, 1000.0], \"collections\": [], \"xscale\": \"linear\", \"bbox\": [0.62819010416669974, 0.26059570312502484, 0.31920572916663359, 0.47880859374995038]}], \"height\": 320.0, \"width\": 480.0, \"plugins\": [{\"type\": \"reset\"}, {\"enabled\": false, \"button\": true, \"type\": \"zoom\"}, {\"enabled\": false, \"button\": true, \"type\": \"boxzoom\"}], \"data\": {\"data02\": [[515.2941055560588, 1.5647240797910071], [72.0, 27.0], [604.8176679035524, 44.70998497026613], [724.9995160129386, 66.28783704505811], [947.9753057473579, 75.85007010726025], [823.9995780231649, 82.28875875810498], [891.3652032423453, 122.09466991059935], [527.2503696986015, 285.15096090167793], [908.3900745350162, 332.746619426678], [652.9231128539896, 476.6943331667928], [735.0, 483.4927629760487], [58.25017026068701, 520.6692029424856], [393.2547292991283, 537.409600074684], [312.7417129278377, 577.7377240426347], [262.83841519198523, 665.5469434336135], [46.16843459357888, 671.9584048282542], [262.8377553706872, 665.4299000812177], [46.19301939639514, 671.9353039853904], [262.8088448557652, 665.4140461695177], [46.19162581415322, 671.9110009925029], [46.145046029724654, 671.8157243177282], [377.06053943892454, 705.7583878379537], [977.1005010745571, 764.5182511670921], [688.4857931753264, 771.3362458030912], [977.1368829559877, 764.4605517864663], [688.4951643041414, 771.326776850634], [977.1301692705557, 764.4530063258225], [688.5046635000336, 771.3174449652435], [977.1295075708031, 764.4460672471605], [688.5134854500906, 771.3077871860111], [977.1146481146781, 764.4394816449033], [688.5142566279662, 771.2986966852167], [977.1077991096995, 764.4316771771712], [688.5139918937273, 771.2891962094626], [977.0933104162104, 764.4241796644902], [688.5139164496892, 771.2798490278226], [183.99338845291038, 795.7552438937191], [892.0039381319522, 826.0015296939332], [792.5013525356067, 833.0000374281497], [731.0719443604956, 850.5146125139235], [137.19096431219364, 864.0923179668448], [860.0, 956.0], [936.3360180044742, 966.1622676240042]], \"data01\": [[293.645175, -10.029362], [293.6517758999302, -10.027859], [293.652445, -10.028559], [293.6559, -10.036278], [293.658364, -10.066648], [293.671273, -10.086728], [293.682189, -10.0958], [293.682845, -10.095659], [293.688153, -10.044025], [293.6943464649104, -10.057563033203333], [293.699839, -10.048806], [293.70569024759214, -10.067873338867223], [293.7088529008674, -10.035608372070556], [293.7140402199915, -10.028840966796666], [293.720828, -10.064531], [293.722784, -10.04912]]}, \"id\": \"el168624590130128\"});\n",
        "   }(mpld3);\n",
        "}else if(typeof define === \"function\" && define.amd){\n",
        "   // require.js is available: use it to load d3/mpld3\n",
        "   require.config({paths: {d3: \"https://mpld3.github.io/js/d3.v3.min\"}});\n",
        "   require([\"d3\"], function(d3){\n",
        "      window.d3 = d3;\n",
        "      mpld3_load_lib(\"https://mpld3.github.io/js/mpld3.v0.2.js\", function(){\n",
        "         \n",
        "         mpld3.draw_figure(\"fig_el1686245901301289253869792\", {\"axes\": [{\"xlim\": [293.60000000000002, 293.75], \"yscale\": \"linear\", \"axesbg\": \"#FFFFFF\", \"texts\": [{\"v_baseline\": \"hanging\", \"h_anchor\": \"middle\", \"color\": \"#000000\", \"text\": \"RA [Deg]\", \"coordinates\": \"axes\", \"zorder\": 3, \"alpha\": 1, \"fontsize\": 10.0, \"position\": [0.5, -0.32633081786659646], \"rotation\": -0.0, \"id\": \"el168624590060752\"}, {\"v_baseline\": \"auto\", \"h_anchor\": \"middle\", \"color\": \"#000000\", \"text\": \"Dec [Deg]\", \"coordinates\": \"axes\", \"zorder\": 3, \"alpha\": 1, \"fontsize\": 10.0, \"position\": [-0.3214358555986464, 0.5], \"rotation\": -90.0, \"id\": \"el168624589724048\"}], \"zoomable\": true, \"images\": [], \"xdomain\": [293.60000000000002, 293.75], \"ylim\": [-10.1, -10.02], \"paths\": [], \"sharey\": [], \"sharex\": [], \"axesbgalpha\": null, \"axes\": [{\"scale\": \"linear\", \"tickformat\": null, \"grid\": {\"gridOn\": false}, \"fontsize\": 10.0, \"position\": \"bottom\", \"nticks\": 4, \"tickvalues\": null}, {\"scale\": \"linear\", \"tickformat\": null, \"grid\": {\"gridOn\": false}, \"fontsize\": 10.0, \"position\": \"left\", \"nticks\": 3, \"tickvalues\": null}], \"lines\": [], \"markers\": [{\"edgecolor\": \"#007F00\", \"facecolor\": \"#007F00\", \"edgewidth\": 0.5, \"yindex\": 1, \"coordinates\": \"data\", \"zorder\": 2, \"markerpath\": [[[0.0, 1.5], [0.39780465000000004, 1.5], [0.7793698061772802, 1.3419505373823626], [1.0606601717798214, 1.0606601717798214], [1.3419505373823626, 0.7793698061772802], [1.5, 0.39780465000000004], [1.5, 0.0], [1.5, -0.39780465000000004], [1.3419505373823626, -0.7793698061772802], [1.0606601717798214, -1.0606601717798214], [0.7793698061772802, -1.3419505373823626], [0.39780465000000004, -1.5], [0.0, -1.5], [-0.39780465000000004, -1.5], [-0.7793698061772802, -1.3419505373823626], [-1.0606601717798214, -1.0606601717798214], [-1.3419505373823626, -0.7793698061772802], [-1.5, -0.39780465000000004], [-1.5, 0.0], [-1.5, 0.39780465000000004], [-1.3419505373823626, 0.7793698061772802], [-1.0606601717798214, 1.0606601717798214], [-0.7793698061772802, 1.3419505373823626], [-0.39780465000000004, 1.5], [0.0, 1.5]], [\"M\", \"C\", \"C\", \"C\", \"C\", \"C\", \"C\", \"C\", \"C\", \"Z\"]], \"alpha\": 1, \"xindex\": 0, \"data\": \"data01\", \"id\": \"el168624473164624pts\"}], \"id\": \"el168624590130960\", \"ydomain\": [-10.1, -10.02], \"collections\": [], \"xscale\": \"linear\", \"bbox\": [0.1484375, 0.37231770833332711, 0.31920572916663359, 0.25536458333334577]}, {\"xlim\": [0.0, 1000.0], \"yscale\": \"linear\", \"axesbg\": \"#FFFFFF\", \"texts\": [{\"v_baseline\": \"hanging\", \"h_anchor\": \"middle\", \"color\": \"#000000\", \"text\": \"X [pixel]\", \"coordinates\": \"axes\", \"zorder\": 3, \"alpha\": 1, \"fontsize\": 10.0, \"position\": [0.5, -0.13053232714665847], \"rotation\": -0.0, \"id\": \"el168624473183440\"}, {\"v_baseline\": \"auto\", \"h_anchor\": \"middle\", \"color\": \"#000000\", \"text\": \"Y [pixel]\", \"coordinates\": \"axes\", \"zorder\": 3, \"alpha\": 1, \"fontsize\": 10.0, \"position\": [-0.2382214970426515, 0.49999999999999989], \"rotation\": -90.0, \"id\": \"el168624473200592\"}], \"zoomable\": true, \"images\": [], \"xdomain\": [0.0, 1000.0], \"ylim\": [0.0, 1000.0], \"paths\": [], \"sharey\": [], \"sharex\": [], \"axesbgalpha\": null, \"axes\": [{\"scale\": \"linear\", \"tickformat\": null, \"grid\": {\"gridOn\": false}, \"fontsize\": 10.0, \"position\": \"bottom\", \"nticks\": 6, \"tickvalues\": null}, {\"scale\": \"linear\", \"tickformat\": null, \"grid\": {\"gridOn\": false}, \"fontsize\": 10.0, \"position\": \"left\", \"nticks\": 6, \"tickvalues\": null}], \"lines\": [], \"markers\": [{\"edgecolor\": \"#000000\", \"facecolor\": \"#0000FF\", \"edgewidth\": 0.5, \"yindex\": 1, \"coordinates\": \"data\", \"zorder\": 2, \"markerpath\": [[[0.0, 3.0], [0.7956093000000001, 3.0], [1.5587396123545605, 2.683901074764725], [2.121320343559643, 2.121320343559643], [2.683901074764725, 1.5587396123545605], [3.0, 0.7956093000000001], [3.0, 0.0], [3.0, -0.7956093000000001], [2.683901074764725, -1.5587396123545605], [2.121320343559643, -2.121320343559643], [1.5587396123545605, -2.683901074764725], [0.7956093000000001, -3.0], [0.0, -3.0], [-0.7956093000000001, -3.0], [-1.5587396123545605, -2.683901074764725], [-2.121320343559643, -2.121320343559643], [-2.683901074764725, -1.5587396123545605], [-3.0, -0.7956093000000001], [-3.0, 0.0], [-3.0, 0.7956093000000001], [-2.683901074764725, 1.5587396123545605], [-2.121320343559643, 2.121320343559643], [-1.5587396123545605, 2.683901074764725], [-0.7956093000000001, 3.0], [0.0, 3.0]], [\"M\", \"C\", \"C\", \"C\", \"C\", \"C\", \"C\", \"C\", \"C\", \"Z\"]], \"alpha\": 1, \"xindex\": 0, \"data\": \"data02\", \"id\": \"el168624473362640pts\"}], \"id\": \"el168624468781840\", \"ydomain\": [0.0, 1000.0], \"collections\": [], \"xscale\": \"linear\", \"bbox\": [0.62819010416669974, 0.26059570312502484, 0.31920572916663359, 0.47880859374995038]}], \"height\": 320.0, \"width\": 480.0, \"plugins\": [{\"type\": \"reset\"}, {\"enabled\": false, \"button\": true, \"type\": \"zoom\"}, {\"enabled\": false, \"button\": true, \"type\": \"boxzoom\"}], \"data\": {\"data02\": [[515.2941055560588, 1.5647240797910071], [72.0, 27.0], [604.8176679035524, 44.70998497026613], [724.9995160129386, 66.28783704505811], [947.9753057473579, 75.85007010726025], [823.9995780231649, 82.28875875810498], [891.3652032423453, 122.09466991059935], [527.2503696986015, 285.15096090167793], [908.3900745350162, 332.746619426678], [652.9231128539896, 476.6943331667928], [735.0, 483.4927629760487], [58.25017026068701, 520.6692029424856], [393.2547292991283, 537.409600074684], [312.7417129278377, 577.7377240426347], [262.83841519198523, 665.5469434336135], [46.16843459357888, 671.9584048282542], [262.8377553706872, 665.4299000812177], [46.19301939639514, 671.9353039853904], [262.8088448557652, 665.4140461695177], [46.19162581415322, 671.9110009925029], [46.145046029724654, 671.8157243177282], [377.06053943892454, 705.7583878379537], [977.1005010745571, 764.5182511670921], [688.4857931753264, 771.3362458030912], [977.1368829559877, 764.4605517864663], [688.4951643041414, 771.326776850634], [977.1301692705557, 764.4530063258225], [688.5046635000336, 771.3174449652435], [977.1295075708031, 764.4460672471605], [688.5134854500906, 771.3077871860111], [977.1146481146781, 764.4394816449033], [688.5142566279662, 771.2986966852167], [977.1077991096995, 764.4316771771712], [688.5139918937273, 771.2891962094626], [977.0933104162104, 764.4241796644902], [688.5139164496892, 771.2798490278226], [183.99338845291038, 795.7552438937191], [892.0039381319522, 826.0015296939332], [792.5013525356067, 833.0000374281497], [731.0719443604956, 850.5146125139235], [137.19096431219364, 864.0923179668448], [860.0, 956.0], [936.3360180044742, 966.1622676240042]], \"data01\": [[293.645175, -10.029362], [293.6517758999302, -10.027859], [293.652445, -10.028559], [293.6559, -10.036278], [293.658364, -10.066648], [293.671273, -10.086728], [293.682189, -10.0958], [293.682845, -10.095659], [293.688153, -10.044025], [293.6943464649104, -10.057563033203333], [293.699839, -10.048806], [293.70569024759214, -10.067873338867223], [293.7088529008674, -10.035608372070556], [293.7140402199915, -10.028840966796666], [293.720828, -10.064531], [293.722784, -10.04912]]}, \"id\": \"el168624590130128\"});\n",
        "      });\n",
        "    });\n",
        "}else{\n",
        "    // require.js not available: dynamically load d3 & mpld3\n",
        "    mpld3_load_lib(\"https://mpld3.github.io/js/d3.v3.min.js\", function(){\n",
        "         mpld3_load_lib(\"https://mpld3.github.io/js/mpld3.v0.2.js\", function(){\n",
        "                 \n",
        "                 mpld3.draw_figure(\"fig_el1686245901301289253869792\", {\"axes\": [{\"xlim\": [293.60000000000002, 293.75], \"yscale\": \"linear\", \"axesbg\": \"#FFFFFF\", \"texts\": [{\"v_baseline\": \"hanging\", \"h_anchor\": \"middle\", \"color\": \"#000000\", \"text\": \"RA [Deg]\", \"coordinates\": \"axes\", \"zorder\": 3, \"alpha\": 1, \"fontsize\": 10.0, \"position\": [0.5, -0.32633081786659646], \"rotation\": -0.0, \"id\": \"el168624590060752\"}, {\"v_baseline\": \"auto\", \"h_anchor\": \"middle\", \"color\": \"#000000\", \"text\": \"Dec [Deg]\", \"coordinates\": \"axes\", \"zorder\": 3, \"alpha\": 1, \"fontsize\": 10.0, \"position\": [-0.3214358555986464, 0.5], \"rotation\": -90.0, \"id\": \"el168624589724048\"}], \"zoomable\": true, \"images\": [], \"xdomain\": [293.60000000000002, 293.75], \"ylim\": [-10.1, -10.02], \"paths\": [], \"sharey\": [], \"sharex\": [], \"axesbgalpha\": null, \"axes\": [{\"scale\": \"linear\", \"tickformat\": null, \"grid\": {\"gridOn\": false}, \"fontsize\": 10.0, \"position\": \"bottom\", \"nticks\": 4, \"tickvalues\": null}, {\"scale\": \"linear\", \"tickformat\": null, \"grid\": {\"gridOn\": false}, \"fontsize\": 10.0, \"position\": \"left\", \"nticks\": 3, \"tickvalues\": null}], \"lines\": [], \"markers\": [{\"edgecolor\": \"#007F00\", \"facecolor\": \"#007F00\", \"edgewidth\": 0.5, \"yindex\": 1, \"coordinates\": \"data\", \"zorder\": 2, \"markerpath\": [[[0.0, 1.5], [0.39780465000000004, 1.5], [0.7793698061772802, 1.3419505373823626], [1.0606601717798214, 1.0606601717798214], [1.3419505373823626, 0.7793698061772802], [1.5, 0.39780465000000004], [1.5, 0.0], [1.5, -0.39780465000000004], [1.3419505373823626, -0.7793698061772802], [1.0606601717798214, -1.0606601717798214], [0.7793698061772802, -1.3419505373823626], [0.39780465000000004, -1.5], [0.0, -1.5], [-0.39780465000000004, -1.5], [-0.7793698061772802, -1.3419505373823626], [-1.0606601717798214, -1.0606601717798214], [-1.3419505373823626, -0.7793698061772802], [-1.5, -0.39780465000000004], [-1.5, 0.0], [-1.5, 0.39780465000000004], [-1.3419505373823626, 0.7793698061772802], [-1.0606601717798214, 1.0606601717798214], [-0.7793698061772802, 1.3419505373823626], [-0.39780465000000004, 1.5], [0.0, 1.5]], [\"M\", \"C\", \"C\", \"C\", \"C\", \"C\", \"C\", \"C\", \"C\", \"Z\"]], \"alpha\": 1, \"xindex\": 0, \"data\": \"data01\", \"id\": \"el168624473164624pts\"}], \"id\": \"el168624590130960\", \"ydomain\": [-10.1, -10.02], \"collections\": [], \"xscale\": \"linear\", \"bbox\": [0.1484375, 0.37231770833332711, 0.31920572916663359, 0.25536458333334577]}, {\"xlim\": [0.0, 1000.0], \"yscale\": \"linear\", \"axesbg\": \"#FFFFFF\", \"texts\": [{\"v_baseline\": \"hanging\", \"h_anchor\": \"middle\", \"color\": \"#000000\", \"text\": \"X [pixel]\", \"coordinates\": \"axes\", \"zorder\": 3, \"alpha\": 1, \"fontsize\": 10.0, \"position\": [0.5, -0.13053232714665847], \"rotation\": -0.0, \"id\": \"el168624473183440\"}, {\"v_baseline\": \"auto\", \"h_anchor\": \"middle\", \"color\": \"#000000\", \"text\": \"Y [pixel]\", \"coordinates\": \"axes\", \"zorder\": 3, \"alpha\": 1, \"fontsize\": 10.0, \"position\": [-0.2382214970426515, 0.49999999999999989], \"rotation\": -90.0, \"id\": \"el168624473200592\"}], \"zoomable\": true, \"images\": [], \"xdomain\": [0.0, 1000.0], \"ylim\": [0.0, 1000.0], \"paths\": [], \"sharey\": [], \"sharex\": [], \"axesbgalpha\": null, \"axes\": [{\"scale\": \"linear\", \"tickformat\": null, \"grid\": {\"gridOn\": false}, \"fontsize\": 10.0, \"position\": \"bottom\", \"nticks\": 6, \"tickvalues\": null}, {\"scale\": \"linear\", \"tickformat\": null, \"grid\": {\"gridOn\": false}, \"fontsize\": 10.0, \"position\": \"left\", \"nticks\": 6, \"tickvalues\": null}], \"lines\": [], \"markers\": [{\"edgecolor\": \"#000000\", \"facecolor\": \"#0000FF\", \"edgewidth\": 0.5, \"yindex\": 1, \"coordinates\": \"data\", \"zorder\": 2, \"markerpath\": [[[0.0, 3.0], [0.7956093000000001, 3.0], [1.5587396123545605, 2.683901074764725], [2.121320343559643, 2.121320343559643], [2.683901074764725, 1.5587396123545605], [3.0, 0.7956093000000001], [3.0, 0.0], [3.0, -0.7956093000000001], [2.683901074764725, -1.5587396123545605], [2.121320343559643, -2.121320343559643], [1.5587396123545605, -2.683901074764725], [0.7956093000000001, -3.0], [0.0, -3.0], [-0.7956093000000001, -3.0], [-1.5587396123545605, -2.683901074764725], [-2.121320343559643, -2.121320343559643], [-2.683901074764725, -1.5587396123545605], [-3.0, -0.7956093000000001], [-3.0, 0.0], [-3.0, 0.7956093000000001], [-2.683901074764725, 1.5587396123545605], [-2.121320343559643, 2.121320343559643], [-1.5587396123545605, 2.683901074764725], [-0.7956093000000001, 3.0], [0.0, 3.0]], [\"M\", \"C\", \"C\", \"C\", \"C\", \"C\", \"C\", \"C\", \"C\", \"Z\"]], \"alpha\": 1, \"xindex\": 0, \"data\": \"data02\", \"id\": \"el168624473362640pts\"}], \"id\": \"el168624468781840\", \"ydomain\": [0.0, 1000.0], \"collections\": [], \"xscale\": \"linear\", \"bbox\": [0.62819010416669974, 0.26059570312502484, 0.31920572916663359, 0.47880859374995038]}], \"height\": 320.0, \"width\": 480.0, \"plugins\": [{\"type\": \"reset\"}, {\"enabled\": false, \"button\": true, \"type\": \"zoom\"}, {\"enabled\": false, \"button\": true, \"type\": \"boxzoom\"}], \"data\": {\"data02\": [[515.2941055560588, 1.5647240797910071], [72.0, 27.0], [604.8176679035524, 44.70998497026613], [724.9995160129386, 66.28783704505811], [947.9753057473579, 75.85007010726025], [823.9995780231649, 82.28875875810498], [891.3652032423453, 122.09466991059935], [527.2503696986015, 285.15096090167793], [908.3900745350162, 332.746619426678], [652.9231128539896, 476.6943331667928], [735.0, 483.4927629760487], [58.25017026068701, 520.6692029424856], [393.2547292991283, 537.409600074684], [312.7417129278377, 577.7377240426347], [262.83841519198523, 665.5469434336135], [46.16843459357888, 671.9584048282542], [262.8377553706872, 665.4299000812177], [46.19301939639514, 671.9353039853904], [262.8088448557652, 665.4140461695177], [46.19162581415322, 671.9110009925029], [46.145046029724654, 671.8157243177282], [377.06053943892454, 705.7583878379537], [977.1005010745571, 764.5182511670921], [688.4857931753264, 771.3362458030912], [977.1368829559877, 764.4605517864663], [688.4951643041414, 771.326776850634], [977.1301692705557, 764.4530063258225], [688.5046635000336, 771.3174449652435], [977.1295075708031, 764.4460672471605], [688.5134854500906, 771.3077871860111], [977.1146481146781, 764.4394816449033], [688.5142566279662, 771.2986966852167], [977.1077991096995, 764.4316771771712], [688.5139918937273, 771.2891962094626], [977.0933104162104, 764.4241796644902], [688.5139164496892, 771.2798490278226], [183.99338845291038, 795.7552438937191], [892.0039381319522, 826.0015296939332], [792.5013525356067, 833.0000374281497], [731.0719443604956, 850.5146125139235], [137.19096431219364, 864.0923179668448], [860.0, 956.0], [936.3360180044742, 966.1622676240042]], \"data01\": [[293.645175, -10.029362], [293.6517758999302, -10.027859], [293.652445, -10.028559], [293.6559, -10.036278], [293.658364, -10.066648], [293.671273, -10.086728], [293.682189, -10.0958], [293.682845, -10.095659], [293.688153, -10.044025], [293.6943464649104, -10.057563033203333], [293.699839, -10.048806], [293.70569024759214, -10.067873338867223], [293.7088529008674, -10.035608372070556], [293.7140402199915, -10.028840966796666], [293.720828, -10.064531], [293.722784, -10.04912]]}, \"id\": \"el168624590130128\"});\n",
        "            })\n",
        "         });\n",
        "}\n",
        "</script>"
       ],
       "metadata": {},
       "output_type": "display_data",
       "png": "[encoded data removed]",
       "text": [
        "<matplotlib.figure.Figure at 0x11197d3d0>"
       ]
      }
     ],
     "prompt_number": 53
    },
    {
     "cell_type": "heading",
     "level": 2,
     "metadata": {},
     "source": [
      "Tangent plane transformation"
     ]
    },
    {
     "cell_type": "code",
     "collapsed": false,
     "input": [
      "a = usno_star_lst[0] #alpha : list of usno ra [deg]\n",
      "d = usno_star_lst[1]  #delta : list of usno dec [deg]\n",
      "a_0 = radeg #alpha_0 : center of CCD image (ra)\n",
      "d_0 = dedeg #delta_0 : center of CCD image (dec)\n",
      "\n",
      "#convert degrees to radians \n",
      "d = d*np.pi/180.\n",
      "d_0 = d_0*np.pi/180.\n",
      "a = a*np.pi/180.\n",
      "a_0 = a_0*np.pi/180.\n",
      "#tangent plane projection (get image position on CCD  (X,Y) )\n",
      "X_stdcoord = -(cos(d)*sin(a-a_0))/(cos(d_0)*cos(d)*cos(a-a_0)+sin(d)*sin(d_0))\n",
      "Y_stdcoord = -(sin(d_0)*cos(d)*cos(a-a_0)-cos(d_0)*sin(d))/(cos(d_0)*cos(d)*cos(a-a_0)+sin(d)*sin(d_0))"
     ],
     "language": "python",
     "metadata": {},
     "outputs": [],
     "prompt_number": 54
    },
    {
     "cell_type": "code",
     "collapsed": false,
     "input": [
      "X_stdcoord #looks right, CCD should be small."
     ],
     "language": "python",
     "metadata": {},
     "outputs": [
      {
       "metadata": {},
       "output_type": "pyout",
       "prompt_number": 55,
       "text": [
        "array([  6.67269272e-04,   5.53824878e-04,   5.42324100e-04,\n",
        "         4.82932740e-04,   4.40544453e-04,   2.18694816e-04,\n",
        "         3.11185021e-05,   1.98464305e-05,  -7.13726477e-05,\n",
        "        -1.77804874e-04,  -2.72201939e-04,  -3.72736848e-04,\n",
        "        -4.27128264e-04,  -5.16289682e-04,  -6.32878710e-04,\n",
        "        -6.66523836e-04])"
       ]
      }
     ],
     "prompt_number": 55
    },
    {
     "cell_type": "code",
     "collapsed": false,
     "input": [
      "# nominal value from worksheet but different from the actualy telescope value \n",
      "# f =16840\n",
      "# p = 0.015\n",
      "f = 561000 #[pixels per radian]\n",
      "p = 1 "
     ],
     "language": "python",
     "metadata": {},
     "outputs": [],
     "prompt_number": 56
    },
    {
     "cell_type": "heading",
     "level": 3,
     "metadata": {},
     "source": [
      "Pixel (X,Y) to celestial coord (x,y) transformation"
     ]
    },
    {
     "cell_type": "code",
     "collapsed": false,
     "input": [
      "#For Nickel (assuming its an \"ideal\" camera)\n",
      "# f = 16840 #[mm]\n",
      "# p= 0.015 #[mm]\n",
      "x_0 = 512#center of pixel coord (basically 1024/2)\n",
      "y_0 = 512\n",
      "x_pixcoord = f*(X_stdcoord/p)+x_0\n",
      "y_pixcoord=f*(Y_stdcoord/p)+y_0"
     ],
     "language": "python",
     "metadata": {},
     "outputs": [],
     "prompt_number": 57
    },
    {
     "cell_type": "code",
     "collapsed": false,
     "input": [
      "x_pixcoord #looks right, this is now in pixel coordinates!"
     ],
     "language": "python",
     "metadata": {},
     "outputs": [
      {
       "metadata": {},
       "output_type": "pyout",
       "prompt_number": 58,
       "text": [
        "array([ 886.33806146,  822.69575663,  816.24382017,  782.92526729,\n",
        "        759.14543839,  634.6877915 ,  529.45747966,  523.13384749,\n",
        "        471.95994462,  412.25146586,  359.29471196,  302.89462832,\n",
        "        272.38104407,  222.36148865,  156.95504366,  138.0801281 ])"
       ]
      }
     ],
     "prompt_number": 58
    },
    {
     "cell_type": "heading",
     "level": 2,
     "metadata": {},
     "source": [
      "Why is USNO data flipped around after tangent plane projection?"
     ]
    },
    {
     "cell_type": "code",
     "collapsed": false,
     "input": [
      "from matplotlib.legend_handler import HandlerLine2D\n",
      "plt.plot(x_pixcoord,y_pixcoord,'o',label= \"USNO\")\n",
      "plt.plot(img_data_stars[0],img_data_stars[1],'*',color=\"red\",label=\"CCD data\")\n",
      "plt.legend(loc='lower right',prop={'size':12},numpoints=1)\n",
      "plt.xlabel(\"x [pixel]\",fontsize=12)\n",
      "plt.ylabel(\"y [pixel]\",fontsize=12)"
     ],
     "language": "python",
     "metadata": {},
     "outputs": [
      {
       "metadata": {},
       "output_type": "pyout",
       "prompt_number": 59,
       "text": [
        "<matplotlib.text.Text at 0x1125daf10>"
       ]
      },
      {
       "html": [
        "\n",
        "\n",
        "<style>\n",
        "\n",
        "</style>\n",
        "\n",
        "<div id=\"fig_el1686245901447848959997027\"></div>\n",
        "<script>\n",
        "function mpld3_load_lib(url, callback){\n",
        "  var s = document.createElement('script');\n",
        "  s.src = url;\n",
        "  s.async = true;\n",
        "  s.onreadystatechange = s.onload = callback;\n",
        "  s.onerror = function(){console.warn(\"failed to load library \" + url);};\n",
        "  document.getElementsByTagName(\"head\")[0].appendChild(s);\n",
        "}\n",
        "\n",
        "if(typeof(mpld3) !== \"undefined\" && mpld3._mpld3IsLoaded){\n",
        "   // already loaded: just create the figure\n",
        "   !function(mpld3){\n",
        "       \n",
        "       mpld3.draw_figure(\"fig_el1686245901447848959997027\", {\"axes\": [{\"xlim\": [0.0, 1000.0], \"yscale\": \"linear\", \"axesbg\": \"#FFFFFF\", \"texts\": [{\"v_baseline\": \"hanging\", \"h_anchor\": \"middle\", \"color\": \"#000000\", \"text\": \"x [pixel]\", \"coordinates\": \"axes\", \"zorder\": 3, \"alpha\": 1, \"fontsize\": 12.0, \"position\": [0.5, -0.080645161290322578], \"rotation\": -0.0, \"id\": \"el168624602063568\"}, {\"v_baseline\": \"auto\", \"h_anchor\": \"middle\", \"color\": \"#000000\", \"text\": \"y [pixel]\", \"coordinates\": \"axes\", \"zorder\": 3, \"alpha\": 1, \"fontsize\": 12.0, \"position\": [-0.098118279569892469, 0.5], \"rotation\": -90.0, \"id\": \"el168624603096848\"}, {\"v_baseline\": \"auto\", \"h_anchor\": \"start\", \"color\": \"#000000\", \"text\": \"USNO\", \"coordinates\": \"axes\", \"zorder\": 1000003.0, \"alpha\": 1, \"fontsize\": 12.0, \"position\": [0.80208333333333326, 0.14381720430107528], \"rotation\": -0.0, \"id\": \"el168624579313360\"}, {\"v_baseline\": \"auto\", \"h_anchor\": \"start\", \"color\": \"#000000\", \"text\": \"CCD data\", \"coordinates\": \"axes\", \"zorder\": 1000003.0, \"alpha\": 1, \"fontsize\": 12.0, \"position\": [0.80208333333333326, 0.060483870967741937], \"rotation\": -0.0, \"id\": \"el168624585286288\"}], \"zoomable\": true, \"images\": [], \"xdomain\": [0.0, 1000.0], \"ylim\": [0.0, 1000.0], \"paths\": [{\"edgecolor\": \"#000000\", \"facecolor\": \"#FFFFFF\", \"edgewidth\": 1.0, \"pathcodes\": [\"M\", \"L\", \"L\", \"L\", \"L\", \"Z\"], \"yindex\": 1, \"coordinates\": \"axes\", \"dasharray\": \"10,0\", \"zorder\": 1000001.0, \"alpha\": 1, \"xindex\": 0, \"data\": \"data04\", \"id\": \"el168624579572368\"}], \"sharey\": [], \"sharex\": [], \"axesbgalpha\": null, \"axes\": [{\"scale\": \"linear\", \"tickformat\": null, \"grid\": {\"gridOn\": false}, \"fontsize\": 10.0, \"position\": \"bottom\", \"nticks\": 6, \"tickvalues\": null}, {\"scale\": \"linear\", \"tickformat\": null, \"grid\": {\"gridOn\": false}, \"fontsize\": 10.0, \"position\": \"left\", \"nticks\": 6, \"tickvalues\": null}], \"lines\": [], \"markers\": [{\"edgecolor\": \"#000000\", \"facecolor\": \"#0000FF\", \"edgewidth\": 0.5, \"yindex\": 1, \"coordinates\": \"data\", \"zorder\": 2, \"markerpath\": [[[0.0, 3.0], [0.7956093000000001, 3.0], [1.5587396123545605, 2.683901074764725], [2.121320343559643, 2.121320343559643], [2.683901074764725, 1.5587396123545605], [3.0, 0.7956093000000001], [3.0, 0.0], [3.0, -0.7956093000000001], [2.683901074764725, -1.5587396123545605], [2.121320343559643, -2.121320343559643], [1.5587396123545605, -2.683901074764725], [0.7956093000000001, -3.0], [0.0, -3.0], [-0.7956093000000001, -3.0], [-1.5587396123545605, -2.683901074764725], [-2.121320343559643, -2.121320343559643], [-2.683901074764725, -1.5587396123545605], [-3.0, -0.7956093000000001], [-3.0, 0.0], [-3.0, 0.7956093000000001], [-2.683901074764725, 1.5587396123545605], [-2.121320343559643, 2.121320343559643], [-1.5587396123545605, 2.683901074764725], [-0.7956093000000001, 3.0], [0.0, 3.0]], [\"M\", \"C\", \"C\", \"C\", \"C\", \"C\", \"C\", \"C\", \"C\", \"Z\"]], \"alpha\": 1, \"xindex\": 0, \"data\": \"data01\", \"id\": \"el168624602106960pts\"}, {\"edgecolor\": \"#000000\", \"facecolor\": \"#FF0000\", \"edgewidth\": 0.5, \"yindex\": 1, \"coordinates\": \"data\", \"zorder\": 2, \"markerpath\": [[[1.8369701987210297e-16, -3.0], [-0.6735419450314403, -0.9270509558202635], [-2.8531695488854605, -0.9270509831248426], [-1.089813759909584, 0.3541019558202634], [-1.7633557568774196, 2.427050983124842], [-2.1049804767740306e-16, 1.145898], [1.7633557568774187, 2.427050983124843], [1.089813759909584, 0.35410195582026377], [2.853169548885461, -0.9270509831248415], [0.6735419450314407, -0.9270509558202634]], [\"M\", \"L\", \"L\", \"L\", \"L\", \"L\", \"L\", \"L\", \"L\", \"L\", \"Z\"]], \"alpha\": 1, \"xindex\": 0, \"data\": \"data02\", \"id\": \"el168624589504528pts\"}, {\"edgecolor\": \"#000000\", \"facecolor\": \"#0000FF\", \"edgewidth\": 0.5, \"yindex\": 1, \"coordinates\": \"axes\", \"zorder\": 1000002.0, \"markerpath\": [[[0.0, 3.0], [0.7956093000000001, 3.0], [1.5587396123545605, 2.683901074764725], [2.121320343559643, 2.121320343559643], [2.683901074764725, 1.5587396123545605], [3.0, 0.7956093000000001], [3.0, 0.0], [3.0, -0.7956093000000001], [2.683901074764725, -1.5587396123545605], [2.121320343559643, -2.121320343559643], [1.5587396123545605, -2.683901074764725], [0.7956093000000001, -3.0], [0.0, -3.0], [-0.7956093000000001, -3.0], [-1.5587396123545605, -2.683901074764725], [-2.121320343559643, -2.121320343559643], [-2.683901074764725, -1.5587396123545605], [-3.0, -0.7956093000000001], [-3.0, 0.0], [-3.0, 0.7956093000000001], [-2.683901074764725, 1.5587396123545605], [-2.121320343559643, 2.121320343559643], [-1.5587396123545605, 2.683901074764725], [-0.7956093000000001, 3.0], [0.0, 3.0]], [\"M\", \"C\", \"C\", \"C\", \"C\", \"C\", \"C\", \"C\", \"C\", \"Z\"]], \"alpha\": 1, \"xindex\": 0, \"data\": \"data03\", \"id\": \"el168624585287376pts\"}, {\"edgecolor\": \"#000000\", \"facecolor\": \"#FF0000\", \"edgewidth\": 0.5, \"yindex\": 2, \"coordinates\": \"axes\", \"zorder\": 1000002.0, \"markerpath\": [[[1.8369701987210297e-16, -3.0], [-0.6735419450314403, -0.9270509558202635], [-2.8531695488854605, -0.9270509831248426], [-1.089813759909584, 0.3541019558202634], [-1.7633557568774196, 2.427050983124842], [-2.1049804767740306e-16, 1.145898], [1.7633557568774187, 2.427050983124843], [1.089813759909584, 0.35410195582026377], [2.853169548885461, -0.9270509831248415], [0.6735419450314407, -0.9270509558202634]], [\"M\", \"L\", \"L\", \"L\", \"L\", \"L\", \"L\", \"L\", \"L\", \"L\", \"Z\"]], \"alpha\": 1, \"xindex\": 0, \"data\": \"data03\", \"id\": \"el168624585244176pts\"}], \"id\": \"el168624468855312\", \"ydomain\": [0.0, 1000.0], \"collections\": [], \"xscale\": \"linear\", \"bbox\": [0.125, 0.125, 0.77500000000000002, 0.77500000000000002]}], \"height\": 320.0, \"width\": 480.0, \"plugins\": [{\"type\": \"reset\"}, {\"enabled\": false, \"button\": true, \"type\": \"zoom\"}, {\"enabled\": false, \"button\": true, \"type\": \"boxzoom\"}], \"data\": {\"data04\": [[0.6873879928315413, 0.026881720430107503], [0.982078853046595, 0.026881720430107503], [0.982078853046595, 0.20967741935483872], [0.6873879928315413, 0.20967741935483872], [0.6873879928315413, 0.026881720430107503]], \"data02\": [[515.2941055560588, 1.5647240797910071], [72.0, 27.0], [604.8176679035524, 44.70998497026613], [724.9995160129386, 66.28783704505811], [947.9753057473579, 75.85007010726025], [823.9995780231649, 82.28875875810498], [891.3652032423453, 122.09466991059935], [527.2503696986015, 285.15096090167793], [908.3900745350162, 332.746619426678], [652.9231128539896, 476.6943331667928], [735.0, 483.4927629760487], [58.25017026068701, 520.6692029424856], [393.2547292991283, 537.409600074684], [312.7417129278377, 577.7377240426347], [262.83841519198523, 665.5469434336135], [46.16843459357888, 671.9584048282542], [262.8377553706872, 665.4299000812177], [46.19301939639514, 671.9353039853904], [262.8088448557652, 665.4140461695177], [46.19162581415322, 671.9110009925029], [46.145046029724654, 671.8157243177282], [377.06053943892454, 705.7583878379537], [977.1005010745571, 764.5182511670921], [688.4857931753264, 771.3362458030912], [977.1368829559877, 764.4605517864663], [688.4951643041414, 771.326776850634], [977.1301692705557, 764.4530063258225], [688.5046635000336, 771.3174449652435], [977.1295075708031, 764.4460672471605], [688.5134854500906, 771.3077871860111], [977.1146481146781, 764.4394816449033], [688.5142566279662, 771.2986966852167], [977.1077991096995, 764.4316771771712], [688.5139918937273, 771.2891962094626], [977.0933104162104, 764.4241796644902], [688.5139164496892, 771.2798490278226], [183.99338845291038, 795.7552438937191], [892.0039381319522, 826.0015296939332], [792.5013525356067, 833.0000374281497], [731.0719443604956, 850.5146125139235], [137.19096431219364, 864.0923179668448], [860.0, 956.0], [936.3360180044742, 966.1622676240042]], \"data03\": [[0.7375672043010753, 0.16263440860215056, 0.0793010752688172]], \"data01\": [[886.3380614628484, 838.3458157163519], [822.6957566311512, 853.0690148026534], [816.243820173486, 846.2157285977488], [782.9252672936492, 770.639696397437], [759.1454383870334, 473.27989845791876], [634.6877915007796, 276.6779168211791], [529.4574796560247, 187.85358533706403], [523.13384749051, 189.23418737945212], [471.95994461544575, 694.7978307030644], [412.2514658588215, 562.2415993215108], [359.2947119626091, 647.9822056068958], [302.8946283165474, 461.2849867145891], [272.3810440663621, 777.1987455860651], [222.36148864931806, 843.4562736695199], [156.95504366056736, 493.99779803509347], [138.08012810280104, 644.8893382135795]]}, \"id\": \"el168624590144784\"});\n",
        "   }(mpld3);\n",
        "}else if(typeof define === \"function\" && define.amd){\n",
        "   // require.js is available: use it to load d3/mpld3\n",
        "   require.config({paths: {d3: \"https://mpld3.github.io/js/d3.v3.min\"}});\n",
        "   require([\"d3\"], function(d3){\n",
        "      window.d3 = d3;\n",
        "      mpld3_load_lib(\"https://mpld3.github.io/js/mpld3.v0.2.js\", function(){\n",
        "         \n",
        "         mpld3.draw_figure(\"fig_el1686245901447848959997027\", {\"axes\": [{\"xlim\": [0.0, 1000.0], \"yscale\": \"linear\", \"axesbg\": \"#FFFFFF\", \"texts\": [{\"v_baseline\": \"hanging\", \"h_anchor\": \"middle\", \"color\": \"#000000\", \"text\": \"x [pixel]\", \"coordinates\": \"axes\", \"zorder\": 3, \"alpha\": 1, \"fontsize\": 12.0, \"position\": [0.5, -0.080645161290322578], \"rotation\": -0.0, \"id\": \"el168624602063568\"}, {\"v_baseline\": \"auto\", \"h_anchor\": \"middle\", \"color\": \"#000000\", \"text\": \"y [pixel]\", \"coordinates\": \"axes\", \"zorder\": 3, \"alpha\": 1, \"fontsize\": 12.0, \"position\": [-0.098118279569892469, 0.5], \"rotation\": -90.0, \"id\": \"el168624603096848\"}, {\"v_baseline\": \"auto\", \"h_anchor\": \"start\", \"color\": \"#000000\", \"text\": \"USNO\", \"coordinates\": \"axes\", \"zorder\": 1000003.0, \"alpha\": 1, \"fontsize\": 12.0, \"position\": [0.80208333333333326, 0.14381720430107528], \"rotation\": -0.0, \"id\": \"el168624579313360\"}, {\"v_baseline\": \"auto\", \"h_anchor\": \"start\", \"color\": \"#000000\", \"text\": \"CCD data\", \"coordinates\": \"axes\", \"zorder\": 1000003.0, \"alpha\": 1, \"fontsize\": 12.0, \"position\": [0.80208333333333326, 0.060483870967741937], \"rotation\": -0.0, \"id\": \"el168624585286288\"}], \"zoomable\": true, \"images\": [], \"xdomain\": [0.0, 1000.0], \"ylim\": [0.0, 1000.0], \"paths\": [{\"edgecolor\": \"#000000\", \"facecolor\": \"#FFFFFF\", \"edgewidth\": 1.0, \"pathcodes\": [\"M\", \"L\", \"L\", \"L\", \"L\", \"Z\"], \"yindex\": 1, \"coordinates\": \"axes\", \"dasharray\": \"10,0\", \"zorder\": 1000001.0, \"alpha\": 1, \"xindex\": 0, \"data\": \"data04\", \"id\": \"el168624579572368\"}], \"sharey\": [], \"sharex\": [], \"axesbgalpha\": null, \"axes\": [{\"scale\": \"linear\", \"tickformat\": null, \"grid\": {\"gridOn\": false}, \"fontsize\": 10.0, \"position\": \"bottom\", \"nticks\": 6, \"tickvalues\": null}, {\"scale\": \"linear\", \"tickformat\": null, \"grid\": {\"gridOn\": false}, \"fontsize\": 10.0, \"position\": \"left\", \"nticks\": 6, \"tickvalues\": null}], \"lines\": [], \"markers\": [{\"edgecolor\": \"#000000\", \"facecolor\": \"#0000FF\", \"edgewidth\": 0.5, \"yindex\": 1, \"coordinates\": \"data\", \"zorder\": 2, \"markerpath\": [[[0.0, 3.0], [0.7956093000000001, 3.0], [1.5587396123545605, 2.683901074764725], [2.121320343559643, 2.121320343559643], [2.683901074764725, 1.5587396123545605], [3.0, 0.7956093000000001], [3.0, 0.0], [3.0, -0.7956093000000001], [2.683901074764725, -1.5587396123545605], [2.121320343559643, -2.121320343559643], [1.5587396123545605, -2.683901074764725], [0.7956093000000001, -3.0], [0.0, -3.0], [-0.7956093000000001, -3.0], [-1.5587396123545605, -2.683901074764725], [-2.121320343559643, -2.121320343559643], [-2.683901074764725, -1.5587396123545605], [-3.0, -0.7956093000000001], [-3.0, 0.0], [-3.0, 0.7956093000000001], [-2.683901074764725, 1.5587396123545605], [-2.121320343559643, 2.121320343559643], [-1.5587396123545605, 2.683901074764725], [-0.7956093000000001, 3.0], [0.0, 3.0]], [\"M\", \"C\", \"C\", \"C\", \"C\", \"C\", \"C\", \"C\", \"C\", \"Z\"]], \"alpha\": 1, \"xindex\": 0, \"data\": \"data01\", \"id\": \"el168624602106960pts\"}, {\"edgecolor\": \"#000000\", \"facecolor\": \"#FF0000\", \"edgewidth\": 0.5, \"yindex\": 1, \"coordinates\": \"data\", \"zorder\": 2, \"markerpath\": [[[1.8369701987210297e-16, -3.0], [-0.6735419450314403, -0.9270509558202635], [-2.8531695488854605, -0.9270509831248426], [-1.089813759909584, 0.3541019558202634], [-1.7633557568774196, 2.427050983124842], [-2.1049804767740306e-16, 1.145898], [1.7633557568774187, 2.427050983124843], [1.089813759909584, 0.35410195582026377], [2.853169548885461, -0.9270509831248415], [0.6735419450314407, -0.9270509558202634]], [\"M\", \"L\", \"L\", \"L\", \"L\", \"L\", \"L\", \"L\", \"L\", \"L\", \"Z\"]], \"alpha\": 1, \"xindex\": 0, \"data\": \"data02\", \"id\": \"el168624589504528pts\"}, {\"edgecolor\": \"#000000\", \"facecolor\": \"#0000FF\", \"edgewidth\": 0.5, \"yindex\": 1, \"coordinates\": \"axes\", \"zorder\": 1000002.0, \"markerpath\": [[[0.0, 3.0], [0.7956093000000001, 3.0], [1.5587396123545605, 2.683901074764725], [2.121320343559643, 2.121320343559643], [2.683901074764725, 1.5587396123545605], [3.0, 0.7956093000000001], [3.0, 0.0], [3.0, -0.7956093000000001], [2.683901074764725, -1.5587396123545605], [2.121320343559643, -2.121320343559643], [1.5587396123545605, -2.683901074764725], [0.7956093000000001, -3.0], [0.0, -3.0], [-0.7956093000000001, -3.0], [-1.5587396123545605, -2.683901074764725], [-2.121320343559643, -2.121320343559643], [-2.683901074764725, -1.5587396123545605], [-3.0, -0.7956093000000001], [-3.0, 0.0], [-3.0, 0.7956093000000001], [-2.683901074764725, 1.5587396123545605], [-2.121320343559643, 2.121320343559643], [-1.5587396123545605, 2.683901074764725], [-0.7956093000000001, 3.0], [0.0, 3.0]], [\"M\", \"C\", \"C\", \"C\", \"C\", \"C\", \"C\", \"C\", \"C\", \"Z\"]], \"alpha\": 1, \"xindex\": 0, \"data\": \"data03\", \"id\": \"el168624585287376pts\"}, {\"edgecolor\": \"#000000\", \"facecolor\": \"#FF0000\", \"edgewidth\": 0.5, \"yindex\": 2, \"coordinates\": \"axes\", \"zorder\": 1000002.0, \"markerpath\": [[[1.8369701987210297e-16, -3.0], [-0.6735419450314403, -0.9270509558202635], [-2.8531695488854605, -0.9270509831248426], [-1.089813759909584, 0.3541019558202634], [-1.7633557568774196, 2.427050983124842], [-2.1049804767740306e-16, 1.145898], [1.7633557568774187, 2.427050983124843], [1.089813759909584, 0.35410195582026377], [2.853169548885461, -0.9270509831248415], [0.6735419450314407, -0.9270509558202634]], [\"M\", \"L\", \"L\", \"L\", \"L\", \"L\", \"L\", \"L\", \"L\", \"L\", \"Z\"]], \"alpha\": 1, \"xindex\": 0, \"data\": \"data03\", \"id\": \"el168624585244176pts\"}], \"id\": \"el168624468855312\", \"ydomain\": [0.0, 1000.0], \"collections\": [], \"xscale\": \"linear\", \"bbox\": [0.125, 0.125, 0.77500000000000002, 0.77500000000000002]}], \"height\": 320.0, \"width\": 480.0, \"plugins\": [{\"type\": \"reset\"}, {\"enabled\": false, \"button\": true, \"type\": \"zoom\"}, {\"enabled\": false, \"button\": true, \"type\": \"boxzoom\"}], \"data\": {\"data04\": [[0.6873879928315413, 0.026881720430107503], [0.982078853046595, 0.026881720430107503], [0.982078853046595, 0.20967741935483872], [0.6873879928315413, 0.20967741935483872], [0.6873879928315413, 0.026881720430107503]], \"data02\": [[515.2941055560588, 1.5647240797910071], [72.0, 27.0], [604.8176679035524, 44.70998497026613], [724.9995160129386, 66.28783704505811], [947.9753057473579, 75.85007010726025], [823.9995780231649, 82.28875875810498], [891.3652032423453, 122.09466991059935], [527.2503696986015, 285.15096090167793], [908.3900745350162, 332.746619426678], [652.9231128539896, 476.6943331667928], [735.0, 483.4927629760487], [58.25017026068701, 520.6692029424856], [393.2547292991283, 537.409600074684], [312.7417129278377, 577.7377240426347], [262.83841519198523, 665.5469434336135], [46.16843459357888, 671.9584048282542], [262.8377553706872, 665.4299000812177], [46.19301939639514, 671.9353039853904], [262.8088448557652, 665.4140461695177], [46.19162581415322, 671.9110009925029], [46.145046029724654, 671.8157243177282], [377.06053943892454, 705.7583878379537], [977.1005010745571, 764.5182511670921], [688.4857931753264, 771.3362458030912], [977.1368829559877, 764.4605517864663], [688.4951643041414, 771.326776850634], [977.1301692705557, 764.4530063258225], [688.5046635000336, 771.3174449652435], [977.1295075708031, 764.4460672471605], [688.5134854500906, 771.3077871860111], [977.1146481146781, 764.4394816449033], [688.5142566279662, 771.2986966852167], [977.1077991096995, 764.4316771771712], [688.5139918937273, 771.2891962094626], [977.0933104162104, 764.4241796644902], [688.5139164496892, 771.2798490278226], [183.99338845291038, 795.7552438937191], [892.0039381319522, 826.0015296939332], [792.5013525356067, 833.0000374281497], [731.0719443604956, 850.5146125139235], [137.19096431219364, 864.0923179668448], [860.0, 956.0], [936.3360180044742, 966.1622676240042]], \"data03\": [[0.7375672043010753, 0.16263440860215056, 0.0793010752688172]], \"data01\": [[886.3380614628484, 838.3458157163519], [822.6957566311512, 853.0690148026534], [816.243820173486, 846.2157285977488], [782.9252672936492, 770.639696397437], [759.1454383870334, 473.27989845791876], [634.6877915007796, 276.6779168211791], [529.4574796560247, 187.85358533706403], [523.13384749051, 189.23418737945212], [471.95994461544575, 694.7978307030644], [412.2514658588215, 562.2415993215108], [359.2947119626091, 647.9822056068958], [302.8946283165474, 461.2849867145891], [272.3810440663621, 777.1987455860651], [222.36148864931806, 843.4562736695199], [156.95504366056736, 493.99779803509347], [138.08012810280104, 644.8893382135795]]}, \"id\": \"el168624590144784\"});\n",
        "      });\n",
        "    });\n",
        "}else{\n",
        "    // require.js not available: dynamically load d3 & mpld3\n",
        "    mpld3_load_lib(\"https://mpld3.github.io/js/d3.v3.min.js\", function(){\n",
        "         mpld3_load_lib(\"https://mpld3.github.io/js/mpld3.v0.2.js\", function(){\n",
        "                 \n",
        "                 mpld3.draw_figure(\"fig_el1686245901447848959997027\", {\"axes\": [{\"xlim\": [0.0, 1000.0], \"yscale\": \"linear\", \"axesbg\": \"#FFFFFF\", \"texts\": [{\"v_baseline\": \"hanging\", \"h_anchor\": \"middle\", \"color\": \"#000000\", \"text\": \"x [pixel]\", \"coordinates\": \"axes\", \"zorder\": 3, \"alpha\": 1, \"fontsize\": 12.0, \"position\": [0.5, -0.080645161290322578], \"rotation\": -0.0, \"id\": \"el168624602063568\"}, {\"v_baseline\": \"auto\", \"h_anchor\": \"middle\", \"color\": \"#000000\", \"text\": \"y [pixel]\", \"coordinates\": \"axes\", \"zorder\": 3, \"alpha\": 1, \"fontsize\": 12.0, \"position\": [-0.098118279569892469, 0.5], \"rotation\": -90.0, \"id\": \"el168624603096848\"}, {\"v_baseline\": \"auto\", \"h_anchor\": \"start\", \"color\": \"#000000\", \"text\": \"USNO\", \"coordinates\": \"axes\", \"zorder\": 1000003.0, \"alpha\": 1, \"fontsize\": 12.0, \"position\": [0.80208333333333326, 0.14381720430107528], \"rotation\": -0.0, \"id\": \"el168624579313360\"}, {\"v_baseline\": \"auto\", \"h_anchor\": \"start\", \"color\": \"#000000\", \"text\": \"CCD data\", \"coordinates\": \"axes\", \"zorder\": 1000003.0, \"alpha\": 1, \"fontsize\": 12.0, \"position\": [0.80208333333333326, 0.060483870967741937], \"rotation\": -0.0, \"id\": \"el168624585286288\"}], \"zoomable\": true, \"images\": [], \"xdomain\": [0.0, 1000.0], \"ylim\": [0.0, 1000.0], \"paths\": [{\"edgecolor\": \"#000000\", \"facecolor\": \"#FFFFFF\", \"edgewidth\": 1.0, \"pathcodes\": [\"M\", \"L\", \"L\", \"L\", \"L\", \"Z\"], \"yindex\": 1, \"coordinates\": \"axes\", \"dasharray\": \"10,0\", \"zorder\": 1000001.0, \"alpha\": 1, \"xindex\": 0, \"data\": \"data04\", \"id\": \"el168624579572368\"}], \"sharey\": [], \"sharex\": [], \"axesbgalpha\": null, \"axes\": [{\"scale\": \"linear\", \"tickformat\": null, \"grid\": {\"gridOn\": false}, \"fontsize\": 10.0, \"position\": \"bottom\", \"nticks\": 6, \"tickvalues\": null}, {\"scale\": \"linear\", \"tickformat\": null, \"grid\": {\"gridOn\": false}, \"fontsize\": 10.0, \"position\": \"left\", \"nticks\": 6, \"tickvalues\": null}], \"lines\": [], \"markers\": [{\"edgecolor\": \"#000000\", \"facecolor\": \"#0000FF\", \"edgewidth\": 0.5, \"yindex\": 1, \"coordinates\": \"data\", \"zorder\": 2, \"markerpath\": [[[0.0, 3.0], [0.7956093000000001, 3.0], [1.5587396123545605, 2.683901074764725], [2.121320343559643, 2.121320343559643], [2.683901074764725, 1.5587396123545605], [3.0, 0.7956093000000001], [3.0, 0.0], [3.0, -0.7956093000000001], [2.683901074764725, -1.5587396123545605], [2.121320343559643, -2.121320343559643], [1.5587396123545605, -2.683901074764725], [0.7956093000000001, -3.0], [0.0, -3.0], [-0.7956093000000001, -3.0], [-1.5587396123545605, -2.683901074764725], [-2.121320343559643, -2.121320343559643], [-2.683901074764725, -1.5587396123545605], [-3.0, -0.7956093000000001], [-3.0, 0.0], [-3.0, 0.7956093000000001], [-2.683901074764725, 1.5587396123545605], [-2.121320343559643, 2.121320343559643], [-1.5587396123545605, 2.683901074764725], [-0.7956093000000001, 3.0], [0.0, 3.0]], [\"M\", \"C\", \"C\", \"C\", \"C\", \"C\", \"C\", \"C\", \"C\", \"Z\"]], \"alpha\": 1, \"xindex\": 0, \"data\": \"data01\", \"id\": \"el168624602106960pts\"}, {\"edgecolor\": \"#000000\", \"facecolor\": \"#FF0000\", \"edgewidth\": 0.5, \"yindex\": 1, \"coordinates\": \"data\", \"zorder\": 2, \"markerpath\": [[[1.8369701987210297e-16, -3.0], [-0.6735419450314403, -0.9270509558202635], [-2.8531695488854605, -0.9270509831248426], [-1.089813759909584, 0.3541019558202634], [-1.7633557568774196, 2.427050983124842], [-2.1049804767740306e-16, 1.145898], [1.7633557568774187, 2.427050983124843], [1.089813759909584, 0.35410195582026377], [2.853169548885461, -0.9270509831248415], [0.6735419450314407, -0.9270509558202634]], [\"M\", \"L\", \"L\", \"L\", \"L\", \"L\", \"L\", \"L\", \"L\", \"L\", \"Z\"]], \"alpha\": 1, \"xindex\": 0, \"data\": \"data02\", \"id\": \"el168624589504528pts\"}, {\"edgecolor\": \"#000000\", \"facecolor\": \"#0000FF\", \"edgewidth\": 0.5, \"yindex\": 1, \"coordinates\": \"axes\", \"zorder\": 1000002.0, \"markerpath\": [[[0.0, 3.0], [0.7956093000000001, 3.0], [1.5587396123545605, 2.683901074764725], [2.121320343559643, 2.121320343559643], [2.683901074764725, 1.5587396123545605], [3.0, 0.7956093000000001], [3.0, 0.0], [3.0, -0.7956093000000001], [2.683901074764725, -1.5587396123545605], [2.121320343559643, -2.121320343559643], [1.5587396123545605, -2.683901074764725], [0.7956093000000001, -3.0], [0.0, -3.0], [-0.7956093000000001, -3.0], [-1.5587396123545605, -2.683901074764725], [-2.121320343559643, -2.121320343559643], [-2.683901074764725, -1.5587396123545605], [-3.0, -0.7956093000000001], [-3.0, 0.0], [-3.0, 0.7956093000000001], [-2.683901074764725, 1.5587396123545605], [-2.121320343559643, 2.121320343559643], [-1.5587396123545605, 2.683901074764725], [-0.7956093000000001, 3.0], [0.0, 3.0]], [\"M\", \"C\", \"C\", \"C\", \"C\", \"C\", \"C\", \"C\", \"C\", \"Z\"]], \"alpha\": 1, \"xindex\": 0, \"data\": \"data03\", \"id\": \"el168624585287376pts\"}, {\"edgecolor\": \"#000000\", \"facecolor\": \"#FF0000\", \"edgewidth\": 0.5, \"yindex\": 2, \"coordinates\": \"axes\", \"zorder\": 1000002.0, \"markerpath\": [[[1.8369701987210297e-16, -3.0], [-0.6735419450314403, -0.9270509558202635], [-2.8531695488854605, -0.9270509831248426], [-1.089813759909584, 0.3541019558202634], [-1.7633557568774196, 2.427050983124842], [-2.1049804767740306e-16, 1.145898], [1.7633557568774187, 2.427050983124843], [1.089813759909584, 0.35410195582026377], [2.853169548885461, -0.9270509831248415], [0.6735419450314407, -0.9270509558202634]], [\"M\", \"L\", \"L\", \"L\", \"L\", \"L\", \"L\", \"L\", \"L\", \"L\", \"Z\"]], \"alpha\": 1, \"xindex\": 0, \"data\": \"data03\", \"id\": \"el168624585244176pts\"}], \"id\": \"el168624468855312\", \"ydomain\": [0.0, 1000.0], \"collections\": [], \"xscale\": \"linear\", \"bbox\": [0.125, 0.125, 0.77500000000000002, 0.77500000000000002]}], \"height\": 320.0, \"width\": 480.0, \"plugins\": [{\"type\": \"reset\"}, {\"enabled\": false, \"button\": true, \"type\": \"zoom\"}, {\"enabled\": false, \"button\": true, \"type\": \"boxzoom\"}], \"data\": {\"data04\": [[0.6873879928315413, 0.026881720430107503], [0.982078853046595, 0.026881720430107503], [0.982078853046595, 0.20967741935483872], [0.6873879928315413, 0.20967741935483872], [0.6873879928315413, 0.026881720430107503]], \"data02\": [[515.2941055560588, 1.5647240797910071], [72.0, 27.0], [604.8176679035524, 44.70998497026613], [724.9995160129386, 66.28783704505811], [947.9753057473579, 75.85007010726025], [823.9995780231649, 82.28875875810498], [891.3652032423453, 122.09466991059935], [527.2503696986015, 285.15096090167793], [908.3900745350162, 332.746619426678], [652.9231128539896, 476.6943331667928], [735.0, 483.4927629760487], [58.25017026068701, 520.6692029424856], [393.2547292991283, 537.409600074684], [312.7417129278377, 577.7377240426347], [262.83841519198523, 665.5469434336135], [46.16843459357888, 671.9584048282542], [262.8377553706872, 665.4299000812177], [46.19301939639514, 671.9353039853904], [262.8088448557652, 665.4140461695177], [46.19162581415322, 671.9110009925029], [46.145046029724654, 671.8157243177282], [377.06053943892454, 705.7583878379537], [977.1005010745571, 764.5182511670921], [688.4857931753264, 771.3362458030912], [977.1368829559877, 764.4605517864663], [688.4951643041414, 771.326776850634], [977.1301692705557, 764.4530063258225], [688.5046635000336, 771.3174449652435], [977.1295075708031, 764.4460672471605], [688.5134854500906, 771.3077871860111], [977.1146481146781, 764.4394816449033], [688.5142566279662, 771.2986966852167], [977.1077991096995, 764.4316771771712], [688.5139918937273, 771.2891962094626], [977.0933104162104, 764.4241796644902], [688.5139164496892, 771.2798490278226], [183.99338845291038, 795.7552438937191], [892.0039381319522, 826.0015296939332], [792.5013525356067, 833.0000374281497], [731.0719443604956, 850.5146125139235], [137.19096431219364, 864.0923179668448], [860.0, 956.0], [936.3360180044742, 966.1622676240042]], \"data03\": [[0.7375672043010753, 0.16263440860215056, 0.0793010752688172]], \"data01\": [[886.3380614628484, 838.3458157163519], [822.6957566311512, 853.0690148026534], [816.243820173486, 846.2157285977488], [782.9252672936492, 770.639696397437], [759.1454383870334, 473.27989845791876], [634.6877915007796, 276.6779168211791], [529.4574796560247, 187.85358533706403], [523.13384749051, 189.23418737945212], [471.95994461544575, 694.7978307030644], [412.2514658588215, 562.2415993215108], [359.2947119626091, 647.9822056068958], [302.8946283165474, 461.2849867145891], [272.3810440663621, 777.1987455860651], [222.36148864931806, 843.4562736695199], [156.95504366056736, 493.99779803509347], [138.08012810280104, 644.8893382135795]]}, \"id\": \"el168624590144784\"});\n",
        "            })\n",
        "         });\n",
        "}\n",
        "</script>"
       ],
       "metadata": {},
       "output_type": "display_data",
       "png": "[encoded data removed]",
       "text": [
        "<matplotlib.figure.Figure at 0x111980d10>"
       ]
      }
     ],
     "prompt_number": 59
    },
    {
     "cell_type": "code",
     "collapsed": false,
     "input": [
      "plt.plot(x_pixcoord , \"*\" , label=\"x\")\n",
      "plt.plot(y_pixcoord,\".\", color=\"red\", label= \"y\")\n",
      "plt.xlabel(\"x or y [pixel]\",fontsize=12)\n",
      "plt.ylabel(\"Pixel offset\",fontsize=12)\n",
      "plt.legend(loc='lower right',prop={'size':12},numpoints=1)"
     ],
     "language": "python",
     "metadata": {},
     "outputs": [
      {
       "metadata": {},
       "output_type": "pyout",
       "prompt_number": 60,
       "text": [
        "<matplotlib.legend.Legend at 0x112353dd0>"
       ]
      },
      {
       "html": [
        "\n",
        "\n",
        "<style>\n",
        "\n",
        "</style>\n",
        "\n",
        "<div id=\"fig_el1686245901621927816036236\"></div>\n",
        "<script>\n",
        "function mpld3_load_lib(url, callback){\n",
        "  var s = document.createElement('script');\n",
        "  s.src = url;\n",
        "  s.async = true;\n",
        "  s.onreadystatechange = s.onload = callback;\n",
        "  s.onerror = function(){console.warn(\"failed to load library \" + url);};\n",
        "  document.getElementsByTagName(\"head\")[0].appendChild(s);\n",
        "}\n",
        "\n",
        "if(typeof(mpld3) !== \"undefined\" && mpld3._mpld3IsLoaded){\n",
        "   // already loaded: just create the figure\n",
        "   !function(mpld3){\n",
        "       \n",
        "       mpld3.draw_figure(\"fig_el1686245901621927816036236\", {\"axes\": [{\"xlim\": [0.0, 16.0], \"yscale\": \"linear\", \"axesbg\": \"#FFFFFF\", \"texts\": [{\"v_baseline\": \"hanging\", \"h_anchor\": \"middle\", \"color\": \"#000000\", \"text\": \"x or y [pixel]\", \"coordinates\": \"axes\", \"zorder\": 3, \"alpha\": 1, \"fontsize\": 12.0, \"position\": [0.5, -0.080645161290322578], \"rotation\": -0.0, \"id\": \"el168624602073488\"}, {\"v_baseline\": \"auto\", \"h_anchor\": \"middle\", \"color\": \"#000000\", \"text\": \"Pixel offset\", \"coordinates\": \"axes\", \"zorder\": 3, \"alpha\": 1, \"fontsize\": 12.0, \"position\": [-0.080771169354838704, 0.5], \"rotation\": -90.0, \"id\": \"el168624473485008\"}, {\"v_baseline\": \"auto\", \"h_anchor\": \"start\", \"color\": \"#000000\", \"text\": \"x\", \"coordinates\": \"axes\", \"zorder\": 1000003.0, \"alpha\": 1, \"fontsize\": 12.0, \"position\": [0.94867271505376338, 0.14381720430107528], \"rotation\": -0.0, \"id\": \"el168624473630096\"}, {\"v_baseline\": \"auto\", \"h_anchor\": \"start\", \"color\": \"#000000\", \"text\": \"y\", \"coordinates\": \"axes\", \"zorder\": 1000003.0, \"alpha\": 1, \"fontsize\": 12.0, \"position\": [0.94867271505376338, 0.060483870967741937], \"rotation\": -0.0, \"id\": \"el168624473636688\"}], \"zoomable\": true, \"images\": [], \"xdomain\": [0.0, 16.0], \"ylim\": [100.0, 900.0], \"paths\": [{\"edgecolor\": \"#000000\", \"facecolor\": \"#FFFFFF\", \"edgewidth\": 1.0, \"pathcodes\": [\"M\", \"L\", \"L\", \"L\", \"L\", \"Z\"], \"yindex\": 1, \"coordinates\": \"axes\", \"dasharray\": \"10,0\", \"zorder\": 1000001.0, \"alpha\": 1, \"xindex\": 0, \"data\": \"data03\", \"id\": \"el168624473628944\"}], \"sharey\": [], \"sharex\": [], \"axesbgalpha\": null, \"axes\": [{\"scale\": \"linear\", \"tickformat\": null, \"grid\": {\"gridOn\": false}, \"fontsize\": 10.0, \"position\": \"bottom\", \"nticks\": 9, \"tickvalues\": null}, {\"scale\": \"linear\", \"tickformat\": null, \"grid\": {\"gridOn\": false}, \"fontsize\": 10.0, \"position\": \"left\", \"nticks\": 9, \"tickvalues\": null}], \"lines\": [], \"markers\": [{\"edgecolor\": \"#000000\", \"facecolor\": \"#0000FF\", \"edgewidth\": 0.5, \"yindex\": 1, \"coordinates\": \"data\", \"zorder\": 2, \"markerpath\": [[[1.8369701987210297e-16, -3.0], [-0.6735419450314403, -0.9270509558202635], [-2.8531695488854605, -0.9270509831248426], [-1.089813759909584, 0.3541019558202634], [-1.7633557568774196, 2.427050983124842], [-2.1049804767740306e-16, 1.145898], [1.7633557568774187, 2.427050983124843], [1.089813759909584, 0.35410195582026377], [2.853169548885461, -0.9270509831248415], [0.6735419450314407, -0.9270509558202634]], [\"M\", \"L\", \"L\", \"L\", \"L\", \"L\", \"L\", \"L\", \"L\", \"L\", \"Z\"]], \"alpha\": 1, \"xindex\": 0, \"data\": \"data01\", \"id\": \"el168624600445648pts\"}, {\"edgecolor\": \"#FF0000\", \"facecolor\": \"#FF0000\", \"edgewidth\": 0.5, \"yindex\": 2, \"coordinates\": \"data\", \"zorder\": 2, \"markerpath\": [[[0.0, 1.5], [0.39780465000000004, 1.5], [0.7793698061772802, 1.3419505373823626], [1.0606601717798214, 1.0606601717798214], [1.3419505373823626, 0.7793698061772802], [1.5, 0.39780465000000004], [1.5, 0.0], [1.5, -0.39780465000000004], [1.3419505373823626, -0.7793698061772802], [1.0606601717798214, -1.0606601717798214], [0.7793698061772802, -1.3419505373823626], [0.39780465000000004, -1.5], [0.0, -1.5], [-0.39780465000000004, -1.5], [-0.7793698061772802, -1.3419505373823626], [-1.0606601717798214, -1.0606601717798214], [-1.3419505373823626, -0.7793698061772802], [-1.5, -0.39780465000000004], [-1.5, 0.0], [-1.5, 0.39780465000000004], [-1.3419505373823626, 0.7793698061772802], [-1.0606601717798214, 1.0606601717798214], [-0.7793698061772802, 1.3419505373823626], [-0.39780465000000004, 1.5], [0.0, 1.5]], [\"M\", \"C\", \"C\", \"C\", \"C\", \"C\", \"C\", \"C\", \"C\", \"Z\"]], \"alpha\": 1, \"xindex\": 0, \"data\": \"data01\", \"id\": \"el168624590163216pts\"}, {\"edgecolor\": \"#000000\", \"facecolor\": \"#0000FF\", \"edgewidth\": 0.5, \"yindex\": 1, \"coordinates\": \"axes\", \"zorder\": 1000002.0, \"markerpath\": [[[1.8369701987210297e-16, -3.0], [-0.6735419450314403, -0.9270509558202635], [-2.8531695488854605, -0.9270509831248426], [-1.089813759909584, 0.3541019558202634], [-1.7633557568774196, 2.427050983124842], [-2.1049804767740306e-16, 1.145898], [1.7633557568774187, 2.427050983124843], [1.089813759909584, 0.35410195582026377], [2.853169548885461, -0.9270509831248415], [0.6735419450314407, -0.9270509558202634]], [\"M\", \"L\", \"L\", \"L\", \"L\", \"L\", \"L\", \"L\", \"L\", \"L\", \"Z\"]], \"alpha\": 1, \"xindex\": 0, \"data\": \"data02\", \"id\": \"el168624473635792pts\"}, {\"edgecolor\": \"#FF0000\", \"facecolor\": \"#FF0000\", \"edgewidth\": 0.5, \"yindex\": 2, \"coordinates\": \"axes\", \"zorder\": 1000002.0, \"markerpath\": [[[0.0, 1.5], [0.39780465000000004, 1.5], [0.7793698061772802, 1.3419505373823626], [1.0606601717798214, 1.0606601717798214], [1.3419505373823626, 0.7793698061772802], [1.5, 0.39780465000000004], [1.5, 0.0], [1.5, -0.39780465000000004], [1.3419505373823626, -0.7793698061772802], [1.0606601717798214, -1.0606601717798214], [0.7793698061772802, -1.3419505373823626], [0.39780465000000004, -1.5], [0.0, -1.5], [-0.39780465000000004, -1.5], [-0.7793698061772802, -1.3419505373823626], [-1.0606601717798214, -1.0606601717798214], [-1.3419505373823626, -0.7793698061772802], [-1.5, -0.39780465000000004], [-1.5, 0.0], [-1.5, 0.39780465000000004], [-1.3419505373823626, 0.7793698061772802], [-1.0606601717798214, 1.0606601717798214], [-0.7793698061772802, 1.3419505373823626], [-0.39780465000000004, 1.5], [0.0, 1.5]], [\"M\", \"C\", \"C\", \"C\", \"C\", \"C\", \"C\", \"C\", \"C\", \"Z\"]], \"alpha\": 1, \"xindex\": 0, \"data\": \"data02\", \"id\": \"el168624473638864pts\"}], \"id\": \"el168624602877328\", \"ydomain\": [100.0, 900.0], \"collections\": [], \"xscale\": \"linear\", \"bbox\": [0.125, 0.125, 0.77500000000000002, 0.77500000000000002]}], \"height\": 320.0, \"width\": 480.0, \"plugins\": [{\"type\": \"reset\"}, {\"enabled\": false, \"button\": true, \"type\": \"zoom\"}, {\"enabled\": false, \"button\": true, \"type\": \"boxzoom\"}], \"data\": {\"data02\": [[0.8841565860215055, 0.16263440860215056, 0.0793010752688172]], \"data03\": [[0.8339773745519714, 0.026881720430107503], [0.982078853046595, 0.026881720430107503], [0.982078853046595, 0.20967741935483872], [0.8339773745519714, 0.20967741935483872], [0.8339773745519714, 0.026881720430107503]], \"data01\": [[0.0, 886.3380614628484, 838.3458157163519], [1.0, 822.6957566311512, 853.0690148026534], [2.0, 816.243820173486, 846.2157285977488], [3.0, 782.9252672936492, 770.639696397437], [4.0, 759.1454383870334, 473.27989845791876], [5.0, 634.6877915007796, 276.6779168211791], [6.0, 529.4574796560247, 187.85358533706403], [7.0, 523.13384749051, 189.23418737945212], [8.0, 471.95994461544575, 694.7978307030644], [9.0, 412.2514658588215, 562.2415993215108], [10.0, 359.2947119626091, 647.9822056068958], [11.0, 302.8946283165474, 461.2849867145891], [12.0, 272.3810440663621, 777.1987455860651], [13.0, 222.36148864931806, 843.4562736695199], [14.0, 156.95504366056736, 493.99779803509347], [15.0, 138.08012810280104, 644.8893382135795]]}, \"id\": \"el168624590162192\"});\n",
        "   }(mpld3);\n",
        "}else if(typeof define === \"function\" && define.amd){\n",
        "   // require.js is available: use it to load d3/mpld3\n",
        "   require.config({paths: {d3: \"https://mpld3.github.io/js/d3.v3.min\"}});\n",
        "   require([\"d3\"], function(d3){\n",
        "      window.d3 = d3;\n",
        "      mpld3_load_lib(\"https://mpld3.github.io/js/mpld3.v0.2.js\", function(){\n",
        "         \n",
        "         mpld3.draw_figure(\"fig_el1686245901621927816036236\", {\"axes\": [{\"xlim\": [0.0, 16.0], \"yscale\": \"linear\", \"axesbg\": \"#FFFFFF\", \"texts\": [{\"v_baseline\": \"hanging\", \"h_anchor\": \"middle\", \"color\": \"#000000\", \"text\": \"x or y [pixel]\", \"coordinates\": \"axes\", \"zorder\": 3, \"alpha\": 1, \"fontsize\": 12.0, \"position\": [0.5, -0.080645161290322578], \"rotation\": -0.0, \"id\": \"el168624602073488\"}, {\"v_baseline\": \"auto\", \"h_anchor\": \"middle\", \"color\": \"#000000\", \"text\": \"Pixel offset\", \"coordinates\": \"axes\", \"zorder\": 3, \"alpha\": 1, \"fontsize\": 12.0, \"position\": [-0.080771169354838704, 0.5], \"rotation\": -90.0, \"id\": \"el168624473485008\"}, {\"v_baseline\": \"auto\", \"h_anchor\": \"start\", \"color\": \"#000000\", \"text\": \"x\", \"coordinates\": \"axes\", \"zorder\": 1000003.0, \"alpha\": 1, \"fontsize\": 12.0, \"position\": [0.94867271505376338, 0.14381720430107528], \"rotation\": -0.0, \"id\": \"el168624473630096\"}, {\"v_baseline\": \"auto\", \"h_anchor\": \"start\", \"color\": \"#000000\", \"text\": \"y\", \"coordinates\": \"axes\", \"zorder\": 1000003.0, \"alpha\": 1, \"fontsize\": 12.0, \"position\": [0.94867271505376338, 0.060483870967741937], \"rotation\": -0.0, \"id\": \"el168624473636688\"}], \"zoomable\": true, \"images\": [], \"xdomain\": [0.0, 16.0], \"ylim\": [100.0, 900.0], \"paths\": [{\"edgecolor\": \"#000000\", \"facecolor\": \"#FFFFFF\", \"edgewidth\": 1.0, \"pathcodes\": [\"M\", \"L\", \"L\", \"L\", \"L\", \"Z\"], \"yindex\": 1, \"coordinates\": \"axes\", \"dasharray\": \"10,0\", \"zorder\": 1000001.0, \"alpha\": 1, \"xindex\": 0, \"data\": \"data03\", \"id\": \"el168624473628944\"}], \"sharey\": [], \"sharex\": [], \"axesbgalpha\": null, \"axes\": [{\"scale\": \"linear\", \"tickformat\": null, \"grid\": {\"gridOn\": false}, \"fontsize\": 10.0, \"position\": \"bottom\", \"nticks\": 9, \"tickvalues\": null}, {\"scale\": \"linear\", \"tickformat\": null, \"grid\": {\"gridOn\": false}, \"fontsize\": 10.0, \"position\": \"left\", \"nticks\": 9, \"tickvalues\": null}], \"lines\": [], \"markers\": [{\"edgecolor\": \"#000000\", \"facecolor\": \"#0000FF\", \"edgewidth\": 0.5, \"yindex\": 1, \"coordinates\": \"data\", \"zorder\": 2, \"markerpath\": [[[1.8369701987210297e-16, -3.0], [-0.6735419450314403, -0.9270509558202635], [-2.8531695488854605, -0.9270509831248426], [-1.089813759909584, 0.3541019558202634], [-1.7633557568774196, 2.427050983124842], [-2.1049804767740306e-16, 1.145898], [1.7633557568774187, 2.427050983124843], [1.089813759909584, 0.35410195582026377], [2.853169548885461, -0.9270509831248415], [0.6735419450314407, -0.9270509558202634]], [\"M\", \"L\", \"L\", \"L\", \"L\", \"L\", \"L\", \"L\", \"L\", \"L\", \"Z\"]], \"alpha\": 1, \"xindex\": 0, \"data\": \"data01\", \"id\": \"el168624600445648pts\"}, {\"edgecolor\": \"#FF0000\", \"facecolor\": \"#FF0000\", \"edgewidth\": 0.5, \"yindex\": 2, \"coordinates\": \"data\", \"zorder\": 2, \"markerpath\": [[[0.0, 1.5], [0.39780465000000004, 1.5], [0.7793698061772802, 1.3419505373823626], [1.0606601717798214, 1.0606601717798214], [1.3419505373823626, 0.7793698061772802], [1.5, 0.39780465000000004], [1.5, 0.0], [1.5, -0.39780465000000004], [1.3419505373823626, -0.7793698061772802], [1.0606601717798214, -1.0606601717798214], [0.7793698061772802, -1.3419505373823626], [0.39780465000000004, -1.5], [0.0, -1.5], [-0.39780465000000004, -1.5], [-0.7793698061772802, -1.3419505373823626], [-1.0606601717798214, -1.0606601717798214], [-1.3419505373823626, -0.7793698061772802], [-1.5, -0.39780465000000004], [-1.5, 0.0], [-1.5, 0.39780465000000004], [-1.3419505373823626, 0.7793698061772802], [-1.0606601717798214, 1.0606601717798214], [-0.7793698061772802, 1.3419505373823626], [-0.39780465000000004, 1.5], [0.0, 1.5]], [\"M\", \"C\", \"C\", \"C\", \"C\", \"C\", \"C\", \"C\", \"C\", \"Z\"]], \"alpha\": 1, \"xindex\": 0, \"data\": \"data01\", \"id\": \"el168624590163216pts\"}, {\"edgecolor\": \"#000000\", \"facecolor\": \"#0000FF\", \"edgewidth\": 0.5, \"yindex\": 1, \"coordinates\": \"axes\", \"zorder\": 1000002.0, \"markerpath\": [[[1.8369701987210297e-16, -3.0], [-0.6735419450314403, -0.9270509558202635], [-2.8531695488854605, -0.9270509831248426], [-1.089813759909584, 0.3541019558202634], [-1.7633557568774196, 2.427050983124842], [-2.1049804767740306e-16, 1.145898], [1.7633557568774187, 2.427050983124843], [1.089813759909584, 0.35410195582026377], [2.853169548885461, -0.9270509831248415], [0.6735419450314407, -0.9270509558202634]], [\"M\", \"L\", \"L\", \"L\", \"L\", \"L\", \"L\", \"L\", \"L\", \"L\", \"Z\"]], \"alpha\": 1, \"xindex\": 0, \"data\": \"data02\", \"id\": \"el168624473635792pts\"}, {\"edgecolor\": \"#FF0000\", \"facecolor\": \"#FF0000\", \"edgewidth\": 0.5, \"yindex\": 2, \"coordinates\": \"axes\", \"zorder\": 1000002.0, \"markerpath\": [[[0.0, 1.5], [0.39780465000000004, 1.5], [0.7793698061772802, 1.3419505373823626], [1.0606601717798214, 1.0606601717798214], [1.3419505373823626, 0.7793698061772802], [1.5, 0.39780465000000004], [1.5, 0.0], [1.5, -0.39780465000000004], [1.3419505373823626, -0.7793698061772802], [1.0606601717798214, -1.0606601717798214], [0.7793698061772802, -1.3419505373823626], [0.39780465000000004, -1.5], [0.0, -1.5], [-0.39780465000000004, -1.5], [-0.7793698061772802, -1.3419505373823626], [-1.0606601717798214, -1.0606601717798214], [-1.3419505373823626, -0.7793698061772802], [-1.5, -0.39780465000000004], [-1.5, 0.0], [-1.5, 0.39780465000000004], [-1.3419505373823626, 0.7793698061772802], [-1.0606601717798214, 1.0606601717798214], [-0.7793698061772802, 1.3419505373823626], [-0.39780465000000004, 1.5], [0.0, 1.5]], [\"M\", \"C\", \"C\", \"C\", \"C\", \"C\", \"C\", \"C\", \"C\", \"Z\"]], \"alpha\": 1, \"xindex\": 0, \"data\": \"data02\", \"id\": \"el168624473638864pts\"}], \"id\": \"el168624602877328\", \"ydomain\": [100.0, 900.0], \"collections\": [], \"xscale\": \"linear\", \"bbox\": [0.125, 0.125, 0.77500000000000002, 0.77500000000000002]}], \"height\": 320.0, \"width\": 480.0, \"plugins\": [{\"type\": \"reset\"}, {\"enabled\": false, \"button\": true, \"type\": \"zoom\"}, {\"enabled\": false, \"button\": true, \"type\": \"boxzoom\"}], \"data\": {\"data02\": [[0.8841565860215055, 0.16263440860215056, 0.0793010752688172]], \"data03\": [[0.8339773745519714, 0.026881720430107503], [0.982078853046595, 0.026881720430107503], [0.982078853046595, 0.20967741935483872], [0.8339773745519714, 0.20967741935483872], [0.8339773745519714, 0.026881720430107503]], \"data01\": [[0.0, 886.3380614628484, 838.3458157163519], [1.0, 822.6957566311512, 853.0690148026534], [2.0, 816.243820173486, 846.2157285977488], [3.0, 782.9252672936492, 770.639696397437], [4.0, 759.1454383870334, 473.27989845791876], [5.0, 634.6877915007796, 276.6779168211791], [6.0, 529.4574796560247, 187.85358533706403], [7.0, 523.13384749051, 189.23418737945212], [8.0, 471.95994461544575, 694.7978307030644], [9.0, 412.2514658588215, 562.2415993215108], [10.0, 359.2947119626091, 647.9822056068958], [11.0, 302.8946283165474, 461.2849867145891], [12.0, 272.3810440663621, 777.1987455860651], [13.0, 222.36148864931806, 843.4562736695199], [14.0, 156.95504366056736, 493.99779803509347], [15.0, 138.08012810280104, 644.8893382135795]]}, \"id\": \"el168624590162192\"});\n",
        "      });\n",
        "    });\n",
        "}else{\n",
        "    // require.js not available: dynamically load d3 & mpld3\n",
        "    mpld3_load_lib(\"https://mpld3.github.io/js/d3.v3.min.js\", function(){\n",
        "         mpld3_load_lib(\"https://mpld3.github.io/js/mpld3.v0.2.js\", function(){\n",
        "                 \n",
        "                 mpld3.draw_figure(\"fig_el1686245901621927816036236\", {\"axes\": [{\"xlim\": [0.0, 16.0], \"yscale\": \"linear\", \"axesbg\": \"#FFFFFF\", \"texts\": [{\"v_baseline\": \"hanging\", \"h_anchor\": \"middle\", \"color\": \"#000000\", \"text\": \"x or y [pixel]\", \"coordinates\": \"axes\", \"zorder\": 3, \"alpha\": 1, \"fontsize\": 12.0, \"position\": [0.5, -0.080645161290322578], \"rotation\": -0.0, \"id\": \"el168624602073488\"}, {\"v_baseline\": \"auto\", \"h_anchor\": \"middle\", \"color\": \"#000000\", \"text\": \"Pixel offset\", \"coordinates\": \"axes\", \"zorder\": 3, \"alpha\": 1, \"fontsize\": 12.0, \"position\": [-0.080771169354838704, 0.5], \"rotation\": -90.0, \"id\": \"el168624473485008\"}, {\"v_baseline\": \"auto\", \"h_anchor\": \"start\", \"color\": \"#000000\", \"text\": \"x\", \"coordinates\": \"axes\", \"zorder\": 1000003.0, \"alpha\": 1, \"fontsize\": 12.0, \"position\": [0.94867271505376338, 0.14381720430107528], \"rotation\": -0.0, \"id\": \"el168624473630096\"}, {\"v_baseline\": \"auto\", \"h_anchor\": \"start\", \"color\": \"#000000\", \"text\": \"y\", \"coordinates\": \"axes\", \"zorder\": 1000003.0, \"alpha\": 1, \"fontsize\": 12.0, \"position\": [0.94867271505376338, 0.060483870967741937], \"rotation\": -0.0, \"id\": \"el168624473636688\"}], \"zoomable\": true, \"images\": [], \"xdomain\": [0.0, 16.0], \"ylim\": [100.0, 900.0], \"paths\": [{\"edgecolor\": \"#000000\", \"facecolor\": \"#FFFFFF\", \"edgewidth\": 1.0, \"pathcodes\": [\"M\", \"L\", \"L\", \"L\", \"L\", \"Z\"], \"yindex\": 1, \"coordinates\": \"axes\", \"dasharray\": \"10,0\", \"zorder\": 1000001.0, \"alpha\": 1, \"xindex\": 0, \"data\": \"data03\", \"id\": \"el168624473628944\"}], \"sharey\": [], \"sharex\": [], \"axesbgalpha\": null, \"axes\": [{\"scale\": \"linear\", \"tickformat\": null, \"grid\": {\"gridOn\": false}, \"fontsize\": 10.0, \"position\": \"bottom\", \"nticks\": 9, \"tickvalues\": null}, {\"scale\": \"linear\", \"tickformat\": null, \"grid\": {\"gridOn\": false}, \"fontsize\": 10.0, \"position\": \"left\", \"nticks\": 9, \"tickvalues\": null}], \"lines\": [], \"markers\": [{\"edgecolor\": \"#000000\", \"facecolor\": \"#0000FF\", \"edgewidth\": 0.5, \"yindex\": 1, \"coordinates\": \"data\", \"zorder\": 2, \"markerpath\": [[[1.8369701987210297e-16, -3.0], [-0.6735419450314403, -0.9270509558202635], [-2.8531695488854605, -0.9270509831248426], [-1.089813759909584, 0.3541019558202634], [-1.7633557568774196, 2.427050983124842], [-2.1049804767740306e-16, 1.145898], [1.7633557568774187, 2.427050983124843], [1.089813759909584, 0.35410195582026377], [2.853169548885461, -0.9270509831248415], [0.6735419450314407, -0.9270509558202634]], [\"M\", \"L\", \"L\", \"L\", \"L\", \"L\", \"L\", \"L\", \"L\", \"L\", \"Z\"]], \"alpha\": 1, \"xindex\": 0, \"data\": \"data01\", \"id\": \"el168624600445648pts\"}, {\"edgecolor\": \"#FF0000\", \"facecolor\": \"#FF0000\", \"edgewidth\": 0.5, \"yindex\": 2, \"coordinates\": \"data\", \"zorder\": 2, \"markerpath\": [[[0.0, 1.5], [0.39780465000000004, 1.5], [0.7793698061772802, 1.3419505373823626], [1.0606601717798214, 1.0606601717798214], [1.3419505373823626, 0.7793698061772802], [1.5, 0.39780465000000004], [1.5, 0.0], [1.5, -0.39780465000000004], [1.3419505373823626, -0.7793698061772802], [1.0606601717798214, -1.0606601717798214], [0.7793698061772802, -1.3419505373823626], [0.39780465000000004, -1.5], [0.0, -1.5], [-0.39780465000000004, -1.5], [-0.7793698061772802, -1.3419505373823626], [-1.0606601717798214, -1.0606601717798214], [-1.3419505373823626, -0.7793698061772802], [-1.5, -0.39780465000000004], [-1.5, 0.0], [-1.5, 0.39780465000000004], [-1.3419505373823626, 0.7793698061772802], [-1.0606601717798214, 1.0606601717798214], [-0.7793698061772802, 1.3419505373823626], [-0.39780465000000004, 1.5], [0.0, 1.5]], [\"M\", \"C\", \"C\", \"C\", \"C\", \"C\", \"C\", \"C\", \"C\", \"Z\"]], \"alpha\": 1, \"xindex\": 0, \"data\": \"data01\", \"id\": \"el168624590163216pts\"}, {\"edgecolor\": \"#000000\", \"facecolor\": \"#0000FF\", \"edgewidth\": 0.5, \"yindex\": 1, \"coordinates\": \"axes\", \"zorder\": 1000002.0, \"markerpath\": [[[1.8369701987210297e-16, -3.0], [-0.6735419450314403, -0.9270509558202635], [-2.8531695488854605, -0.9270509831248426], [-1.089813759909584, 0.3541019558202634], [-1.7633557568774196, 2.427050983124842], [-2.1049804767740306e-16, 1.145898], [1.7633557568774187, 2.427050983124843], [1.089813759909584, 0.35410195582026377], [2.853169548885461, -0.9270509831248415], [0.6735419450314407, -0.9270509558202634]], [\"M\", \"L\", \"L\", \"L\", \"L\", \"L\", \"L\", \"L\", \"L\", \"L\", \"Z\"]], \"alpha\": 1, \"xindex\": 0, \"data\": \"data02\", \"id\": \"el168624473635792pts\"}, {\"edgecolor\": \"#FF0000\", \"facecolor\": \"#FF0000\", \"edgewidth\": 0.5, \"yindex\": 2, \"coordinates\": \"axes\", \"zorder\": 1000002.0, \"markerpath\": [[[0.0, 1.5], [0.39780465000000004, 1.5], [0.7793698061772802, 1.3419505373823626], [1.0606601717798214, 1.0606601717798214], [1.3419505373823626, 0.7793698061772802], [1.5, 0.39780465000000004], [1.5, 0.0], [1.5, -0.39780465000000004], [1.3419505373823626, -0.7793698061772802], [1.0606601717798214, -1.0606601717798214], [0.7793698061772802, -1.3419505373823626], [0.39780465000000004, -1.5], [0.0, -1.5], [-0.39780465000000004, -1.5], [-0.7793698061772802, -1.3419505373823626], [-1.0606601717798214, -1.0606601717798214], [-1.3419505373823626, -0.7793698061772802], [-1.5, -0.39780465000000004], [-1.5, 0.0], [-1.5, 0.39780465000000004], [-1.3419505373823626, 0.7793698061772802], [-1.0606601717798214, 1.0606601717798214], [-0.7793698061772802, 1.3419505373823626], [-0.39780465000000004, 1.5], [0.0, 1.5]], [\"M\", \"C\", \"C\", \"C\", \"C\", \"C\", \"C\", \"C\", \"C\", \"Z\"]], \"alpha\": 1, \"xindex\": 0, \"data\": \"data02\", \"id\": \"el168624473638864pts\"}], \"id\": \"el168624602877328\", \"ydomain\": [100.0, 900.0], \"collections\": [], \"xscale\": \"linear\", \"bbox\": [0.125, 0.125, 0.77500000000000002, 0.77500000000000002]}], \"height\": 320.0, \"width\": 480.0, \"plugins\": [{\"type\": \"reset\"}, {\"enabled\": false, \"button\": true, \"type\": \"zoom\"}, {\"enabled\": false, \"button\": true, \"type\": \"boxzoom\"}], \"data\": {\"data02\": [[0.8841565860215055, 0.16263440860215056, 0.0793010752688172]], \"data03\": [[0.8339773745519714, 0.026881720430107503], [0.982078853046595, 0.026881720430107503], [0.982078853046595, 0.20967741935483872], [0.8339773745519714, 0.20967741935483872], [0.8339773745519714, 0.026881720430107503]], \"data01\": [[0.0, 886.3380614628484, 838.3458157163519], [1.0, 822.6957566311512, 853.0690148026534], [2.0, 816.243820173486, 846.2157285977488], [3.0, 782.9252672936492, 770.639696397437], [4.0, 759.1454383870334, 473.27989845791876], [5.0, 634.6877915007796, 276.6779168211791], [6.0, 529.4574796560247, 187.85358533706403], [7.0, 523.13384749051, 189.23418737945212], [8.0, 471.95994461544575, 694.7978307030644], [9.0, 412.2514658588215, 562.2415993215108], [10.0, 359.2947119626091, 647.9822056068958], [11.0, 302.8946283165474, 461.2849867145891], [12.0, 272.3810440663621, 777.1987455860651], [13.0, 222.36148864931806, 843.4562736695199], [14.0, 156.95504366056736, 493.99779803509347], [15.0, 138.08012810280104, 644.8893382135795]]}, \"id\": \"el168624590162192\"});\n",
        "            })\n",
        "         });\n",
        "}\n",
        "</script>"
       ],
       "metadata": {},
       "output_type": "display_data",
       "png": "[encoded data removed]",
       "text": [
        "<matplotlib.figure.Figure at 0x111985110>"
       ]
      }
     ],
     "prompt_number": 60
    },
    {
     "cell_type": "heading",
     "level": 1,
     "metadata": {},
     "source": [
      "Least Squares"
     ]
    },
    {
     "cell_type": "markdown",
     "metadata": {},
     "source": [
      "Do not confuse x_pixcoord with x, x_pixcoord and X_stdcoord is USNO coordinate;\n",
      "The goal here is to convert CCD imaging coordinate to RA DEC"
     ]
    },
    {
     "cell_type": "heading",
     "level": 1,
     "metadata": {},
     "source": [
      "Why is f/p different from worksheet"
     ]
    },
    {
     "cell_type": "code",
     "collapsed": false,
     "input": [
      "a_x= np.matrix(np.c_[x_pixcoord])"
     ],
     "language": "python",
     "metadata": {},
     "outputs": [],
     "prompt_number": 61
    },
    {
     "cell_type": "code",
     "collapsed": false,
     "input": [
      "B = np.matrix(np.c_[(f/p)*X_stdcoord,(f/p)*Y_stdcoord,np.ones_like(Y_stdcoord)])"
     ],
     "language": "python",
     "metadata": {},
     "outputs": [],
     "prompt_number": 62
    },
    {
     "cell_type": "code",
     "collapsed": false,
     "input": [
      "c_x = np.linalg.inv(B.T*B)*B.T*a_x"
     ],
     "language": "python",
     "metadata": {},
     "outputs": [],
     "prompt_number": 63
    },
    {
     "cell_type": "code",
     "collapsed": false,
     "input": [
      "a_y= np.matrix(np.c_[y_pixcoord])"
     ],
     "language": "python",
     "metadata": {},
     "outputs": [],
     "prompt_number": 64
    },
    {
     "cell_type": "code",
     "collapsed": false,
     "input": [
      "c_y = np.linalg.inv(B.T*B)*B.T*a_y"
     ],
     "language": "python",
     "metadata": {},
     "outputs": [],
     "prompt_number": 65
    },
    {
     "cell_type": "code",
     "collapsed": false,
     "input": [
      "T = np.matrix([[(f/p)*c_x.item(0),(f/p)*c_x.item(1),c_x.item(2)],[(f/p)*c_y.item(0),(f/p)*c_y.item(1),c_y.item(2)],[0,0,1]])"
     ],
     "language": "python",
     "metadata": {},
     "outputs": [],
     "prompt_number": 66
    },
    {
     "cell_type": "code",
     "collapsed": false,
     "input": [
      "f/p"
     ],
     "language": "python",
     "metadata": {},
     "outputs": [
      {
       "metadata": {},
       "output_type": "pyout",
       "prompt_number": 67,
       "text": [
        "561000"
       ]
      }
     ],
     "prompt_number": 67
    },
    {
     "cell_type": "code",
     "collapsed": false,
     "input": [
      "sqrt(np.linalg.det(T))"
     ],
     "language": "python",
     "metadata": {},
     "outputs": [
      {
       "metadata": {},
       "output_type": "pyout",
       "prompt_number": 68,
       "text": [
        "561000.00000000012"
       ]
      }
     ],
     "prompt_number": 68
    },
    {
     "cell_type": "markdown",
     "metadata": {},
     "source": [
      "Since X = (x,y,1)"
     ]
    },
    {
     "cell_type": "code",
     "collapsed": false,
     "input": [
      "x_pixcoord = np.matrix(np.c_[img_data_stars[0]])\n",
      "y_pixcoord = np.matrix(np.c_[img_data_stars[1]])"
     ],
     "language": "python",
     "metadata": {},
     "outputs": [],
     "prompt_number": 69
    },
    {
     "cell_type": "code",
     "collapsed": false,
     "input": [
      "x = np.matrix((img_data_stars[0],img_data_stars[1],np.ones_like(img_data_stars[0])))"
     ],
     "language": "python",
     "metadata": {},
     "outputs": [],
     "prompt_number": 70
    },
    {
     "cell_type": "code",
     "collapsed": false,
     "input": [
      "X = np.linalg.inv(T)*x"
     ],
     "language": "python",
     "metadata": {},
     "outputs": [],
     "prompt_number": 71
    },
    {
     "cell_type": "code",
     "collapsed": false,
     "input": [
      "X_std_coord_final = np.array(X[0])\n",
      "Y_std_coord_final = np.array(X[1])"
     ],
     "language": "python",
     "metadata": {},
     "outputs": [],
     "prompt_number": 72
    },
    {
     "cell_type": "markdown",
     "metadata": {},
     "source": [
      "Then convert this into celestial coordinates using the tangent plane equation \n",
      "\n",
      "(X,Y)$\\rightarrow$ ($\\alpha$,$\\delta$)\n",
      "\n",
      "and keeping the same a_0,d_0"
     ]
    },
    {
     "cell_type": "code",
     "collapsed": false,
     "input": [
      "a_0 = radeg/180*np.pi\n",
      "d_0 = dedeg/180*np.pi\n",
      "a = np.arctan(-X_std_coord_final/(cos(d_0)-Y_std_coord_final*sin(d_0)))+a_0\n",
      "d = np.arcsin((sin(d_0)+Y_std_coord_final*cos(d_0))/((1+np.array(X_std_coord_final)**2+np.array(Y_std_coord_final)**2)**0.5))\n",
      "a = a/np.pi*180\n",
      "d = d/np.pi*180\n",
      "a = a[0]\n",
      "d = d[0]"
     ],
     "language": "python",
     "metadata": {},
     "outputs": [],
     "prompt_number": 73
    },
    {
     "cell_type": "code",
     "collapsed": false,
     "input": [
      "fig  = plt.figure()\n",
      "# plt.plot(usno_star_lst[0],usno_star_lst[1],'*',color=\"blue\");\n",
      "# numpy.fliplr(usno_star_lst)\n",
      "plt.plot(usno_star_lst[0],usno_star_lst[1],'.',color=\"green\",label =\"USNO\");\n",
      "plt.locator_params(axis='x',nbins=4) \n",
      "plt.locator_params(axis='y',nbins=4) \n",
      "plt.tick_params('x',pad=10)\n",
      "plt.xlabel('RA [Deg]')\n",
      "plt.ylabel('Dec [Deg]') \n",
      "plt.ticklabel_format(useOffset=False)\n",
      "plt.axis('scaled')\n",
      "plt.plot(a,d,'.',color=\"red\",label =\"CCD Data\");\n",
      "plt.plot(293.684,-10.0626944444,'o', label= \"Asteroid\") #Predicted Asteroid location by eyeballing on Aladin\n",
      "plt.plot(usno_star_tagged[0],usno_star_tagged[1],'*',color=\"yellow\")\n",
      "plt.legend(loc='upper left',prop={'size':12},numpoints=1)"
     ],
     "language": "python",
     "metadata": {},
     "outputs": [
      {
       "metadata": {},
       "output_type": "pyout",
       "prompt_number": 74,
       "text": [
        "<matplotlib.legend.Legend at 0x111f07650>"
       ]
      },
      {
       "html": [
        "\n",
        "\n",
        "<style>\n",
        "\n",
        "</style>\n",
        "\n",
        "<div id=\"fig_el1686244735961767917556275\"></div>\n",
        "<script>\n",
        "function mpld3_load_lib(url, callback){\n",
        "  var s = document.createElement('script');\n",
        "  s.src = url;\n",
        "  s.async = true;\n",
        "  s.onreadystatechange = s.onload = callback;\n",
        "  s.onerror = function(){console.warn(\"failed to load library \" + url);};\n",
        "  document.getElementsByTagName(\"head\")[0].appendChild(s);\n",
        "}\n",
        "\n",
        "if(typeof(mpld3) !== \"undefined\" && mpld3._mpld3IsLoaded){\n",
        "   // already loaded: just create the figure\n",
        "   !function(mpld3){\n",
        "       \n",
        "       mpld3.draw_figure(\"fig_el1686244735961767917556275\", {\"axes\": [{\"xlim\": [293.60000000000002, 293.75], \"yscale\": \"linear\", \"axesbg\": \"#FFFFFF\", \"texts\": [{\"v_baseline\": \"hanging\", \"h_anchor\": \"middle\", \"color\": \"#000000\", \"text\": \"RA [Deg]\", \"coordinates\": \"axes\", \"zorder\": 3, \"alpha\": 1, \"fontsize\": 10.0, \"position\": [0.5, -0.13440860215051711], \"rotation\": -0.0, \"id\": \"el168624602061456\"}, {\"v_baseline\": \"auto\", \"h_anchor\": \"middle\", \"color\": \"#000000\", \"text\": \"Dec [Deg]\", \"coordinates\": \"axes\", \"zorder\": 3, \"alpha\": 1, \"fontsize\": 10.0, \"position\": [-0.13239247311827956, 0.5], \"rotation\": -90.0, \"id\": \"el168624473659152\"}, {\"v_baseline\": \"auto\", \"h_anchor\": \"start\", \"color\": \"#000000\", \"text\": \"USNO\", \"coordinates\": \"axes\", \"zorder\": 1000003.0, \"alpha\": 1, \"fontsize\": 12.0, \"position\": [0.13261648745519719, 0.88407258064517913], \"rotation\": -0.0, \"id\": \"el168624595961680\"}, {\"v_baseline\": \"auto\", \"h_anchor\": \"start\", \"color\": \"#000000\", \"text\": \"CCD Data\", \"coordinates\": \"axes\", \"zorder\": 1000003.0, \"alpha\": 1, \"fontsize\": 12.0, \"position\": [0.13261648745519719, 0.77990591397852838], \"rotation\": -0.0, \"id\": \"el168624601525392\"}, {\"v_baseline\": \"auto\", \"h_anchor\": \"start\", \"color\": \"#000000\", \"text\": \"Asteroid\", \"coordinates\": \"axes\", \"zorder\": 1000003.0, \"alpha\": 1, \"fontsize\": 12.0, \"position\": [0.13261648745519719, 0.67573924731187762], \"rotation\": -0.0, \"id\": \"el168624601527696\"}], \"zoomable\": true, \"images\": [], \"xdomain\": [293.60000000000002, 293.75], \"ylim\": [-10.1, -10.02], \"paths\": [{\"edgecolor\": \"#000000\", \"facecolor\": \"#FFFFFF\", \"edgewidth\": 1.0, \"pathcodes\": [\"M\", \"L\", \"L\", \"L\", \"L\", \"Z\"], \"yindex\": 1, \"coordinates\": \"axes\", \"dasharray\": \"10,0\", \"zorder\": 1000001.0, \"alpha\": 1, \"xindex\": 0, \"data\": \"data06\", \"id\": \"el168624595958608\"}], \"sharey\": [], \"sharex\": [], \"axesbgalpha\": null, \"axes\": [{\"scale\": \"linear\", \"tickformat\": null, \"grid\": {\"gridOn\": false}, \"fontsize\": 10.0, \"position\": \"bottom\", \"nticks\": 4, \"tickvalues\": null}, {\"scale\": \"linear\", \"tickformat\": null, \"grid\": {\"gridOn\": false}, \"fontsize\": 10.0, \"position\": \"left\", \"nticks\": 3, \"tickvalues\": null}], \"lines\": [], \"markers\": [{\"edgecolor\": \"#008000\", \"facecolor\": \"#008000\", \"edgewidth\": 0.5, \"yindex\": 1, \"coordinates\": \"data\", \"zorder\": 2, \"markerpath\": [[[0.0, 1.5], [0.39780465000000004, 1.5], [0.7793698061772802, 1.3419505373823626], [1.0606601717798214, 1.0606601717798214], [1.3419505373823626, 0.7793698061772802], [1.5, 0.39780465000000004], [1.5, 0.0], [1.5, -0.39780465000000004], [1.3419505373823626, -0.7793698061772802], [1.0606601717798214, -1.0606601717798214], [0.7793698061772802, -1.3419505373823626], [0.39780465000000004, -1.5], [0.0, -1.5], [-0.39780465000000004, -1.5], [-0.7793698061772802, -1.3419505373823626], [-1.0606601717798214, -1.0606601717798214], [-1.3419505373823626, -0.7793698061772802], [-1.5, -0.39780465000000004], [-1.5, 0.0], [-1.5, 0.39780465000000004], [-1.3419505373823626, 0.7793698061772802], [-1.0606601717798214, 1.0606601717798214], [-0.7793698061772802, 1.3419505373823626], [-0.39780465000000004, 1.5], [0.0, 1.5]], [\"M\", \"C\", \"C\", \"C\", \"C\", \"C\", \"C\", \"C\", \"C\", \"Z\"]], \"alpha\": 1, \"xindex\": 0, \"data\": \"data01\", \"id\": \"el168624595928784pts\"}, {\"edgecolor\": \"#FF0000\", \"facecolor\": \"#FF0000\", \"edgewidth\": 0.5, \"yindex\": 1, \"coordinates\": \"data\", \"zorder\": 2, \"markerpath\": [[[0.0, 1.5], [0.39780465000000004, 1.5], [0.7793698061772802, 1.3419505373823626], [1.0606601717798214, 1.0606601717798214], [1.3419505373823626, 0.7793698061772802], [1.5, 0.39780465000000004], [1.5, 0.0], [1.5, -0.39780465000000004], [1.3419505373823626, -0.7793698061772802], [1.0606601717798214, -1.0606601717798214], [0.7793698061772802, -1.3419505373823626], [0.39780465000000004, -1.5], [0.0, -1.5], [-0.39780465000000004, -1.5], [-0.7793698061772802, -1.3419505373823626], [-1.0606601717798214, -1.0606601717798214], [-1.3419505373823626, -0.7793698061772802], [-1.5, -0.39780465000000004], [-1.5, 0.0], [-1.5, 0.39780465000000004], [-1.3419505373823626, 0.7793698061772802], [-1.0606601717798214, 1.0606601717798214], [-0.7793698061772802, 1.3419505373823626], [-0.39780465000000004, 1.5], [0.0, 1.5]], [\"M\", \"C\", \"C\", \"C\", \"C\", \"C\", \"C\", \"C\", \"C\", \"Z\"]], \"alpha\": 1, \"xindex\": 0, \"data\": \"data02\", \"id\": \"el168624595928464pts\"}, {\"edgecolor\": \"#000000\", \"facecolor\": \"#0000FF\", \"edgewidth\": 0.5, \"yindex\": 1, \"coordinates\": \"data\", \"zorder\": 2, \"markerpath\": [[[0.0, 3.0], [0.7956093000000001, 3.0], [1.5587396123545605, 2.683901074764725], [2.121320343559643, 2.121320343559643], [2.683901074764725, 1.5587396123545605], [3.0, 0.7956093000000001], [3.0, 0.0], [3.0, -0.7956093000000001], [2.683901074764725, -1.5587396123545605], [2.121320343559643, -2.121320343559643], [1.5587396123545605, -2.683901074764725], [0.7956093000000001, -3.0], [0.0, -3.0], [-0.7956093000000001, -3.0], [-1.5587396123545605, -2.683901074764725], [-2.121320343559643, -2.121320343559643], [-2.683901074764725, -1.5587396123545605], [-3.0, -0.7956093000000001], [-3.0, 0.0], [-3.0, 0.7956093000000001], [-2.683901074764725, 1.5587396123545605], [-2.121320343559643, 2.121320343559643], [-1.5587396123545605, 2.683901074764725], [-0.7956093000000001, 3.0], [0.0, 3.0]], [\"M\", \"C\", \"C\", \"C\", \"C\", \"C\", \"C\", \"C\", \"C\", \"Z\"]], \"alpha\": 1, \"xindex\": 0, \"data\": \"data03\", \"id\": \"el168624473486864pts\"}, {\"edgecolor\": \"#000000\", \"facecolor\": \"#FFFF00\", \"edgewidth\": 0.5, \"yindex\": 1, \"coordinates\": \"data\", \"zorder\": 2, \"markerpath\": [[[1.8369701987210297e-16, -3.0], [-0.6735419450314403, -0.9270509558202635], [-2.8531695488854605, -0.9270509831248426], [-1.089813759909584, 0.3541019558202634], [-1.7633557568774196, 2.427050983124842], [-2.1049804767740306e-16, 1.145898], [1.7633557568774187, 2.427050983124843], [1.089813759909584, 0.35410195582026377], [2.853169548885461, -0.9270509831248415], [0.6735419450314407, -0.9270509558202634]], [\"M\", \"L\", \"L\", \"L\", \"L\", \"L\", \"L\", \"L\", \"L\", \"L\", \"Z\"]], \"alpha\": 1, \"xindex\": 0, \"data\": \"data04\", \"id\": \"el168624595938448pts\"}, {\"edgecolor\": \"#008000\", \"facecolor\": \"#008000\", \"edgewidth\": 0.5, \"yindex\": 1, \"coordinates\": \"axes\", \"zorder\": 1000002.0, \"markerpath\": [[[0.0, 1.5], [0.39780465000000004, 1.5], [0.7793698061772802, 1.3419505373823626], [1.0606601717798214, 1.0606601717798214], [1.3419505373823626, 0.7793698061772802], [1.5, 0.39780465000000004], [1.5, 0.0], [1.5, -0.39780465000000004], [1.3419505373823626, -0.7793698061772802], [1.0606601717798214, -1.0606601717798214], [0.7793698061772802, -1.3419505373823626], [0.39780465000000004, -1.5], [0.0, -1.5], [-0.39780465000000004, -1.5], [-0.7793698061772802, -1.3419505373823626], [-1.0606601717798214, -1.0606601717798214], [-1.3419505373823626, -0.7793698061772802], [-1.5, -0.39780465000000004], [-1.5, 0.0], [-1.5, 0.39780465000000004], [-1.3419505373823626, 0.7793698061772802], [-1.0606601717798214, 1.0606601717798214], [-0.7793698061772802, 1.3419505373823626], [-0.39780465000000004, 1.5], [0.0, 1.5]], [\"M\", \"C\", \"C\", \"C\", \"C\", \"C\", \"C\", \"C\", \"C\", \"Z\"]], \"alpha\": 1, \"xindex\": 0, \"data\": \"data05\", \"id\": \"el168624595960912pts\"}, {\"edgecolor\": \"#FF0000\", \"facecolor\": \"#FF0000\", \"edgewidth\": 0.5, \"yindex\": 2, \"coordinates\": \"axes\", \"zorder\": 1000002.0, \"markerpath\": [[[0.0, 1.5], [0.39780465000000004, 1.5], [0.7793698061772802, 1.3419505373823626], [1.0606601717798214, 1.0606601717798214], [1.3419505373823626, 0.7793698061772802], [1.5, 0.39780465000000004], [1.5, 0.0], [1.5, -0.39780465000000004], [1.3419505373823626, -0.7793698061772802], [1.0606601717798214, -1.0606601717798214], [0.7793698061772802, -1.3419505373823626], [0.39780465000000004, -1.5], [0.0, -1.5], [-0.39780465000000004, -1.5], [-0.7793698061772802, -1.3419505373823626], [-1.0606601717798214, -1.0606601717798214], [-1.3419505373823626, -0.7793698061772802], [-1.5, -0.39780465000000004], [-1.5, 0.0], [-1.5, 0.39780465000000004], [-1.3419505373823626, 0.7793698061772802], [-1.0606601717798214, 1.0606601717798214], [-0.7793698061772802, 1.3419505373823626], [-0.39780465000000004, 1.5], [0.0, 1.5]], [\"M\", \"C\", \"C\", \"C\", \"C\", \"C\", \"C\", \"C\", \"C\", \"Z\"]], \"alpha\": 1, \"xindex\": 0, \"data\": \"data05\", \"id\": \"el168624601526800pts\"}, {\"edgecolor\": \"#000000\", \"facecolor\": \"#0000FF\", \"edgewidth\": 0.5, \"yindex\": 3, \"coordinates\": \"axes\", \"zorder\": 1000002.0, \"markerpath\": [[[0.0, 3.0], [0.7956093000000001, 3.0], [1.5587396123545605, 2.683901074764725], [2.121320343559643, 2.121320343559643], [2.683901074764725, 1.5587396123545605], [3.0, 0.7956093000000001], [3.0, 0.0], [3.0, -0.7956093000000001], [2.683901074764725, -1.5587396123545605], [2.121320343559643, -2.121320343559643], [1.5587396123545605, -2.683901074764725], [0.7956093000000001, -3.0], [0.0, -3.0], [-0.7956093000000001, -3.0], [-1.5587396123545605, -2.683901074764725], [-2.121320343559643, -2.121320343559643], [-2.683901074764725, -1.5587396123545605], [-3.0, -0.7956093000000001], [-3.0, 0.0], [-3.0, 0.7956093000000001], [-2.683901074764725, 1.5587396123545605], [-2.121320343559643, 2.121320343559643], [-1.5587396123545605, 2.683901074764725], [-0.7956093000000001, 3.0], [0.0, 3.0]], [\"M\", \"C\", \"C\", \"C\", \"C\", \"C\", \"C\", \"C\", \"C\", \"Z\"]], \"alpha\": 1, \"xindex\": 0, \"data\": \"data05\", \"id\": \"el168624600545936pts\"}], \"id\": \"el168624473594768\", \"ydomain\": [-10.1, -10.02], \"collections\": [], \"xscale\": \"linear\", \"bbox\": [0.125, 0.20249999999995272, 0.77500000000000002, 0.62000000000009459]}], \"height\": 320.0, \"width\": 480.0, \"plugins\": [{\"type\": \"reset\"}, {\"enabled\": false, \"button\": true, \"type\": \"zoom\"}, {\"enabled\": false, \"button\": true, \"type\": \"boxzoom\"}], \"data\": {\"data06\": [[0.017921146953405048, 0.6337365591398408], [0.3169802867383513, 0.6337365591398408], [0.3169802867383513, 0.9663978494623707], [0.017921146953405048, 0.9663978494623707], [0.017921146953405048, 0.6337365591398408]], \"data04\": [[293.693583333, -10.0580833333], [293.699333333, -10.0488611111], [293.70825, -10.0362777778], [293.72225, -10.0489722222], [293.713291667, -10.02825], [293.7265, -10.0173888889], [293.658, -10.0657777778], [293.655291667, -10.036], [293.650916667, -10.0284722222], [293.66975, -10.08675], [293.680833333, -10.0958333333], [293.719625, -10.0647222222], [293.687375, -10.0442222222], [293.705333333, -10.0678888889], [293.644958333, -10.0301944444]], \"data05\": [[0.0681003584229391, 0.9075940860215196, 0.8034274193548688, 0.6992607526882181]], \"data02\": [[293.68365825669713, -10.1148259575559], [293.7296469317311, -10.11222507357491], [293.6743708662082, -10.110419330416708], [293.6619030566041, -10.108214956772013], [293.63877130104964, -10.107236004096432], [293.6516327822086, -10.106579916229105], [293.6446446874708, -10.102513725707768], [293.6824180093578, -10.08586287529294], [293.64288126964436, -10.08099932024743], [293.6693822866185, -10.066299944748911], [293.6608686420447, -10.06560512821189], [293.7310660292202, -10.061805720173872], [293.69631700728166, -10.06009909580723], [293.7046680601448, -10.05597991026901], [293.70984355983717, -10.047011461775675], [293.7323169164796, -10.046354151380717], [293.7098436292319, -10.047023415583078], [293.7323143668524, -10.046356511073109], [293.7098466280202, -10.047025034534446], [293.7323145117686, -10.046358993152554], [293.7323193445645, -10.046368723199544], [293.69799602526365, -10.042905314140244], [293.6357603231509, -10.036900889737504], [293.6656951369133, -10.036207541065794], [293.6357565487863, -10.036906782114087], [293.665694164898, -10.0362085080907], [293.6357572450064, -10.036907552843598], [293.6656931796005, -10.036209461116014], [293.6357573135312, -10.03690826155173], [293.6656922645442, -10.036210447429202], [293.63575885463536, -10.036908934371588], [293.66569218450604, -10.036211375851183], [293.63575956488665, -10.036909731555895], [293.6656922119089, -10.036212346150405], [293.63576106752186, -10.036910497504925], [293.66569221967967, -10.036213300792397], [293.71802012781666, -10.033712361394405], [293.64458720191334, -10.030622671110125], [293.65490735546837, -10.02990896139881], [293.66127872948175, -10.028120666147956], [293.72287353118264, -10.026732466624871], [293.64790803151345, -10.017346114363832], [293.63999117247255, -10.016307279595996]], \"data03\": [[293.684, -10.0626944444]], \"data01\": [[293.645175, -10.029362], [293.6517758999302, -10.027859], [293.652445, -10.028559], [293.6559, -10.036278], [293.658364, -10.066648], [293.671273, -10.086728], [293.682189, -10.0958], [293.682845, -10.095659], [293.688153, -10.044025], [293.6943464649104, -10.057563033203333], [293.699839, -10.048806], [293.70569024759214, -10.067873338867223], [293.7088529008674, -10.035608372070556], [293.7140402199915, -10.028840966796666], [293.720828, -10.064531], [293.722784, -10.04912]]}, \"id\": \"el168624473596176\"});\n",
        "   }(mpld3);\n",
        "}else if(typeof define === \"function\" && define.amd){\n",
        "   // require.js is available: use it to load d3/mpld3\n",
        "   require.config({paths: {d3: \"https://mpld3.github.io/js/d3.v3.min\"}});\n",
        "   require([\"d3\"], function(d3){\n",
        "      window.d3 = d3;\n",
        "      mpld3_load_lib(\"https://mpld3.github.io/js/mpld3.v0.2.js\", function(){\n",
        "         \n",
        "         mpld3.draw_figure(\"fig_el1686244735961767917556275\", {\"axes\": [{\"xlim\": [293.60000000000002, 293.75], \"yscale\": \"linear\", \"axesbg\": \"#FFFFFF\", \"texts\": [{\"v_baseline\": \"hanging\", \"h_anchor\": \"middle\", \"color\": \"#000000\", \"text\": \"RA [Deg]\", \"coordinates\": \"axes\", \"zorder\": 3, \"alpha\": 1, \"fontsize\": 10.0, \"position\": [0.5, -0.13440860215051711], \"rotation\": -0.0, \"id\": \"el168624602061456\"}, {\"v_baseline\": \"auto\", \"h_anchor\": \"middle\", \"color\": \"#000000\", \"text\": \"Dec [Deg]\", \"coordinates\": \"axes\", \"zorder\": 3, \"alpha\": 1, \"fontsize\": 10.0, \"position\": [-0.13239247311827956, 0.5], \"rotation\": -90.0, \"id\": \"el168624473659152\"}, {\"v_baseline\": \"auto\", \"h_anchor\": \"start\", \"color\": \"#000000\", \"text\": \"USNO\", \"coordinates\": \"axes\", \"zorder\": 1000003.0, \"alpha\": 1, \"fontsize\": 12.0, \"position\": [0.13261648745519719, 0.88407258064517913], \"rotation\": -0.0, \"id\": \"el168624595961680\"}, {\"v_baseline\": \"auto\", \"h_anchor\": \"start\", \"color\": \"#000000\", \"text\": \"CCD Data\", \"coordinates\": \"axes\", \"zorder\": 1000003.0, \"alpha\": 1, \"fontsize\": 12.0, \"position\": [0.13261648745519719, 0.77990591397852838], \"rotation\": -0.0, \"id\": \"el168624601525392\"}, {\"v_baseline\": \"auto\", \"h_anchor\": \"start\", \"color\": \"#000000\", \"text\": \"Asteroid\", \"coordinates\": \"axes\", \"zorder\": 1000003.0, \"alpha\": 1, \"fontsize\": 12.0, \"position\": [0.13261648745519719, 0.67573924731187762], \"rotation\": -0.0, \"id\": \"el168624601527696\"}], \"zoomable\": true, \"images\": [], \"xdomain\": [293.60000000000002, 293.75], \"ylim\": [-10.1, -10.02], \"paths\": [{\"edgecolor\": \"#000000\", \"facecolor\": \"#FFFFFF\", \"edgewidth\": 1.0, \"pathcodes\": [\"M\", \"L\", \"L\", \"L\", \"L\", \"Z\"], \"yindex\": 1, \"coordinates\": \"axes\", \"dasharray\": \"10,0\", \"zorder\": 1000001.0, \"alpha\": 1, \"xindex\": 0, \"data\": \"data06\", \"id\": \"el168624595958608\"}], \"sharey\": [], \"sharex\": [], \"axesbgalpha\": null, \"axes\": [{\"scale\": \"linear\", \"tickformat\": null, \"grid\": {\"gridOn\": false}, \"fontsize\": 10.0, \"position\": \"bottom\", \"nticks\": 4, \"tickvalues\": null}, {\"scale\": \"linear\", \"tickformat\": null, \"grid\": {\"gridOn\": false}, \"fontsize\": 10.0, \"position\": \"left\", \"nticks\": 3, \"tickvalues\": null}], \"lines\": [], \"markers\": [{\"edgecolor\": \"#008000\", \"facecolor\": \"#008000\", \"edgewidth\": 0.5, \"yindex\": 1, \"coordinates\": \"data\", \"zorder\": 2, \"markerpath\": [[[0.0, 1.5], [0.39780465000000004, 1.5], [0.7793698061772802, 1.3419505373823626], [1.0606601717798214, 1.0606601717798214], [1.3419505373823626, 0.7793698061772802], [1.5, 0.39780465000000004], [1.5, 0.0], [1.5, -0.39780465000000004], [1.3419505373823626, -0.7793698061772802], [1.0606601717798214, -1.0606601717798214], [0.7793698061772802, -1.3419505373823626], [0.39780465000000004, -1.5], [0.0, -1.5], [-0.39780465000000004, -1.5], [-0.7793698061772802, -1.3419505373823626], [-1.0606601717798214, -1.0606601717798214], [-1.3419505373823626, -0.7793698061772802], [-1.5, -0.39780465000000004], [-1.5, 0.0], [-1.5, 0.39780465000000004], [-1.3419505373823626, 0.7793698061772802], [-1.0606601717798214, 1.0606601717798214], [-0.7793698061772802, 1.3419505373823626], [-0.39780465000000004, 1.5], [0.0, 1.5]], [\"M\", \"C\", \"C\", \"C\", \"C\", \"C\", \"C\", \"C\", \"C\", \"Z\"]], \"alpha\": 1, \"xindex\": 0, \"data\": \"data01\", \"id\": \"el168624595928784pts\"}, {\"edgecolor\": \"#FF0000\", \"facecolor\": \"#FF0000\", \"edgewidth\": 0.5, \"yindex\": 1, \"coordinates\": \"data\", \"zorder\": 2, \"markerpath\": [[[0.0, 1.5], [0.39780465000000004, 1.5], [0.7793698061772802, 1.3419505373823626], [1.0606601717798214, 1.0606601717798214], [1.3419505373823626, 0.7793698061772802], [1.5, 0.39780465000000004], [1.5, 0.0], [1.5, -0.39780465000000004], [1.3419505373823626, -0.7793698061772802], [1.0606601717798214, -1.0606601717798214], [0.7793698061772802, -1.3419505373823626], [0.39780465000000004, -1.5], [0.0, -1.5], [-0.39780465000000004, -1.5], [-0.7793698061772802, -1.3419505373823626], [-1.0606601717798214, -1.0606601717798214], [-1.3419505373823626, -0.7793698061772802], [-1.5, -0.39780465000000004], [-1.5, 0.0], [-1.5, 0.39780465000000004], [-1.3419505373823626, 0.7793698061772802], [-1.0606601717798214, 1.0606601717798214], [-0.7793698061772802, 1.3419505373823626], [-0.39780465000000004, 1.5], [0.0, 1.5]], [\"M\", \"C\", \"C\", \"C\", \"C\", \"C\", \"C\", \"C\", \"C\", \"Z\"]], \"alpha\": 1, \"xindex\": 0, \"data\": \"data02\", \"id\": \"el168624595928464pts\"}, {\"edgecolor\": \"#000000\", \"facecolor\": \"#0000FF\", \"edgewidth\": 0.5, \"yindex\": 1, \"coordinates\": \"data\", \"zorder\": 2, \"markerpath\": [[[0.0, 3.0], [0.7956093000000001, 3.0], [1.5587396123545605, 2.683901074764725], [2.121320343559643, 2.121320343559643], [2.683901074764725, 1.5587396123545605], [3.0, 0.7956093000000001], [3.0, 0.0], [3.0, -0.7956093000000001], [2.683901074764725, -1.5587396123545605], [2.121320343559643, -2.121320343559643], [1.5587396123545605, -2.683901074764725], [0.7956093000000001, -3.0], [0.0, -3.0], [-0.7956093000000001, -3.0], [-1.5587396123545605, -2.683901074764725], [-2.121320343559643, -2.121320343559643], [-2.683901074764725, -1.5587396123545605], [-3.0, -0.7956093000000001], [-3.0, 0.0], [-3.0, 0.7956093000000001], [-2.683901074764725, 1.5587396123545605], [-2.121320343559643, 2.121320343559643], [-1.5587396123545605, 2.683901074764725], [-0.7956093000000001, 3.0], [0.0, 3.0]], [\"M\", \"C\", \"C\", \"C\", \"C\", \"C\", \"C\", \"C\", \"C\", \"Z\"]], \"alpha\": 1, \"xindex\": 0, \"data\": \"data03\", \"id\": \"el168624473486864pts\"}, {\"edgecolor\": \"#000000\", \"facecolor\": \"#FFFF00\", \"edgewidth\": 0.5, \"yindex\": 1, \"coordinates\": \"data\", \"zorder\": 2, \"markerpath\": [[[1.8369701987210297e-16, -3.0], [-0.6735419450314403, -0.9270509558202635], [-2.8531695488854605, -0.9270509831248426], [-1.089813759909584, 0.3541019558202634], [-1.7633557568774196, 2.427050983124842], [-2.1049804767740306e-16, 1.145898], [1.7633557568774187, 2.427050983124843], [1.089813759909584, 0.35410195582026377], [2.853169548885461, -0.9270509831248415], [0.6735419450314407, -0.9270509558202634]], [\"M\", \"L\", \"L\", \"L\", \"L\", \"L\", \"L\", \"L\", \"L\", \"L\", \"Z\"]], \"alpha\": 1, \"xindex\": 0, \"data\": \"data04\", \"id\": \"el168624595938448pts\"}, {\"edgecolor\": \"#008000\", \"facecolor\": \"#008000\", \"edgewidth\": 0.5, \"yindex\": 1, \"coordinates\": \"axes\", \"zorder\": 1000002.0, \"markerpath\": [[[0.0, 1.5], [0.39780465000000004, 1.5], [0.7793698061772802, 1.3419505373823626], [1.0606601717798214, 1.0606601717798214], [1.3419505373823626, 0.7793698061772802], [1.5, 0.39780465000000004], [1.5, 0.0], [1.5, -0.39780465000000004], [1.3419505373823626, -0.7793698061772802], [1.0606601717798214, -1.0606601717798214], [0.7793698061772802, -1.3419505373823626], [0.39780465000000004, -1.5], [0.0, -1.5], [-0.39780465000000004, -1.5], [-0.7793698061772802, -1.3419505373823626], [-1.0606601717798214, -1.0606601717798214], [-1.3419505373823626, -0.7793698061772802], [-1.5, -0.39780465000000004], [-1.5, 0.0], [-1.5, 0.39780465000000004], [-1.3419505373823626, 0.7793698061772802], [-1.0606601717798214, 1.0606601717798214], [-0.7793698061772802, 1.3419505373823626], [-0.39780465000000004, 1.5], [0.0, 1.5]], [\"M\", \"C\", \"C\", \"C\", \"C\", \"C\", \"C\", \"C\", \"C\", \"Z\"]], \"alpha\": 1, \"xindex\": 0, \"data\": \"data05\", \"id\": \"el168624595960912pts\"}, {\"edgecolor\": \"#FF0000\", \"facecolor\": \"#FF0000\", \"edgewidth\": 0.5, \"yindex\": 2, \"coordinates\": \"axes\", \"zorder\": 1000002.0, \"markerpath\": [[[0.0, 1.5], [0.39780465000000004, 1.5], [0.7793698061772802, 1.3419505373823626], [1.0606601717798214, 1.0606601717798214], [1.3419505373823626, 0.7793698061772802], [1.5, 0.39780465000000004], [1.5, 0.0], [1.5, -0.39780465000000004], [1.3419505373823626, -0.7793698061772802], [1.0606601717798214, -1.0606601717798214], [0.7793698061772802, -1.3419505373823626], [0.39780465000000004, -1.5], [0.0, -1.5], [-0.39780465000000004, -1.5], [-0.7793698061772802, -1.3419505373823626], [-1.0606601717798214, -1.0606601717798214], [-1.3419505373823626, -0.7793698061772802], [-1.5, -0.39780465000000004], [-1.5, 0.0], [-1.5, 0.39780465000000004], [-1.3419505373823626, 0.7793698061772802], [-1.0606601717798214, 1.0606601717798214], [-0.7793698061772802, 1.3419505373823626], [-0.39780465000000004, 1.5], [0.0, 1.5]], [\"M\", \"C\", \"C\", \"C\", \"C\", \"C\", \"C\", \"C\", \"C\", \"Z\"]], \"alpha\": 1, \"xindex\": 0, \"data\": \"data05\", \"id\": \"el168624601526800pts\"}, {\"edgecolor\": \"#000000\", \"facecolor\": \"#0000FF\", \"edgewidth\": 0.5, \"yindex\": 3, \"coordinates\": \"axes\", \"zorder\": 1000002.0, \"markerpath\": [[[0.0, 3.0], [0.7956093000000001, 3.0], [1.5587396123545605, 2.683901074764725], [2.121320343559643, 2.121320343559643], [2.683901074764725, 1.5587396123545605], [3.0, 0.7956093000000001], [3.0, 0.0], [3.0, -0.7956093000000001], [2.683901074764725, -1.5587396123545605], [2.121320343559643, -2.121320343559643], [1.5587396123545605, -2.683901074764725], [0.7956093000000001, -3.0], [0.0, -3.0], [-0.7956093000000001, -3.0], [-1.5587396123545605, -2.683901074764725], [-2.121320343559643, -2.121320343559643], [-2.683901074764725, -1.5587396123545605], [-3.0, -0.7956093000000001], [-3.0, 0.0], [-3.0, 0.7956093000000001], [-2.683901074764725, 1.5587396123545605], [-2.121320343559643, 2.121320343559643], [-1.5587396123545605, 2.683901074764725], [-0.7956093000000001, 3.0], [0.0, 3.0]], [\"M\", \"C\", \"C\", \"C\", \"C\", \"C\", \"C\", \"C\", \"C\", \"Z\"]], \"alpha\": 1, \"xindex\": 0, \"data\": \"data05\", \"id\": \"el168624600545936pts\"}], \"id\": \"el168624473594768\", \"ydomain\": [-10.1, -10.02], \"collections\": [], \"xscale\": \"linear\", \"bbox\": [0.125, 0.20249999999995272, 0.77500000000000002, 0.62000000000009459]}], \"height\": 320.0, \"width\": 480.0, \"plugins\": [{\"type\": \"reset\"}, {\"enabled\": false, \"button\": true, \"type\": \"zoom\"}, {\"enabled\": false, \"button\": true, \"type\": \"boxzoom\"}], \"data\": {\"data06\": [[0.017921146953405048, 0.6337365591398408], [0.3169802867383513, 0.6337365591398408], [0.3169802867383513, 0.9663978494623707], [0.017921146953405048, 0.9663978494623707], [0.017921146953405048, 0.6337365591398408]], \"data04\": [[293.693583333, -10.0580833333], [293.699333333, -10.0488611111], [293.70825, -10.0362777778], [293.72225, -10.0489722222], [293.713291667, -10.02825], [293.7265, -10.0173888889], [293.658, -10.0657777778], [293.655291667, -10.036], [293.650916667, -10.0284722222], [293.66975, -10.08675], [293.680833333, -10.0958333333], [293.719625, -10.0647222222], [293.687375, -10.0442222222], [293.705333333, -10.0678888889], [293.644958333, -10.0301944444]], \"data05\": [[0.0681003584229391, 0.9075940860215196, 0.8034274193548688, 0.6992607526882181]], \"data02\": [[293.68365825669713, -10.1148259575559], [293.7296469317311, -10.11222507357491], [293.6743708662082, -10.110419330416708], [293.6619030566041, -10.108214956772013], [293.63877130104964, -10.107236004096432], [293.6516327822086, -10.106579916229105], [293.6446446874708, -10.102513725707768], [293.6824180093578, -10.08586287529294], [293.64288126964436, -10.08099932024743], [293.6693822866185, -10.066299944748911], [293.6608686420447, -10.06560512821189], [293.7310660292202, -10.061805720173872], [293.69631700728166, -10.06009909580723], [293.7046680601448, -10.05597991026901], [293.70984355983717, -10.047011461775675], [293.7323169164796, -10.046354151380717], [293.7098436292319, -10.047023415583078], [293.7323143668524, -10.046356511073109], [293.7098466280202, -10.047025034534446], [293.7323145117686, -10.046358993152554], [293.7323193445645, -10.046368723199544], [293.69799602526365, -10.042905314140244], [293.6357603231509, -10.036900889737504], [293.6656951369133, -10.036207541065794], [293.6357565487863, -10.036906782114087], [293.665694164898, -10.0362085080907], [293.6357572450064, -10.036907552843598], [293.6656931796005, -10.036209461116014], [293.6357573135312, -10.03690826155173], [293.6656922645442, -10.036210447429202], [293.63575885463536, -10.036908934371588], [293.66569218450604, -10.036211375851183], [293.63575956488665, -10.036909731555895], [293.6656922119089, -10.036212346150405], [293.63576106752186, -10.036910497504925], [293.66569221967967, -10.036213300792397], [293.71802012781666, -10.033712361394405], [293.64458720191334, -10.030622671110125], [293.65490735546837, -10.02990896139881], [293.66127872948175, -10.028120666147956], [293.72287353118264, -10.026732466624871], [293.64790803151345, -10.017346114363832], [293.63999117247255, -10.016307279595996]], \"data03\": [[293.684, -10.0626944444]], \"data01\": [[293.645175, -10.029362], [293.6517758999302, -10.027859], [293.652445, -10.028559], [293.6559, -10.036278], [293.658364, -10.066648], [293.671273, -10.086728], [293.682189, -10.0958], [293.682845, -10.095659], [293.688153, -10.044025], [293.6943464649104, -10.057563033203333], [293.699839, -10.048806], [293.70569024759214, -10.067873338867223], [293.7088529008674, -10.035608372070556], [293.7140402199915, -10.028840966796666], [293.720828, -10.064531], [293.722784, -10.04912]]}, \"id\": \"el168624473596176\"});\n",
        "      });\n",
        "    });\n",
        "}else{\n",
        "    // require.js not available: dynamically load d3 & mpld3\n",
        "    mpld3_load_lib(\"https://mpld3.github.io/js/d3.v3.min.js\", function(){\n",
        "         mpld3_load_lib(\"https://mpld3.github.io/js/mpld3.v0.2.js\", function(){\n",
        "                 \n",
        "                 mpld3.draw_figure(\"fig_el1686244735961767917556275\", {\"axes\": [{\"xlim\": [293.60000000000002, 293.75], \"yscale\": \"linear\", \"axesbg\": \"#FFFFFF\", \"texts\": [{\"v_baseline\": \"hanging\", \"h_anchor\": \"middle\", \"color\": \"#000000\", \"text\": \"RA [Deg]\", \"coordinates\": \"axes\", \"zorder\": 3, \"alpha\": 1, \"fontsize\": 10.0, \"position\": [0.5, -0.13440860215051711], \"rotation\": -0.0, \"id\": \"el168624602061456\"}, {\"v_baseline\": \"auto\", \"h_anchor\": \"middle\", \"color\": \"#000000\", \"text\": \"Dec [Deg]\", \"coordinates\": \"axes\", \"zorder\": 3, \"alpha\": 1, \"fontsize\": 10.0, \"position\": [-0.13239247311827956, 0.5], \"rotation\": -90.0, \"id\": \"el168624473659152\"}, {\"v_baseline\": \"auto\", \"h_anchor\": \"start\", \"color\": \"#000000\", \"text\": \"USNO\", \"coordinates\": \"axes\", \"zorder\": 1000003.0, \"alpha\": 1, \"fontsize\": 12.0, \"position\": [0.13261648745519719, 0.88407258064517913], \"rotation\": -0.0, \"id\": \"el168624595961680\"}, {\"v_baseline\": \"auto\", \"h_anchor\": \"start\", \"color\": \"#000000\", \"text\": \"CCD Data\", \"coordinates\": \"axes\", \"zorder\": 1000003.0, \"alpha\": 1, \"fontsize\": 12.0, \"position\": [0.13261648745519719, 0.77990591397852838], \"rotation\": -0.0, \"id\": \"el168624601525392\"}, {\"v_baseline\": \"auto\", \"h_anchor\": \"start\", \"color\": \"#000000\", \"text\": \"Asteroid\", \"coordinates\": \"axes\", \"zorder\": 1000003.0, \"alpha\": 1, \"fontsize\": 12.0, \"position\": [0.13261648745519719, 0.67573924731187762], \"rotation\": -0.0, \"id\": \"el168624601527696\"}], \"zoomable\": true, \"images\": [], \"xdomain\": [293.60000000000002, 293.75], \"ylim\": [-10.1, -10.02], \"paths\": [{\"edgecolor\": \"#000000\", \"facecolor\": \"#FFFFFF\", \"edgewidth\": 1.0, \"pathcodes\": [\"M\", \"L\", \"L\", \"L\", \"L\", \"Z\"], \"yindex\": 1, \"coordinates\": \"axes\", \"dasharray\": \"10,0\", \"zorder\": 1000001.0, \"alpha\": 1, \"xindex\": 0, \"data\": \"data06\", \"id\": \"el168624595958608\"}], \"sharey\": [], \"sharex\": [], \"axesbgalpha\": null, \"axes\": [{\"scale\": \"linear\", \"tickformat\": null, \"grid\": {\"gridOn\": false}, \"fontsize\": 10.0, \"position\": \"bottom\", \"nticks\": 4, \"tickvalues\": null}, {\"scale\": \"linear\", \"tickformat\": null, \"grid\": {\"gridOn\": false}, \"fontsize\": 10.0, \"position\": \"left\", \"nticks\": 3, \"tickvalues\": null}], \"lines\": [], \"markers\": [{\"edgecolor\": \"#008000\", \"facecolor\": \"#008000\", \"edgewidth\": 0.5, \"yindex\": 1, \"coordinates\": \"data\", \"zorder\": 2, \"markerpath\": [[[0.0, 1.5], [0.39780465000000004, 1.5], [0.7793698061772802, 1.3419505373823626], [1.0606601717798214, 1.0606601717798214], [1.3419505373823626, 0.7793698061772802], [1.5, 0.39780465000000004], [1.5, 0.0], [1.5, -0.39780465000000004], [1.3419505373823626, -0.7793698061772802], [1.0606601717798214, -1.0606601717798214], [0.7793698061772802, -1.3419505373823626], [0.39780465000000004, -1.5], [0.0, -1.5], [-0.39780465000000004, -1.5], [-0.7793698061772802, -1.3419505373823626], [-1.0606601717798214, -1.0606601717798214], [-1.3419505373823626, -0.7793698061772802], [-1.5, -0.39780465000000004], [-1.5, 0.0], [-1.5, 0.39780465000000004], [-1.3419505373823626, 0.7793698061772802], [-1.0606601717798214, 1.0606601717798214], [-0.7793698061772802, 1.3419505373823626], [-0.39780465000000004, 1.5], [0.0, 1.5]], [\"M\", \"C\", \"C\", \"C\", \"C\", \"C\", \"C\", \"C\", \"C\", \"Z\"]], \"alpha\": 1, \"xindex\": 0, \"data\": \"data01\", \"id\": \"el168624595928784pts\"}, {\"edgecolor\": \"#FF0000\", \"facecolor\": \"#FF0000\", \"edgewidth\": 0.5, \"yindex\": 1, \"coordinates\": \"data\", \"zorder\": 2, \"markerpath\": [[[0.0, 1.5], [0.39780465000000004, 1.5], [0.7793698061772802, 1.3419505373823626], [1.0606601717798214, 1.0606601717798214], [1.3419505373823626, 0.7793698061772802], [1.5, 0.39780465000000004], [1.5, 0.0], [1.5, -0.39780465000000004], [1.3419505373823626, -0.7793698061772802], [1.0606601717798214, -1.0606601717798214], [0.7793698061772802, -1.3419505373823626], [0.39780465000000004, -1.5], [0.0, -1.5], [-0.39780465000000004, -1.5], [-0.7793698061772802, -1.3419505373823626], [-1.0606601717798214, -1.0606601717798214], [-1.3419505373823626, -0.7793698061772802], [-1.5, -0.39780465000000004], [-1.5, 0.0], [-1.5, 0.39780465000000004], [-1.3419505373823626, 0.7793698061772802], [-1.0606601717798214, 1.0606601717798214], [-0.7793698061772802, 1.3419505373823626], [-0.39780465000000004, 1.5], [0.0, 1.5]], [\"M\", \"C\", \"C\", \"C\", \"C\", \"C\", \"C\", \"C\", \"C\", \"Z\"]], \"alpha\": 1, \"xindex\": 0, \"data\": \"data02\", \"id\": \"el168624595928464pts\"}, {\"edgecolor\": \"#000000\", \"facecolor\": \"#0000FF\", \"edgewidth\": 0.5, \"yindex\": 1, \"coordinates\": \"data\", \"zorder\": 2, \"markerpath\": [[[0.0, 3.0], [0.7956093000000001, 3.0], [1.5587396123545605, 2.683901074764725], [2.121320343559643, 2.121320343559643], [2.683901074764725, 1.5587396123545605], [3.0, 0.7956093000000001], [3.0, 0.0], [3.0, -0.7956093000000001], [2.683901074764725, -1.5587396123545605], [2.121320343559643, -2.121320343559643], [1.5587396123545605, -2.683901074764725], [0.7956093000000001, -3.0], [0.0, -3.0], [-0.7956093000000001, -3.0], [-1.5587396123545605, -2.683901074764725], [-2.121320343559643, -2.121320343559643], [-2.683901074764725, -1.5587396123545605], [-3.0, -0.7956093000000001], [-3.0, 0.0], [-3.0, 0.7956093000000001], [-2.683901074764725, 1.5587396123545605], [-2.121320343559643, 2.121320343559643], [-1.5587396123545605, 2.683901074764725], [-0.7956093000000001, 3.0], [0.0, 3.0]], [\"M\", \"C\", \"C\", \"C\", \"C\", \"C\", \"C\", \"C\", \"C\", \"Z\"]], \"alpha\": 1, \"xindex\": 0, \"data\": \"data03\", \"id\": \"el168624473486864pts\"}, {\"edgecolor\": \"#000000\", \"facecolor\": \"#FFFF00\", \"edgewidth\": 0.5, \"yindex\": 1, \"coordinates\": \"data\", \"zorder\": 2, \"markerpath\": [[[1.8369701987210297e-16, -3.0], [-0.6735419450314403, -0.9270509558202635], [-2.8531695488854605, -0.9270509831248426], [-1.089813759909584, 0.3541019558202634], [-1.7633557568774196, 2.427050983124842], [-2.1049804767740306e-16, 1.145898], [1.7633557568774187, 2.427050983124843], [1.089813759909584, 0.35410195582026377], [2.853169548885461, -0.9270509831248415], [0.6735419450314407, -0.9270509558202634]], [\"M\", \"L\", \"L\", \"L\", \"L\", \"L\", \"L\", \"L\", \"L\", \"L\", \"Z\"]], \"alpha\": 1, \"xindex\": 0, \"data\": \"data04\", \"id\": \"el168624595938448pts\"}, {\"edgecolor\": \"#008000\", \"facecolor\": \"#008000\", \"edgewidth\": 0.5, \"yindex\": 1, \"coordinates\": \"axes\", \"zorder\": 1000002.0, \"markerpath\": [[[0.0, 1.5], [0.39780465000000004, 1.5], [0.7793698061772802, 1.3419505373823626], [1.0606601717798214, 1.0606601717798214], [1.3419505373823626, 0.7793698061772802], [1.5, 0.39780465000000004], [1.5, 0.0], [1.5, -0.39780465000000004], [1.3419505373823626, -0.7793698061772802], [1.0606601717798214, -1.0606601717798214], [0.7793698061772802, -1.3419505373823626], [0.39780465000000004, -1.5], [0.0, -1.5], [-0.39780465000000004, -1.5], [-0.7793698061772802, -1.3419505373823626], [-1.0606601717798214, -1.0606601717798214], [-1.3419505373823626, -0.7793698061772802], [-1.5, -0.39780465000000004], [-1.5, 0.0], [-1.5, 0.39780465000000004], [-1.3419505373823626, 0.7793698061772802], [-1.0606601717798214, 1.0606601717798214], [-0.7793698061772802, 1.3419505373823626], [-0.39780465000000004, 1.5], [0.0, 1.5]], [\"M\", \"C\", \"C\", \"C\", \"C\", \"C\", \"C\", \"C\", \"C\", \"Z\"]], \"alpha\": 1, \"xindex\": 0, \"data\": \"data05\", \"id\": \"el168624595960912pts\"}, {\"edgecolor\": \"#FF0000\", \"facecolor\": \"#FF0000\", \"edgewidth\": 0.5, \"yindex\": 2, \"coordinates\": \"axes\", \"zorder\": 1000002.0, \"markerpath\": [[[0.0, 1.5], [0.39780465000000004, 1.5], [0.7793698061772802, 1.3419505373823626], [1.0606601717798214, 1.0606601717798214], [1.3419505373823626, 0.7793698061772802], [1.5, 0.39780465000000004], [1.5, 0.0], [1.5, -0.39780465000000004], [1.3419505373823626, -0.7793698061772802], [1.0606601717798214, -1.0606601717798214], [0.7793698061772802, -1.3419505373823626], [0.39780465000000004, -1.5], [0.0, -1.5], [-0.39780465000000004, -1.5], [-0.7793698061772802, -1.3419505373823626], [-1.0606601717798214, -1.0606601717798214], [-1.3419505373823626, -0.7793698061772802], [-1.5, -0.39780465000000004], [-1.5, 0.0], [-1.5, 0.39780465000000004], [-1.3419505373823626, 0.7793698061772802], [-1.0606601717798214, 1.0606601717798214], [-0.7793698061772802, 1.3419505373823626], [-0.39780465000000004, 1.5], [0.0, 1.5]], [\"M\", \"C\", \"C\", \"C\", \"C\", \"C\", \"C\", \"C\", \"C\", \"Z\"]], \"alpha\": 1, \"xindex\": 0, \"data\": \"data05\", \"id\": \"el168624601526800pts\"}, {\"edgecolor\": \"#000000\", \"facecolor\": \"#0000FF\", \"edgewidth\": 0.5, \"yindex\": 3, \"coordinates\": \"axes\", \"zorder\": 1000002.0, \"markerpath\": [[[0.0, 3.0], [0.7956093000000001, 3.0], [1.5587396123545605, 2.683901074764725], [2.121320343559643, 2.121320343559643], [2.683901074764725, 1.5587396123545605], [3.0, 0.7956093000000001], [3.0, 0.0], [3.0, -0.7956093000000001], [2.683901074764725, -1.5587396123545605], [2.121320343559643, -2.121320343559643], [1.5587396123545605, -2.683901074764725], [0.7956093000000001, -3.0], [0.0, -3.0], [-0.7956093000000001, -3.0], [-1.5587396123545605, -2.683901074764725], [-2.121320343559643, -2.121320343559643], [-2.683901074764725, -1.5587396123545605], [-3.0, -0.7956093000000001], [-3.0, 0.0], [-3.0, 0.7956093000000001], [-2.683901074764725, 1.5587396123545605], [-2.121320343559643, 2.121320343559643], [-1.5587396123545605, 2.683901074764725], [-0.7956093000000001, 3.0], [0.0, 3.0]], [\"M\", \"C\", \"C\", \"C\", \"C\", \"C\", \"C\", \"C\", \"C\", \"Z\"]], \"alpha\": 1, \"xindex\": 0, \"data\": \"data05\", \"id\": \"el168624600545936pts\"}], \"id\": \"el168624473594768\", \"ydomain\": [-10.1, -10.02], \"collections\": [], \"xscale\": \"linear\", \"bbox\": [0.125, 0.20249999999995272, 0.77500000000000002, 0.62000000000009459]}], \"height\": 320.0, \"width\": 480.0, \"plugins\": [{\"type\": \"reset\"}, {\"enabled\": false, \"button\": true, \"type\": \"zoom\"}, {\"enabled\": false, \"button\": true, \"type\": \"boxzoom\"}], \"data\": {\"data06\": [[0.017921146953405048, 0.6337365591398408], [0.3169802867383513, 0.6337365591398408], [0.3169802867383513, 0.9663978494623707], [0.017921146953405048, 0.9663978494623707], [0.017921146953405048, 0.6337365591398408]], \"data04\": [[293.693583333, -10.0580833333], [293.699333333, -10.0488611111], [293.70825, -10.0362777778], [293.72225, -10.0489722222], [293.713291667, -10.02825], [293.7265, -10.0173888889], [293.658, -10.0657777778], [293.655291667, -10.036], [293.650916667, -10.0284722222], [293.66975, -10.08675], [293.680833333, -10.0958333333], [293.719625, -10.0647222222], [293.687375, -10.0442222222], [293.705333333, -10.0678888889], [293.644958333, -10.0301944444]], \"data05\": [[0.0681003584229391, 0.9075940860215196, 0.8034274193548688, 0.6992607526882181]], \"data02\": [[293.68365825669713, -10.1148259575559], [293.7296469317311, -10.11222507357491], [293.6743708662082, -10.110419330416708], [293.6619030566041, -10.108214956772013], [293.63877130104964, -10.107236004096432], [293.6516327822086, -10.106579916229105], [293.6446446874708, -10.102513725707768], [293.6824180093578, -10.08586287529294], [293.64288126964436, -10.08099932024743], [293.6693822866185, -10.066299944748911], [293.6608686420447, -10.06560512821189], [293.7310660292202, -10.061805720173872], [293.69631700728166, -10.06009909580723], [293.7046680601448, -10.05597991026901], [293.70984355983717, -10.047011461775675], [293.7323169164796, -10.046354151380717], [293.7098436292319, -10.047023415583078], [293.7323143668524, -10.046356511073109], [293.7098466280202, -10.047025034534446], [293.7323145117686, -10.046358993152554], [293.7323193445645, -10.046368723199544], [293.69799602526365, -10.042905314140244], [293.6357603231509, -10.036900889737504], [293.6656951369133, -10.036207541065794], [293.6357565487863, -10.036906782114087], [293.665694164898, -10.0362085080907], [293.6357572450064, -10.036907552843598], [293.6656931796005, -10.036209461116014], [293.6357573135312, -10.03690826155173], [293.6656922645442, -10.036210447429202], [293.63575885463536, -10.036908934371588], [293.66569218450604, -10.036211375851183], [293.63575956488665, -10.036909731555895], [293.6656922119089, -10.036212346150405], [293.63576106752186, -10.036910497504925], [293.66569221967967, -10.036213300792397], [293.71802012781666, -10.033712361394405], [293.64458720191334, -10.030622671110125], [293.65490735546837, -10.02990896139881], [293.66127872948175, -10.028120666147956], [293.72287353118264, -10.026732466624871], [293.64790803151345, -10.017346114363832], [293.63999117247255, -10.016307279595996]], \"data03\": [[293.684, -10.0626944444]], \"data01\": [[293.645175, -10.029362], [293.6517758999302, -10.027859], [293.652445, -10.028559], [293.6559, -10.036278], [293.658364, -10.066648], [293.671273, -10.086728], [293.682189, -10.0958], [293.682845, -10.095659], [293.688153, -10.044025], [293.6943464649104, -10.057563033203333], [293.699839, -10.048806], [293.70569024759214, -10.067873338867223], [293.7088529008674, -10.035608372070556], [293.7140402199915, -10.028840966796666], [293.720828, -10.064531], [293.722784, -10.04912]]}, \"id\": \"el168624473596176\"});\n",
        "            })\n",
        "         });\n",
        "}\n",
        "</script>"
       ],
       "metadata": {},
       "output_type": "display_data",
       "png": "[encoded data removed]",
       "text": [
        "<matplotlib.figure.Figure at 0x10aa5a910>"
       ]
      }
     ],
     "prompt_number": 74
    },
    {
     "cell_type": "heading",
     "level": 4,
     "metadata": {},
     "source": [
      "So how do you obtain the asteroid's ra dec? The stars would have to exactly match! "
     ]
    },
    {
     "cell_type": "heading",
     "level": 3,
     "metadata": {},
     "source": [
      "Manually Match together USNO and CCD stars for residual plots"
     ]
    },
    {
     "cell_type": "code",
     "collapsed": false,
     "input": [
      "a-usno_star_lst"
     ],
     "language": "python",
     "metadata": {},
     "outputs": [
      {
       "ename": "ValueError",
       "evalue": "operands could not be broadcast together with shapes (43,) (2,16) ",
       "output_type": "pyerr",
       "traceback": [
        "\u001b[0;31m---------------------------------------------------------------------------\u001b[0m\n\u001b[0;31mValueError\u001b[0m                                Traceback (most recent call last)",
        "\u001b[0;32m<ipython-input-56-d6557b57a51a>\u001b[0m in \u001b[0;36m<module>\u001b[0;34m()\u001b[0m\n\u001b[0;32m----> 1\u001b[0;31m \u001b[0ma\u001b[0m\u001b[0;34m-\u001b[0m\u001b[0musno_star_lst\u001b[0m\u001b[0;34m\u001b[0m\u001b[0m\n\u001b[0m",
        "\u001b[0;31mValueError\u001b[0m: operands could not be broadcast together with shapes (43,) (2,16) "
       ]
      }
     ],
     "prompt_number": 56
    },
    {
     "cell_type": "heading",
     "level": 1,
     "metadata": {},
     "source": [
      "Parallax Determination"
     ]
    },
    {
     "cell_type": "markdown",
     "metadata": {},
     "source": [
      "Defining variables\n",
      "\n",
      "s = $\\vec{s}$ ; \n",
      "ds = $\\dot{s}$ ;\n",
      "dds = $\\ddot{s}$ ;\n",
      "R = $\\vec{R}$ ;\n",
      "p=$\\rho$ ;\n",
      "Ti = $\\tau_i$"
     ]
    },
    {
     "cell_type": "markdown",
     "metadata": {},
     "source": [
      "Subscript denote measurement done on each night\n",
      "\n",
      "s1 10/16/2013\n",
      "\n",
      "s2 10/17/2013\n",
      "\n",
      "s3 10/21/2013"
     ]
    },
    {
     "cell_type": "heading",
     "level": 4,
     "metadata": {},
     "source": [
      "Oct 16"
     ]
    },
    {
     "cell_type": "code",
     "collapsed": false,
     "input": [
      "from astropy.time import Time"
     ],
     "language": "python",
     "metadata": {},
     "outputs": [],
     "prompt_number": 99
    },
    {
     "cell_type": "code",
     "collapsed": false,
     "input": [
      "X_jpl =9.203455880472667E-01\n",
      "Y_jpl=3.515255751328614E-01\n",
      "Z_jpl=1.523886251717332E-01\n",
      "x_jpl=1.840228019827501E+00 \n",
      "y_jpl=-1.776928921396953E+00\n",
      "z_jpl=-2.557152279422672E-01\n",
      "R = np.array([X_jpl,Y_jpl,Z_jpl])\n",
      "r = np.array([x_jpl,y_jpl,z_jpl])\n",
      "k=0.017202098950 #[AU^3/2 d^-1]\n",
      "s= r-R#unit vector from Earth to target body; from astrometric data\n",
      "# ds=1\n",
      "# dds=1 "
     ],
     "language": "python",
     "metadata": {},
     "outputs": [],
     "prompt_number": 58
    },
    {
     "cell_type": "code",
     "collapsed": false,
     "input": [
      "t1 = Time(s1[0].header[\"DATE\"])"
     ],
     "language": "python",
     "metadata": {},
     "outputs": [],
     "prompt_number": 59
    },
    {
     "cell_type": "heading",
     "level": 4,
     "metadata": {},
     "source": [
      "Oct 17"
     ]
    },
    {
     "cell_type": "code",
     "collapsed": false,
     "input": [
      "X_jpl_2 = 9.133156505080589E-01\n",
      "Y_jpl_2 = 3.659793733063590E-01\n",
      "Z_jpl_2 = 1.586550888688789E-01\n",
      "x_jpl_2 = 1.849795188217178E+00\n",
      "y_jpl_2 = -1.771366800510654E+00\n",
      "z_jpl_2 = -2.550551203967506E-01\n",
      "R2 = np.array([X_jpl_2,Y_jpl_2,Z_jpl_2])\n",
      "r2 = np.array([x_jpl_2,y_jpl_2,z_jpl_2])\n",
      "s2= r-R#unit vector from Earth to target body; from astrometric data"
     ],
     "language": "python",
     "metadata": {},
     "outputs": [
      {
       "ename": "NameError",
       "evalue": "name 'r' is not defined",
       "output_type": "pyerr",
       "traceback": [
        "\u001b[0;31m---------------------------------------------------------------------------\u001b[0m\n\u001b[0;31mNameError\u001b[0m                                 Traceback (most recent call last)",
        "\u001b[0;32m<ipython-input-33-7228b222ad12>\u001b[0m in \u001b[0;36m<module>\u001b[0;34m()\u001b[0m\n\u001b[1;32m      7\u001b[0m \u001b[0mR2\u001b[0m \u001b[0;34m=\u001b[0m \u001b[0mnp\u001b[0m\u001b[0;34m.\u001b[0m\u001b[0marray\u001b[0m\u001b[0;34m(\u001b[0m\u001b[0;34m[\u001b[0m\u001b[0mX_jpl_2\u001b[0m\u001b[0;34m,\u001b[0m\u001b[0mY_jpl_2\u001b[0m\u001b[0;34m,\u001b[0m\u001b[0mZ_jpl_2\u001b[0m\u001b[0;34m]\u001b[0m\u001b[0;34m)\u001b[0m\u001b[0;34m\u001b[0m\u001b[0m\n\u001b[1;32m      8\u001b[0m \u001b[0mr2\u001b[0m \u001b[0;34m=\u001b[0m \u001b[0mnp\u001b[0m\u001b[0;34m.\u001b[0m\u001b[0marray\u001b[0m\u001b[0;34m(\u001b[0m\u001b[0;34m[\u001b[0m\u001b[0mx_jpl_2\u001b[0m\u001b[0;34m,\u001b[0m\u001b[0my_jpl_2\u001b[0m\u001b[0;34m,\u001b[0m\u001b[0mz_jpl_2\u001b[0m\u001b[0;34m]\u001b[0m\u001b[0;34m)\u001b[0m\u001b[0;34m\u001b[0m\u001b[0m\n\u001b[0;32m----> 9\u001b[0;31m \u001b[0ms2\u001b[0m\u001b[0;34m=\u001b[0m \u001b[0mr\u001b[0m\u001b[0;34m-\u001b[0m\u001b[0mR\u001b[0m\u001b[0;31m#unit vector from Earth to target body; from astrometric data\u001b[0m\u001b[0;34m\u001b[0m\u001b[0m\n\u001b[0m",
        "\u001b[0;31mNameError\u001b[0m: name 'r' is not defined"
       ]
      }
     ],
     "prompt_number": 33
    },
    {
     "cell_type": "code",
     "collapsed": false,
     "input": [],
     "language": "python",
     "metadata": {},
     "outputs": [
      {
       "output_type": "stream",
       "stream": "stdout",
       "text": [
        "/Users/dorislee/Desktop/Fall2014/AY120/lab3/data/2013Data/101713\n"
       ]
      }
     ],
     "prompt_number": 61
    },
    {
     "cell_type": "code",
     "collapsed": false,
     "input": [],
     "language": "python",
     "metadata": {},
     "outputs": [],
     "prompt_number": 62
    },
    {
     "cell_type": "heading",
     "level": 4,
     "metadata": {},
     "source": [
      "Oct 21"
     ]
    },
    {
     "cell_type": "code",
     "collapsed": false,
     "input": [
      "X_jpl_3 = 8.825015460052588E-01 \n",
      "Y_jpl_3 = 4.226596954178235E-01\n",
      "Z_jpl_3 = 1.832296673113675E-01\n",
      "x_jpl_3 = 1.887742260264861E+00 \n",
      "y_jpl_3 = -1.748812956347293E+00\n",
      "z_jpl_3 = -2.523707136650389E-01\n",
      "R3 = np.array([X_jpl_3,Y_jpl_3,Z_jpl_3])\n",
      "r3 = np.array([x_jpl_3,y_jpl_3,z_jpl_3])\n",
      "s3= r-R#unit vector from Earth to target body; from astrometric data"
     ],
     "language": "python",
     "metadata": {},
     "outputs": [],
     "prompt_number": 63
    },
    {
     "cell_type": "code",
     "collapsed": false,
     "input": [
      "# These returned values are in RADIANS!!!!!!\n",
      "a_jpl = np.arctan2((y_jpl-Y_jpl),(x_jpl-X_jpl))\n",
      "p=np.sqrt((x_jpl-X_jpl)**2+(y_jpl-Y_jpl)**2+(z_jpl-Z_jpl)**2)\n",
      "d_jpl = np.arcsin((z_jpl-Z_jpl)/p)"
     ],
     "language": "python",
     "metadata": {},
     "outputs": [],
     "prompt_number": 64
    },
    {
     "cell_type": "code",
     "collapsed": false,
     "input": [
      "cd ../102113/"
     ],
     "language": "python",
     "metadata": {},
     "outputs": [
      {
       "output_type": "stream",
       "stream": "stdout",
       "text": [
        "/Users/dorislee/Desktop/Fall2014/AY120/lab3/data/2013Data/102113\n"
       ]
      }
     ],
     "prompt_number": 65
    },
    {
     "cell_type": "code",
     "collapsed": false,
     "input": [
      "frame = pf.open(\"d200.fits\")\n",
      "t3= Time(frame[0].header[\"DATE\"]) "
     ],
     "language": "python",
     "metadata": {},
     "outputs": [],
     "prompt_number": 66
    },
    {
     "cell_type": "code",
     "collapsed": false,
     "input": [
      "# Time interval in units of days\n",
      "T1 = (t2-t1).value\n",
      "T3 = (t3-t2).value"
     ],
     "language": "python",
     "metadata": {},
     "outputs": [],
     "prompt_number": 67
    },
    {
     "cell_type": "code",
     "collapsed": false,
     "input": [
      "s1=s\n",
      "ds2 = (T3*(s2-s1)/T1*(T1+T3))+(T1*(s3-s2)/T3*(T1+T3))\n",
      "dds2 = (2*(s3-s2)/T3*(T1+T3))-(2*(s2-s1)/T1*(T1+T3))"
     ],
     "language": "python",
     "metadata": {},
     "outputs": [],
     "prompt_number": 68
    },
    {
     "cell_type": "code",
     "collapsed": false,
     "input": [
      "ds2"
     ],
     "language": "python",
     "metadata": {},
     "outputs": [
      {
       "metadata": {},
       "output_type": "pyout",
       "prompt_number": 73,
       "text": [
        "array([ 0.,  0.,  0.])"
       ]
      }
     ],
     "prompt_number": 73
    },
    {
     "cell_type": "code",
     "collapsed": false,
     "input": [
      "ds =ds2\n",
      "dds=dds2\n",
      "ds"
     ],
     "language": "python",
     "metadata": {},
     "outputs": [
      {
       "metadata": {},
       "output_type": "pyout",
       "prompt_number": 72,
       "text": [
        "array([ 0.,  0.,  0.])"
       ]
      }
     ],
     "prompt_number": 72
    },
    {
     "cell_type": "code",
     "collapsed": false,
     "input": [
      "#Trying to solve for p\n",
      "r_guess=10 #[AU] #Initial guess\n",
      "\n",
      "p_lst = []\n",
      "r_lst = []\n",
      "for i in np.arange(5):\n",
      "    print i\n",
      "    if (i>=1):\n",
      "        r_guess = r_lst[i] #last guess\n",
      "    p = k**2*(1/R**3-1/r_guess**3)*(np.dot(ds,np.cross(R,s)))/(np.dot(ds,np.cross(dds,s)))\n",
      "    r_guess = np.sqrt(p**2+R**2+2*p*np.dot(R,s))\n",
      "    print \"p: \",p\n",
      "    print \"r_guess: \",r_guess\n",
      "#     p_lst.append(p)\n",
      "#     r_lst.append(r_guess)"
     ],
     "language": "python",
     "metadata": {},
     "outputs": [
      {
       "output_type": "stream",
       "stream": "stdout",
       "text": [
        "0\n",
        "p:  [ nan  nan  nan]\n",
        "r_guess:  [ nan  nan  nan]\n",
        "1\n"
       ]
      },
      {
       "output_type": "stream",
       "stream": "stderr",
       "text": [
        "-c:10: RuntimeWarning: invalid value encountered in divide\n"
       ]
      },
      {
       "ename": "IndexError",
       "evalue": "list index out of range",
       "output_type": "pyerr",
       "traceback": [
        "\u001b[0;31m---------------------------------------------------------------------------\u001b[0m\n\u001b[0;31mIndexError\u001b[0m                                Traceback (most recent call last)",
        "\u001b[0;32m<ipython-input-70-d675c310043d>\u001b[0m in \u001b[0;36m<module>\u001b[0;34m()\u001b[0m\n\u001b[1;32m      7\u001b[0m     \u001b[0;32mprint\u001b[0m \u001b[0mi\u001b[0m\u001b[0;34m\u001b[0m\u001b[0m\n\u001b[1;32m      8\u001b[0m     \u001b[0;32mif\u001b[0m \u001b[0;34m(\u001b[0m\u001b[0mi\u001b[0m\u001b[0;34m>=\u001b[0m\u001b[0;36m1\u001b[0m\u001b[0;34m)\u001b[0m\u001b[0;34m:\u001b[0m\u001b[0;34m\u001b[0m\u001b[0m\n\u001b[0;32m----> 9\u001b[0;31m         \u001b[0mr_guess\u001b[0m \u001b[0;34m=\u001b[0m \u001b[0mr_lst\u001b[0m\u001b[0;34m[\u001b[0m\u001b[0mi\u001b[0m\u001b[0;34m]\u001b[0m \u001b[0;31m#last guess\u001b[0m\u001b[0;34m\u001b[0m\u001b[0m\n\u001b[0m\u001b[1;32m     10\u001b[0m     \u001b[0mp\u001b[0m \u001b[0;34m=\u001b[0m \u001b[0mk\u001b[0m\u001b[0;34m**\u001b[0m\u001b[0;36m2\u001b[0m\u001b[0;34m*\u001b[0m\u001b[0;34m(\u001b[0m\u001b[0;36m1\u001b[0m\u001b[0;34m/\u001b[0m\u001b[0mR\u001b[0m\u001b[0;34m**\u001b[0m\u001b[0;36m3\u001b[0m\u001b[0;34m-\u001b[0m\u001b[0;36m1\u001b[0m\u001b[0;34m/\u001b[0m\u001b[0mr_guess\u001b[0m\u001b[0;34m**\u001b[0m\u001b[0;36m3\u001b[0m\u001b[0;34m)\u001b[0m\u001b[0;34m*\u001b[0m\u001b[0;34m(\u001b[0m\u001b[0mnp\u001b[0m\u001b[0;34m.\u001b[0m\u001b[0mdot\u001b[0m\u001b[0;34m(\u001b[0m\u001b[0mds\u001b[0m\u001b[0;34m,\u001b[0m\u001b[0mnp\u001b[0m\u001b[0;34m.\u001b[0m\u001b[0mcross\u001b[0m\u001b[0;34m(\u001b[0m\u001b[0mR\u001b[0m\u001b[0;34m,\u001b[0m\u001b[0ms\u001b[0m\u001b[0;34m)\u001b[0m\u001b[0;34m)\u001b[0m\u001b[0;34m)\u001b[0m\u001b[0;34m/\u001b[0m\u001b[0;34m(\u001b[0m\u001b[0mnp\u001b[0m\u001b[0;34m.\u001b[0m\u001b[0mdot\u001b[0m\u001b[0;34m(\u001b[0m\u001b[0mds\u001b[0m\u001b[0;34m,\u001b[0m\u001b[0mnp\u001b[0m\u001b[0;34m.\u001b[0m\u001b[0mcross\u001b[0m\u001b[0;34m(\u001b[0m\u001b[0mdds\u001b[0m\u001b[0;34m,\u001b[0m\u001b[0ms\u001b[0m\u001b[0;34m)\u001b[0m\u001b[0;34m)\u001b[0m\u001b[0;34m)\u001b[0m\u001b[0;34m\u001b[0m\u001b[0m\n\u001b[1;32m     11\u001b[0m     \u001b[0mr_guess\u001b[0m \u001b[0;34m=\u001b[0m \u001b[0mnp\u001b[0m\u001b[0;34m.\u001b[0m\u001b[0msqrt\u001b[0m\u001b[0;34m(\u001b[0m\u001b[0mp\u001b[0m\u001b[0;34m**\u001b[0m\u001b[0;36m2\u001b[0m\u001b[0;34m+\u001b[0m\u001b[0mR\u001b[0m\u001b[0;34m**\u001b[0m\u001b[0;36m2\u001b[0m\u001b[0;34m+\u001b[0m\u001b[0;36m2\u001b[0m\u001b[0;34m*\u001b[0m\u001b[0mp\u001b[0m\u001b[0;34m*\u001b[0m\u001b[0mnp\u001b[0m\u001b[0;34m.\u001b[0m\u001b[0mdot\u001b[0m\u001b[0;34m(\u001b[0m\u001b[0mR\u001b[0m\u001b[0;34m,\u001b[0m\u001b[0ms\u001b[0m\u001b[0;34m)\u001b[0m\u001b[0;34m)\u001b[0m\u001b[0;34m\u001b[0m\u001b[0m\n",
        "\u001b[0;31mIndexError\u001b[0m: list index out of range"
       ]
      }
     ],
     "prompt_number": 70
    },
    {
     "cell_type": "code",
     "collapsed": false,
     "input": [
      "r_lst"
     ],
     "language": "python",
     "metadata": {},
     "outputs": [
      {
       "metadata": {},
       "output_type": "pyout",
       "prompt_number": 71,
       "text": [
        "[]"
       ]
      }
     ],
     "prompt_number": 71
    },
    {
     "cell_type": "code",
     "collapsed": false,
     "input": [],
     "language": "python",
     "metadata": {},
     "outputs": [],
     "prompt_number": 71
    }
   ],
   "metadata": {}
  }
 ]
}