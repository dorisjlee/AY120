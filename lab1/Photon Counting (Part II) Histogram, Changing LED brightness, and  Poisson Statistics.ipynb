{
 "metadata": {
  "name": "",
  "signature": "sha256:c8de9ba549ba76b7bc80b5509d82b4b28b97f92c6bd2990956aeb9cb68be7827"
 },
 "nbformat": 3,
 "nbformat_minor": 0,
 "worksheets": [
  {
   "cells": [
    {
     "cell_type": "code",
     "collapsed": false,
     "input": [
      "%matplotlib inline"
     ],
     "language": "python",
     "metadata": {},
     "outputs": [],
     "prompt_number": 1
    },
    {
     "cell_type": "code",
     "collapsed": false,
     "input": [
      "import matplotlib.pyplot as plt\n",
      "import numpy as np"
     ],
     "language": "python",
     "metadata": {},
     "outputs": [],
     "prompt_number": 2
    },
    {
     "cell_type": "code",
     "collapsed": false,
     "input": [
      "cd data/"
     ],
     "language": "python",
     "metadata": {},
     "outputs": [
      {
       "output_type": "stream",
       "stream": "stdout",
       "text": [
        "/Users/dorislee/Desktop/Fall2014/AY120/lab1/data\n"
       ]
      }
     ],
     "prompt_number": 3
    },
    {
     "cell_type": "code",
     "collapsed": false,
     "input": [
      "ls"
     ],
     "language": "python",
     "metadata": {},
     "outputs": [
      {
       "output_type": "stream",
       "stream": "stdout",
       "text": [
        "\u001b[31mmsjidlmh_140906_1051_40.csv\u001b[m\u001b[m* \u001b[31mmsjidlmh_140906_1052_40.csv\u001b[m\u001b[m* \u001b[31mmsjidlmh_140906_1057_50.csv\u001b[m\u001b[m*\r\n"
       ]
      }
     ],
     "prompt_number": 4
    },
    {
     "cell_type": "code",
     "collapsed": false,
     "input": [
      "file  = \"msjidlmh_140906_1057_50.csv\"\n",
      "x = np.loadtxt(file,delimiter=',',dtype=np.int32)\n",
      "t = x[:,1]\n",
      "dt =t[1:] - t[0:-1]"
     ],
     "language": "python",
     "metadata": {},
     "outputs": [],
     "prompt_number": 5
    },
    {
     "cell_type": "code",
     "collapsed": false,
     "input": [
      "def histo(bsize,file = \"msjidlmh_140906_1057_50.csv\"):\n",
      "    N = bsize\n",
      "    #binwidth\n",
      "    bw = (dt.max()-dt.min())/(N-1.)\n",
      "    bin1 = dt.min()+ bw*np.arange(N)\n",
      "    #define the array to hold the occurrence count\n",
      "    bincount= np.array([])\n",
      "    for bin in bin1:\n",
      "        count = np.where((dt>=bin)&(dt<bin+bw))[0].size\n",
      "        bincount = np.append(bincount,count)\n",
      "    #bin center\n",
      "    binc = bin1+0.5*bw\n",
      "    plt.figure()\n",
      "    plt.plot(binc,bincount,drawstyle= 'steps-mid')\n",
      "    plt.title(\"Histogram\", fontsize=12)\n",
      "    plt.xlabel(\"Interval[ticks]\",fontsize=12)\n",
      "    plt.ylabel(\"Frequency\",fontsize=12)"
     ],
     "language": "python",
     "metadata": {},
     "outputs": [],
     "prompt_number": 50
    },
    {
     "cell_type": "code",
     "collapsed": false,
     "input": [
      "histo(500)"
     ],
     "language": "python",
     "metadata": {},
     "outputs": [
      {
       "metadata": {},
       "output_type": "display_data",
       "png": "[encoded data removed]",
       "text": [
        "<matplotlib.figure.Figure at 0x1041de310>"
       ]
      }
     ],
     "prompt_number": 7
    },
    {
     "cell_type": "code",
     "collapsed": false,
     "input": [
      "histo(100000)\n",
      "plt.xlim(0,4000)\n",
      "plt.ylim(0,700)"
     ],
     "language": "python",
     "metadata": {},
     "outputs": [
      {
       "metadata": {},
       "output_type": "pyout",
       "prompt_number": 8,
       "text": [
        "(0, 700)"
       ]
      },
      {
       "metadata": {},
       "output_type": "display_data",
       "png": "[encoded data removed]",
       "text": [
        "<matplotlib.figure.Figure at 0x1038c8090>"
       ]
      }
     ],
     "prompt_number": 8
    },
    {
     "cell_type": "markdown",
     "metadata": {},
     "source": [
      "Afterpulse is seen immediately after the original pulse and then there is a graduate decline of ticks in the next ~3000 clock ticks "
     ]
    },
    {
     "cell_type": "code",
     "collapsed": false,
     "input": [
      "fig = plt.figure()\n",
      "ax = fig.add_subplot(111)\n",
      "histo(500000)\n",
      "plt.xlim(0,4000)\n",
      "plt.ylim(0,700)\n",
      "ax.annotate('afterpulse', xy=(250, 250), xytext=(300, 300),arrowprops=dict(facecolor='black', shrink=0.05),)\n",
      "ax.annotate('original pulse', xy=(100, 500), xytext=(300, 500),arrowprops=dict(facecolor='black', shrink=0.05),)\n",
      "plt.title(\"Example of an afterpulse in on tick cycle\",fontsize=12)"
     ],
     "language": "python",
     "metadata": {},
     "outputs": [
      {
       "metadata": {},
       "output_type": "pyout",
       "prompt_number": 51,
       "text": [
        "<matplotlib.text.Text at 0x1d9601250>"
       ]
      },
      {
       "metadata": {},
       "output_type": "display_data",
       "png": "[encoded data removed]",
       "text": [
        "<matplotlib.figure.Figure at 0x1d9616b90>"
       ]
      },
      {
       "metadata": {},
       "output_type": "display_data",
       "png": "[encoded data removed]",
       "text": [
        "<matplotlib.figure.Figure at 0x1d960f290>"
       ]
      }
     ],
     "prompt_number": 51
    },
    {
     "cell_type": "markdown",
     "metadata": {},
     "source": [
      "Showing that this is a Poisson process"
     ]
    },
    {
     "cell_type": "code",
     "collapsed": false,
     "input": [
      "histo(50)"
     ],
     "language": "python",
     "metadata": {},
     "outputs": [
      {
       "metadata": {},
       "output_type": "display_data",
       "png": "[encoded data removed]",
       "text": [
        "<matplotlib.figure.Figure at 0x1038ef490>"
       ]
      }
     ],
     "prompt_number": 10
    },
    {
     "cell_type": "code",
     "collapsed": false,
     "input": [
      "import numpy as np\n",
      "import matplotlib.pyplot as plt\n",
      "from scipy.optimize import curve_fit\n",
      "from scipy.misc import factorial\n",
      "\n",
      "\n",
      "# data = np.random.poisson(2, 1000)\n",
      "data = dt\n",
      "xlen=len(dt)\n",
      "print xlen\n",
      "entries, bin_edges, patches = plt.hist(data, bins=10)#,  normed=True)\n",
      "#bincenter\n",
      "bc = 0.5*(bin_edges[1:] + bin_edges[:-1])\n",
      "def poisson(x,mu):\n",
      "    return (mu**x/factorial(x)) * np.exp(-mu)\n",
      "parameters, cov_matrix = curve_fit(poisson, bc, entries) \n",
      "print (parameters)\n",
      "# plot poisson-deviation with fitted parameter\n",
      "x_plot = np.linspace(0, 6e6,xlen)\n",
      "plt.plot(x_plot, poisson(x_plot, *parameters), 'r-', lw=2)\n",
      "# plt.plot(entries)"
     ],
     "language": "python",
     "metadata": {},
     "outputs": [
      {
       "output_type": "stream",
       "stream": "stdout",
       "text": [
        "99833\n",
        "[ 1.]"
       ]
      },
      {
       "output_type": "stream",
       "stream": "stdout",
       "text": [
        "\n"
       ]
      },
      {
       "metadata": {},
       "output_type": "pyout",
       "prompt_number": 11,
       "text": [
        "[<matplotlib.lines.Line2D at 0x109963210>]"
       ]
      },
      {
       "metadata": {},
       "output_type": "display_data",
       "png": "[encoded data removed]",
       "text": [
        "<matplotlib.figure.Figure at 0x107a9c7d0>"
       ]
      }
     ],
     "prompt_number": 11
    },
    {
     "cell_type": "code",
     "collapsed": false,
     "input": [
      "import numpy as np\n",
      "import matplotlib.pyplot as plt\n",
      "from scipy.optimize import curve_fit\n",
      "from scipy.misc import factorial\n",
      "\n",
      "\n",
      "# get poisson deviated random numbers\n",
      "data = np.random.poisson(2, 1000)\n",
      "\n",
      "# the bins should be of integer width, because poisson is an integer distribution\n",
      "entries, bin_edges, patches = plt.hist(data, bins=11, range=[-0.5, 10.5], normed=True)\n",
      "\n",
      "# calculate binmiddles\n",
      "bin_middles = 0.5*(bin_edges[1:] + bin_edges[:-1])\n",
      "\n",
      "# poisson function, parameter lamb is the fit parameter\n",
      "def poisson(k, lamb):\n",
      "    return (lamb**k/factorial(k)) * np.exp(-lamb)\n",
      "\n",
      "# fit with curve_fit\n",
      "parameters, cov_matrix = curve_fit(poisson, bin_middles, entries) \n",
      "print (parameters)\n",
      "# plot poisson-deviation with fitted parameter\n",
      "x_plot = np.linspace(0, 20, 1000)\n",
      "\n",
      "plt.plot(x_plot, poisson(x_plot, *parameters), 'r-', lw=2)\n",
      "plt.show()"
     ],
     "language": "python",
     "metadata": {},
     "outputs": [
      {
       "output_type": "stream",
       "stream": "stdout",
       "text": [
        "[ 1.92094542]\n"
       ]
      },
      {
       "metadata": {},
       "output_type": "display_data",
       "png": "[encoded data removed]",
       "text": [
        "<matplotlib.figure.Figure at 0x109864650>"
       ]
      }
     ],
     "prompt_number": 12
    },
    {
     "cell_type": "code",
     "collapsed": false,
     "input": [
      "t = np.arange(1,8e6)\n",
      "poisson = (1./t) * np.exp(- delta_t/float(t))\n",
      "# plot poisson-deviation with fitted parameter\n",
      "x_plot = np.linspace(0, 8e6, 1000000)\n",
      "plt.plot(poisson)"
     ],
     "language": "python",
     "metadata": {},
     "outputs": [
      {
       "ename": "NameError",
       "evalue": "name 'delta_t' is not defined",
       "output_type": "pyerr",
       "traceback": [
        "\u001b[0;31m---------------------------------------------------------------------------\u001b[0m\n\u001b[0;31mNameError\u001b[0m                                 Traceback (most recent call last)",
        "\u001b[0;32m<ipython-input-13-8d4cde31d2ef>\u001b[0m in \u001b[0;36m<module>\u001b[0;34m()\u001b[0m\n\u001b[1;32m      1\u001b[0m \u001b[0mt\u001b[0m \u001b[0;34m=\u001b[0m \u001b[0mnp\u001b[0m\u001b[0;34m.\u001b[0m\u001b[0marange\u001b[0m\u001b[0;34m(\u001b[0m\u001b[0;36m1\u001b[0m\u001b[0;34m,\u001b[0m\u001b[0;36m8e6\u001b[0m\u001b[0;34m)\u001b[0m\u001b[0;34m\u001b[0m\u001b[0m\n\u001b[0;32m----> 2\u001b[0;31m \u001b[0mpoisson\u001b[0m \u001b[0;34m=\u001b[0m \u001b[0;34m(\u001b[0m\u001b[0;36m1.\u001b[0m\u001b[0;34m/\u001b[0m\u001b[0mt\u001b[0m\u001b[0;34m)\u001b[0m \u001b[0;34m*\u001b[0m \u001b[0mnp\u001b[0m\u001b[0;34m.\u001b[0m\u001b[0mexp\u001b[0m\u001b[0;34m(\u001b[0m\u001b[0;34m-\u001b[0m \u001b[0mdelta_t\u001b[0m\u001b[0;34m/\u001b[0m\u001b[0mfloat\u001b[0m\u001b[0;34m(\u001b[0m\u001b[0mt\u001b[0m\u001b[0;34m)\u001b[0m\u001b[0;34m)\u001b[0m\u001b[0;34m\u001b[0m\u001b[0m\n\u001b[0m\u001b[1;32m      3\u001b[0m \u001b[0;31m# plot poisson-deviation with fitted parameter\u001b[0m\u001b[0;34m\u001b[0m\u001b[0;34m\u001b[0m\u001b[0m\n\u001b[1;32m      4\u001b[0m \u001b[0mx_plot\u001b[0m \u001b[0;34m=\u001b[0m \u001b[0mnp\u001b[0m\u001b[0;34m.\u001b[0m\u001b[0mlinspace\u001b[0m\u001b[0;34m(\u001b[0m\u001b[0;36m0\u001b[0m\u001b[0;34m,\u001b[0m \u001b[0;36m8e6\u001b[0m\u001b[0;34m,\u001b[0m \u001b[0;36m1000000\u001b[0m\u001b[0;34m)\u001b[0m\u001b[0;34m\u001b[0m\u001b[0m\n\u001b[1;32m      5\u001b[0m \u001b[0mplt\u001b[0m\u001b[0;34m.\u001b[0m\u001b[0mplot\u001b[0m\u001b[0;34m(\u001b[0m\u001b[0mpoisson\u001b[0m\u001b[0;34m)\u001b[0m\u001b[0;34m\u001b[0m\u001b[0m\n",
        "\u001b[0;31mNameError\u001b[0m: name 'delta_t' is not defined"
       ]
      }
     ],
     "prompt_number": 13
    },
    {
     "cell_type": "markdown",
     "metadata": {},
     "source": [
      "On logscale"
     ]
    },
    {
     "cell_type": "code",
     "collapsed": false,
     "input": [
      "histo(10)\n",
      "plt.semilogy()\n",
      "import matplotlib.mlab as mlab\n",
      "plt.ticklabel_format(style='sci', axis='x', scilimits=(0,0))"
     ],
     "language": "python",
     "metadata": {},
     "outputs": []
    },
    {
     "cell_type": "code",
     "collapsed": false,
     "input": [
      "cd ../changingLEDbrightness_data/"
     ],
     "language": "python",
     "metadata": {},
     "outputs": []
    },
    {
     "cell_type": "heading",
     "level": 3,
     "metadata": {},
     "source": [
      "Changing the LED brightness"
     ]
    },
    {
     "cell_type": "markdown",
     "metadata": {},
     "source": [
      "Assuming 360 deg for the knob, there is no notable diffference in the squawker sound from 180 to 360, we start from 0 to 90 (max) degree and increase the knob by 15 deg for each dataset."
     ]
    },
    {
     "cell_type": "code",
     "collapsed": false,
     "input": [
      "cd changingLEDbrightness_data/"
     ],
     "language": "python",
     "metadata": {},
     "outputs": [
      {
       "output_type": "stream",
       "stream": "stdout",
       "text": [
        "/Users/dorislee/Desktop/Fall2014/AY120/lab1/changingLEDbrightness_data\n"
       ]
      }
     ],
     "prompt_number": 13
    },
    {
     "cell_type": "code",
     "collapsed": false,
     "input": [
      "def calc_sample_stats(file):\n",
      "    x = np.loadtxt(file,delimiter=',',dtype=np.int32)\n",
      "    t = x[:,1]\n",
      "    dt =t[1:] - t[0:-1]\n",
      "    return [np.mean(dt),np.std(dt)]"
     ],
     "language": "python",
     "metadata": {},
     "outputs": [],
     "prompt_number": 14
    },
    {
     "cell_type": "markdown",
     "metadata": {},
     "source": [
      "For a exponential distribution $\\mu$ and $\\sigma$ should be the same, $\\therefore$ slope =1 "
     ]
    },
    {
     "cell_type": "code",
     "collapsed": false,
     "input": [
      "import glob\n",
      "from matplotlib.legend_handler import HandlerLine2D\n",
      "mlst = []\n",
      "stdlst=[]\n",
      "for i in glob.glob(\"robot_*\"):\n",
      "    stats = calc_sample_stats(i)\n",
      "    mlst.append(stats[0])\n",
      "    stdlst.append(stats[1])\n",
      "plt.plot(mlst,stdlst,'o')\n",
      "plt.plot(mlst,stdlst,label=\"Experimental Result\")\n",
      "plt.ticklabel_format(style='sci', axis='x', scilimits=(0,0))\n",
      "plt.title(\"Results from changing LED brightness\",fontsize=12)\n",
      "plt.xlabel(\"Interval sample mean [ticks]\",fontsize=12)\n",
      "plt.ylabel(\"Interval standard deviation [ticks]\",fontsize=12)\n",
      "plt.plot(np.arange(9e6),np.arange(9e6),label=\"Theoretical prediction\")\n",
      "plt.legend(loc='upper left')"
     ],
     "language": "python",
     "metadata": {},
     "outputs": [
      {
       "metadata": {},
       "output_type": "pyout",
       "prompt_number": 47,
       "text": [
        "<matplotlib.legend.Legend at 0x1054bc8d0>"
       ]
      },
      {
       "metadata": {},
       "output_type": "display_data",
       "png": "[encoded data removed]",
       "text": [
        "<matplotlib.figure.Figure at 0x10562f310>"
       ]
      }
     ],
     "prompt_number": 47
    },
    {
     "cell_type": "code",
     "collapsed": false,
     "input": [
      "np.sort([8740092.9418663438, 6923158.1139419675, 3551622.8331816802, 760160.51764230104, 585288.68911131332, 562078.13608330803])"
     ],
     "language": "python",
     "metadata": {},
     "outputs": [
      {
       "metadata": {},
       "output_type": "pyout",
       "prompt_number": 37,
       "text": [
        "array([  562078.13608331,   585288.68911131,   760160.5176423 ,\n",
        "        3551622.83318168,  6923158.11394197,  8740092.94186634])"
       ]
      }
     ],
     "prompt_number": 37
    },
    {
     "cell_type": "code",
     "collapsed": false,
     "input": [],
     "language": "python",
     "metadata": {},
     "outputs": [
      {
       "metadata": {},
       "output_type": "pyout",
       "prompt_number": 32,
       "text": [
        "10067811.078583548"
       ]
      }
     ],
     "prompt_number": 32
    },
    {
     "cell_type": "heading",
     "level": 3,
     "metadata": {},
     "source": [
      "Binned Events"
     ]
    },
    {
     "cell_type": "code",
     "collapsed": false,
     "input": [
      "file= \"robot_140913_1127_40.csv\" #one on max\n",
      "x = np.loadtxt(file,delimiter=',',dtype=np.int32)\n",
      "t = x[:,1]\n",
      "dt =t[1:] - t[0:-1]\n",
      "wa = np.where(dt > 3000)[0]\n",
      "dt = dt[wa]\n",
      "# Reconstruct the time series (without the 32-bit jumps) \n",
      "t1 = np.cumsum(dt)"
     ],
     "language": "python",
     "metadata": {},
     "outputs": []
    },
    {
     "cell_type": "code",
     "collapsed": false,
     "input": [
      "ax1 =plt.subplot(311)\n",
      "plt.plot(t1) # t1 is the arrival time in clock ticks  without the 32 bit cycling pattern\n",
      "plt.xlabel(\"Event number\")\n",
      "plt.ylabel(\"Time[ticks]\")\n",
      "ax2 = plt.subplot(312)\n",
      "plt.xlabel(\"Time[ticks]\")\n",
      "plt.ylabel(\"Counts per bin\")\n",
      "hist,binedges=np.histogram(t1,1500)\n",
      "plt.plot(hist)\n",
      "ax3 = plt.subplot(313)\n",
      "hist,binedges=np.histogram(dt,8)\n",
      "plt.plot(hist,drawstyle= 'steps-mid')\n",
      "\n",
      "plt.setp(ax1.get_xticklabels(), visible=False)\n",
      "plt.setp(ax2.get_xticklabels(), visible=False)\n",
      "plt.setp(ax3.get_xticklabels(), visible=False)"
     ],
     "language": "python",
     "metadata": {},
     "outputs": []
    },
    {
     "cell_type": "heading",
     "level": 3,
     "metadata": {},
     "source": [
      "Notes"
     ]
    },
    {
     "cell_type": "markdown",
     "metadata": {},
     "source": [
      "- when set squawker rate to 0.01 we can hear afterpulse pattern\n",
      "- Don't take data too fast on CoinPro so that the time stamp for the file is not overridden.\n",
      "- Unable to plot $p(\\Delta t) = 1/ \\tau * exp(-\\Delta t /\\tau)$, isn't Poisson process described by $\\lambda^k e^{-\\lambda}/k!$"
     ]
    },
    {
     "cell_type": "code",
     "collapsed": false,
     "input": [],
     "language": "python",
     "metadata": {},
     "outputs": []
    }
   ],
   "metadata": {}
  }
 ]
}