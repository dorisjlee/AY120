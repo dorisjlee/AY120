{
 "metadata": {
  "name": "",
  "signature": "sha256:8906eb57e1f1e82dc2b84e11678ea306d32eab0f1b3a3fffff6fe4ecddb3e385"
 },
 "nbformat": 3,
 "nbformat_minor": 0,
 "worksheets": [
  {
   "cells": [
    {
     "cell_type": "markdown",
     "metadata": {},
     "source": [
      "- What is the difference between sample mean and distribution mean /N-1 or /N "
     ]
    },
    {
     "cell_type": "code",
     "collapsed": false,
     "input": [],
     "language": "python",
     "metadata": {},
     "outputs": []
    }
   ],
   "metadata": {}
  }
 ]
}