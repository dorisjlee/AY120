{
 "metadata": {
  "name": "",
  "signature": "sha256:5422cab6eeaac614fe585afd49b40a1b924b2eefe64642888ca32297d46ac1fd"
 },
 "nbformat": 3,
 "nbformat_minor": 0,
 "worksheets": [
  {
   "cells": [
    {
     "cell_type": "code",
     "collapsed": false,
     "input": [
      "%matplotlib inline"
     ],
     "language": "python",
     "metadata": {},
     "outputs": [],
     "prompt_number": 1
    },
    {
     "cell_type": "code",
     "collapsed": false,
     "input": [
      "import matplotlib.pyplot as plt\n",
      "import numpy as np"
     ],
     "language": "python",
     "metadata": {},
     "outputs": [],
     "prompt_number": 2
    },
    {
     "cell_type": "code",
     "collapsed": false,
     "input": [
      "cd data/"
     ],
     "language": "python",
     "metadata": {},
     "outputs": [
      {
       "output_type": "stream",
       "stream": "stdout",
       "text": [
        "/Users/dorislee/Desktop/Fall2014/AY120/lab1/data\n"
       ]
      }
     ],
     "prompt_number": 3
    },
    {
     "cell_type": "code",
     "collapsed": false,
     "input": [
      "ls"
     ],
     "language": "python",
     "metadata": {},
     "outputs": [
      {
       "output_type": "stream",
       "stream": "stdout",
       "text": [
        "\u001b[31mmsjidlmh_140906_1051_40.csv\u001b[m\u001b[m* \u001b[31mmsjidlmh_140906_1052_40.csv\u001b[m\u001b[m* \u001b[31mmsjidlmh_140906_1057_50.csv\u001b[m\u001b[m*\r\n"
       ]
      }
     ],
     "prompt_number": 4
    },
    {
     "cell_type": "code",
     "collapsed": false,
     "input": [
      "file  = \"msjidlmh_140906_1057_50.csv\"\n",
      "x = np.loadtxt(file,delimiter=',',dtype=np.int32)\n",
      "t = x[:,1]\n",
      "dt =t[1:] - t[0:-1]"
     ],
     "language": "python",
     "metadata": {},
     "outputs": [],
     "prompt_number": 5
    },
    {
     "cell_type": "code",
     "collapsed": false,
     "input": [
      "def histo(bsize,file = \"msjidlmh_140906_1057_50.csv\"):\n",
      "    N = bsize\n",
      "    #binwidth\n",
      "    bw = (dt.max()-dt.min())/(N-1.)\n",
      "    bin1 = dt.min()+ bw*np.arange(N)\n",
      "    #define the array to hold the occurrence count\n",
      "    bincount= np.array([])\n",
      "    for bin in bin1:\n",
      "        count = np.where((dt>=bin)&(dt<bin+bw))[0].size\n",
      "        bincount = np.append(bincount,count)\n",
      "    #bin center\n",
      "    binc = bin1+0.5*bw\n",
      "    plt.figure()\n",
      "    plt.plot(binc,bincount,drawstyle= 'steps-mid')\n",
      "    plt.title(\"Histogram\", fontsize=12)\n",
      "    plt.xlabel(\"Interval[ticks]\")\n",
      "    plt.ylabel(\"Frequency\")"
     ],
     "language": "python",
     "metadata": {},
     "outputs": [],
     "prompt_number": 6
    },
    {
     "cell_type": "code",
     "collapsed": false,
     "input": [
      "histo(50)"
     ],
     "language": "python",
     "metadata": {},
     "outputs": [
      {
       "metadata": {},
       "output_type": "display_data",
       "png": "[encoded data removed]",
       "text": [
        "<matplotlib.figure.Figure at 0x1052964d0>"
       ]
      }
     ],
     "prompt_number": 7
    },
    {
     "cell_type": "code",
     "collapsed": false,
     "input": [
      "delta_t"
     ],
     "language": "python",
     "metadata": {},
     "outputs": [
      {
       "metadata": {},
       "output_type": "pyout",
       "prompt_number": 78,
       "text": [
        "561571.82698105834"
       ]
      }
     ],
     "prompt_number": 78
    },
    {
     "cell_type": "code",
     "collapsed": false,
     "input": [
      "num_events"
     ],
     "language": "python",
     "metadata": {},
     "outputs": [
      {
       "metadata": {},
       "output_type": "pyout",
       "prompt_number": 46,
       "text": [
        "99833"
       ]
      }
     ],
     "prompt_number": 46
    },
    {
     "cell_type": "code",
     "collapsed": false,
     "input": [
      "bin_edges"
     ],
     "language": "python",
     "metadata": {},
     "outputs": [
      {
       "metadata": {},
       "output_type": "pyout",
       "prompt_number": 101,
       "text": [
        "array([  7.70000000e+01,   1.40404760e+05,   2.80732520e+05,\n",
        "         4.21060280e+05,   5.61388040e+05,   7.01715800e+05,\n",
        "         8.42043560e+05,   9.82371320e+05,   1.12269908e+06,\n",
        "         1.26302684e+06,   1.40335460e+06,   1.54368236e+06,\n",
        "         1.68401012e+06,   1.82433788e+06,   1.96466564e+06,\n",
        "         2.10499340e+06,   2.24532116e+06,   2.38564892e+06,\n",
        "         2.52597668e+06,   2.66630444e+06,   2.80663220e+06,\n",
        "         2.94695996e+06,   3.08728772e+06,   3.22761548e+06,\n",
        "         3.36794324e+06,   3.50827100e+06,   3.64859876e+06,\n",
        "         3.78892652e+06,   3.92925428e+06,   4.06958204e+06,\n",
        "         4.20990980e+06,   4.35023756e+06,   4.49056532e+06,\n",
        "         4.63089308e+06,   4.77122084e+06,   4.91154860e+06,\n",
        "         5.05187636e+06,   5.19220412e+06,   5.33253188e+06,\n",
        "         5.47285964e+06,   5.61318740e+06,   5.75351516e+06,\n",
        "         5.89384292e+06,   6.03417068e+06,   6.17449844e+06,\n",
        "         6.31482620e+06,   6.45515396e+06,   6.59548172e+06,\n",
        "         6.73580948e+06,   6.87613724e+06,   7.01646500e+06])"
       ]
      }
     ],
     "prompt_number": 101
    },
    {
     "cell_type": "code",
     "collapsed": false,
     "input": [
      "import numpy as np\n",
      "import matplotlib.pyplot as plt\n",
      "from scipy.optimize import curve_fit\n",
      "data=dt\n",
      "num_events = len(dt)\n",
      "# entries, bin_edges, patches = plt.hist(data, bins=50)#,  normed=True)\n",
      "bc = 0.5*(bin_edges[1:] + bin_edges[:-1])\n",
      "delta_t=bin_edges[1:] - bin_edges[:-1]\n",
      "tau = np.mean(dt)\n",
      "# delta_t=1.42*10**7\n",
      "# plt.plot(num_events*(-np.exp(-(entries+delta_t)/tau)+np.exp(-entries/tau)))\n",
      "# def exp(x,tau):\n",
      "#     return num_events*(1./x) * np.exp(- tau/x)\n",
      "# parameters, cov_matrix = curve_fit(exp, bc, entries) \n",
      "# print (parameters)\n",
      "# x_plot = np.linspace(0, 6e6,num_events)\n",
      "# plt.plot(x_plot, exp(x_plot, *parameters), 'r-', lw=2)\n",
      "# for t in entries:\n",
      "\n",
      "plt.plot(num_events*(1./tau) * np.exp(- delta_t/tau), 'r-')\n",
      "# plt.plot(bc,'r-')\n",
      "# plt.plot(entries, 'r-')"
     ],
     "language": "python",
     "metadata": {},
     "outputs": [
      {
       "metadata": {},
       "output_type": "pyout",
       "prompt_number": 115,
       "text": [
        "[<matplotlib.lines.Line2D at 0x10f00fbd0>]"
       ]
      },
      {
       "metadata": {},
       "output_type": "display_data",
       "png": "[encoded data removed]",
       "text": [
        "<matplotlib.figure.Figure at 0x10eca3e90>"
       ]
      }
     ],
     "prompt_number": 115
    },
    {
     "cell_type": "code",
     "collapsed": false,
     "input": [
      "import numpy as np\n",
      "import matplotlib.pyplot as plt\n",
      "data=dt\n",
      "num_events = len(dt)\n",
      "# entries, bin_edges, patches = plt.hist(data, bins=50)#,  normed=True)\n",
      "bc = 0.5*(bin_edges[1:] + bin_edges[:-1])\n",
      "delta_t=bin_edges[1:] - bin_edges[:-1]\n",
      "tau = np.mean(dt)\n",
      "# delta_t=1.42*10**7\n",
      "plt.plot(num_events*(1./tau) * np.exp(- delta_t/tau), 'r-')"
     ],
     "language": "python",
     "metadata": {},
     "outputs": [
      {
       "metadata": {},
       "output_type": "pyout",
       "prompt_number": 119,
       "text": [
        "[<matplotlib.lines.Line2D at 0x10f184350>]"
       ]
      },
      {
       "metadata": {},
       "output_type": "display_data",
       "png": "[encoded data removed]",
       "text": [
        "<matplotlib.figure.Figure at 0x10f0829d0>"
       ]
      }
     ],
     "prompt_number": 119
    },
    {
     "cell_type": "code",
     "collapsed": false,
     "input": [
      "import numpy as np\n",
      "import matplotlib.pyplot as plt\n",
      "from scipy.optimize import curve_fit\n",
      "def exp(x,delta_t):\n",
      "    return num_events*(1./x) * np.exp(- delta_t/x)\n",
      "parameters, cov_matrix = curve_fit(exp, bc, entries) \n",
      "print (parameters)\n",
      "x_plot = np.linspace(0, 6e6,num_events)\n",
      "plt.plot(x_plot, exp(x_plot, *parameters), 'r-', lw=2)\n"
     ],
     "language": "python",
     "metadata": {},
     "outputs": [
      {
       "output_type": "stream",
       "stream": "stdout",
       "text": [
        "[-99.34521388]\n"
       ]
      },
      {
       "metadata": {},
       "output_type": "pyout",
       "prompt_number": 110,
       "text": [
        "[<matplotlib.lines.Line2D at 0x10e30e3d0>]"
       ]
      },
      {
       "metadata": {},
       "output_type": "display_data",
       "png": "[encoded data removed]",
       "text": [
        "<matplotlib.figure.Figure at 0x10e1b43d0>"
       ]
      }
     ],
     "prompt_number": 110
    },
    {
     "cell_type": "code",
     "collapsed": false,
     "input": [],
     "language": "python",
     "metadata": {},
     "outputs": [
      {
       "metadata": {},
       "output_type": "pyout",
       "prompt_number": 98,
       "text": [
        "2147475512"
       ]
      }
     ],
     "prompt_number": 98
    },
    {
     "cell_type": "code",
     "collapsed": false,
     "input": [
      "len(entries)"
     ],
     "language": "python",
     "metadata": {},
     "outputs": [
      {
       "metadata": {},
       "output_type": "pyout",
       "prompt_number": 96,
       "text": [
        "50"
       ]
      }
     ],
     "prompt_number": 96
    },
    {
     "cell_type": "code",
     "collapsed": false,
     "input": [
      "1./(num_events/(1.42*10**7))"
     ],
     "language": "python",
     "metadata": {},
     "outputs": [
      {
       "metadata": {},
       "output_type": "pyout",
       "prompt_number": 89,
       "text": [
        "142.23753668626608"
       ]
      }
     ],
     "prompt_number": 89
    },
    {
     "cell_type": "code",
     "collapsed": false,
     "input": [
      "bc"
     ],
     "language": "python",
     "metadata": {},
     "outputs": [
      {
       "metadata": {},
       "output_type": "pyout",
       "prompt_number": 33,
       "text": [
        "array([  350896.4,  1052535.2,  1754174. ,  2455812.8,  3157451.6,\n",
        "        3859090.4,  4560729.2,  5262368. ,  5964006.8,  6665645.6])"
       ]
      }
     ],
     "prompt_number": 33
    },
    {
     "cell_type": "markdown",
     "metadata": {},
     "source": [
      "On logscale"
     ]
    },
    {
     "cell_type": "code",
     "collapsed": false,
     "input": [
      "histo(10)\n",
      "plt.semilogy()\n",
      "import matplotlib.mlab as mlab\n",
      "plt.ticklabel_format(style='sci', axis='x', scilimits=(0,0))"
     ],
     "language": "python",
     "metadata": {},
     "outputs": []
    },
    {
     "cell_type": "code",
     "collapsed": false,
     "input": [
      "cd ../changingLEDbrightness_data/"
     ],
     "language": "python",
     "metadata": {},
     "outputs": []
    },
    {
     "cell_type": "code",
     "collapsed": false,
     "input": [
      "file= \"robot_140913_1127_40.csv\" #one on max\n",
      "x = np.loadtxt(file,delimiter=',',dtype=np.int32)\n",
      "t = x[:,1]\n",
      "dt =t[1:] - t[0:-1]\n",
      "wa = np.where(dt > 3000)[0]\n",
      "dt = dt[wa]\n",
      "# Reconstruct the time series (without the 32-bit jumps) \n",
      "t1 = np.cumsum(dt)"
     ],
     "language": "python",
     "metadata": {},
     "outputs": []
    },
    {
     "cell_type": "code",
     "collapsed": false,
     "input": [
      "ax1 =plt.subplot(311)\n",
      "plt.plot(t1) # t1 is the arrival time in clock ticks  without the 32 bit cycling pattern\n",
      "plt.xlabel(\"Event number\")\n",
      "plt.ylabel(\"Time[ticks]\")\n",
      "ax2 = plt.subplot(312)\n",
      "plt.xlabel(\"Time[ticks]\")\n",
      "plt.ylabel(\"Counts per bin\")\n",
      "hist,binedges=np.histogram(t1,1500)\n",
      "plt.plot(hist)\n",
      "ax3 = plt.subplot(313)\n",
      "hist,binedges=np.histogram(dt,8)\n",
      "plt.plot(hist,drawstyle= 'steps-mid')\n",
      "\n",
      "plt.setp(ax1.get_xticklabels(), visible=False)\n",
      "plt.setp(ax2.get_xticklabels(), visible=False)\n",
      "plt.setp(ax3.get_xticklabels(), visible=False)"
     ],
     "language": "python",
     "metadata": {},
     "outputs": []
    },
    {
     "cell_type": "heading",
     "level": 3,
     "metadata": {},
     "source": [
      "Notes"
     ]
    },
    {
     "cell_type": "markdown",
     "metadata": {},
     "source": [
      "- when set squawker rate to 0.01 we can hear afterpulse pattern\n",
      "- Don't take data too fast on CoinPro so that the time stamp for the file is not overridden.\n",
      "- Unable to plot $p(\\Delta t) = 1/ \\tau * exp(-\\Delta t /\\tau)$, isn't Poisson process described by $\\lambda^k e^{-\\lambda}/k!$"
     ]
    },
    {
     "cell_type": "code",
     "collapsed": false,
     "input": [],
     "language": "python",
     "metadata": {},
     "outputs": []
    }
   ],
   "metadata": {}
  }
 ]
}